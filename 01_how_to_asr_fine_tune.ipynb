{
  "nbformat": 4,
  "nbformat_minor": 0,
  "metadata": {
    "colab": {
      "name": "01_how_to_asr_fine_tune.ipynb",
      "provenance": [],
      "collapsed_sections": [],
      "machine_shape": "hm",
      "include_colab_link": true
    },
    "kernelspec": {
      "name": "python3",
      "display_name": "Python 3"
    },
    "widgets": {
      "application/vnd.jupyter.widget-state+json": {
        "9986e6ae68924ba9be48d90643e56d99": {
          "model_module": "@jupyter-widgets/controls",
          "model_name": "HBoxModel",
          "model_module_version": "1.5.0",
          "state": {
            "_view_name": "HBoxView",
            "_dom_classes": [],
            "_model_name": "HBoxModel",
            "_view_module": "@jupyter-widgets/controls",
            "_model_module_version": "1.5.0",
            "_view_count": null,
            "_view_module_version": "1.5.0",
            "box_style": "",
            "layout": "IPY_MODEL_201ede35a3b14857b0b78ff8b58cf926",
            "_model_module": "@jupyter-widgets/controls",
            "children": [
              "IPY_MODEL_9b1c82c22a7a4539bb7602135b44f9cd",
              "IPY_MODEL_9437f100c5de4e3ea13e663f05c1bbf6",
              "IPY_MODEL_0553e3f74d9342e08d57e545047f7f4a"
            ]
          }
        },
        "201ede35a3b14857b0b78ff8b58cf926": {
          "model_module": "@jupyter-widgets/base",
          "model_name": "LayoutModel",
          "model_module_version": "1.2.0",
          "state": {
            "_view_name": "LayoutView",
            "grid_template_rows": null,
            "right": null,
            "justify_content": null,
            "_view_module": "@jupyter-widgets/base",
            "overflow": null,
            "_model_module_version": "1.2.0",
            "_view_count": null,
            "flex_flow": null,
            "width": null,
            "min_width": null,
            "border": null,
            "align_items": null,
            "bottom": null,
            "_model_module": "@jupyter-widgets/base",
            "top": null,
            "grid_column": null,
            "overflow_y": null,
            "overflow_x": null,
            "grid_auto_flow": null,
            "grid_area": null,
            "grid_template_columns": null,
            "flex": null,
            "_model_name": "LayoutModel",
            "justify_items": null,
            "grid_row": null,
            "max_height": null,
            "align_content": null,
            "visibility": null,
            "align_self": null,
            "height": null,
            "min_height": null,
            "padding": null,
            "grid_auto_rows": null,
            "grid_gap": null,
            "max_width": null,
            "order": null,
            "_view_module_version": "1.2.0",
            "grid_template_areas": null,
            "object_position": null,
            "object_fit": null,
            "grid_auto_columns": null,
            "margin": null,
            "display": null,
            "left": null
          }
        },
        "9b1c82c22a7a4539bb7602135b44f9cd": {
          "model_module": "@jupyter-widgets/controls",
          "model_name": "HTMLModel",
          "model_module_version": "1.5.0",
          "state": {
            "_view_name": "HTMLView",
            "style": "IPY_MODEL_40ed776cb24148fa9c193ca84f0c66be",
            "_dom_classes": [],
            "description": "",
            "_model_name": "HTMLModel",
            "placeholder": "​",
            "_view_module": "@jupyter-widgets/controls",
            "_model_module_version": "1.5.0",
            "value": "Downloading: ",
            "_view_count": null,
            "_view_module_version": "1.5.0",
            "description_tooltip": null,
            "_model_module": "@jupyter-widgets/controls",
            "layout": "IPY_MODEL_aeab3f90b8754de7a9e4276553bd5104"
          }
        },
        "9437f100c5de4e3ea13e663f05c1bbf6": {
          "model_module": "@jupyter-widgets/controls",
          "model_name": "FloatProgressModel",
          "model_module_version": "1.5.0",
          "state": {
            "_view_name": "ProgressView",
            "style": "IPY_MODEL_cae7902e61d04623b347e39c42a4c53e",
            "_dom_classes": [],
            "description": "",
            "_model_name": "FloatProgressModel",
            "bar_style": "success",
            "max": 4444,
            "_view_module": "@jupyter-widgets/controls",
            "_model_module_version": "1.5.0",
            "value": 4444,
            "_view_count": null,
            "_view_module_version": "1.5.0",
            "orientation": "horizontal",
            "min": 0,
            "description_tooltip": null,
            "_model_module": "@jupyter-widgets/controls",
            "layout": "IPY_MODEL_daedd0672fe147038b9bf99436905d92"
          }
        },
        "0553e3f74d9342e08d57e545047f7f4a": {
          "model_module": "@jupyter-widgets/controls",
          "model_name": "HTMLModel",
          "model_module_version": "1.5.0",
          "state": {
            "_view_name": "HTMLView",
            "style": "IPY_MODEL_17b7dc5969e04405b1a0f867c1c30348",
            "_dom_classes": [],
            "description": "",
            "_model_name": "HTMLModel",
            "placeholder": "​",
            "_view_module": "@jupyter-widgets/controls",
            "_model_module_version": "1.5.0",
            "value": " 22.5k/? [00:00&lt;00:00, 616kB/s]",
            "_view_count": null,
            "_view_module_version": "1.5.0",
            "description_tooltip": null,
            "_model_module": "@jupyter-widgets/controls",
            "layout": "IPY_MODEL_cfc7cfe7ce3146aa9e9821be0ca83860"
          }
        },
        "40ed776cb24148fa9c193ca84f0c66be": {
          "model_module": "@jupyter-widgets/controls",
          "model_name": "DescriptionStyleModel",
          "model_module_version": "1.5.0",
          "state": {
            "_view_name": "StyleView",
            "_model_name": "DescriptionStyleModel",
            "description_width": "",
            "_view_module": "@jupyter-widgets/base",
            "_model_module_version": "1.5.0",
            "_view_count": null,
            "_view_module_version": "1.2.0",
            "_model_module": "@jupyter-widgets/controls"
          }
        },
        "aeab3f90b8754de7a9e4276553bd5104": {
          "model_module": "@jupyter-widgets/base",
          "model_name": "LayoutModel",
          "model_module_version": "1.2.0",
          "state": {
            "_view_name": "LayoutView",
            "grid_template_rows": null,
            "right": null,
            "justify_content": null,
            "_view_module": "@jupyter-widgets/base",
            "overflow": null,
            "_model_module_version": "1.2.0",
            "_view_count": null,
            "flex_flow": null,
            "width": null,
            "min_width": null,
            "border": null,
            "align_items": null,
            "bottom": null,
            "_model_module": "@jupyter-widgets/base",
            "top": null,
            "grid_column": null,
            "overflow_y": null,
            "overflow_x": null,
            "grid_auto_flow": null,
            "grid_area": null,
            "grid_template_columns": null,
            "flex": null,
            "_model_name": "LayoutModel",
            "justify_items": null,
            "grid_row": null,
            "max_height": null,
            "align_content": null,
            "visibility": null,
            "align_self": null,
            "height": null,
            "min_height": null,
            "padding": null,
            "grid_auto_rows": null,
            "grid_gap": null,
            "max_width": null,
            "order": null,
            "_view_module_version": "1.2.0",
            "grid_template_areas": null,
            "object_position": null,
            "object_fit": null,
            "grid_auto_columns": null,
            "margin": null,
            "display": null,
            "left": null
          }
        },
        "cae7902e61d04623b347e39c42a4c53e": {
          "model_module": "@jupyter-widgets/controls",
          "model_name": "ProgressStyleModel",
          "model_module_version": "1.5.0",
          "state": {
            "_view_name": "StyleView",
            "_model_name": "ProgressStyleModel",
            "description_width": "",
            "_view_module": "@jupyter-widgets/base",
            "_model_module_version": "1.5.0",
            "_view_count": null,
            "_view_module_version": "1.2.0",
            "bar_color": null,
            "_model_module": "@jupyter-widgets/controls"
          }
        },
        "daedd0672fe147038b9bf99436905d92": {
          "model_module": "@jupyter-widgets/base",
          "model_name": "LayoutModel",
          "model_module_version": "1.2.0",
          "state": {
            "_view_name": "LayoutView",
            "grid_template_rows": null,
            "right": null,
            "justify_content": null,
            "_view_module": "@jupyter-widgets/base",
            "overflow": null,
            "_model_module_version": "1.2.0",
            "_view_count": null,
            "flex_flow": null,
            "width": null,
            "min_width": null,
            "border": null,
            "align_items": null,
            "bottom": null,
            "_model_module": "@jupyter-widgets/base",
            "top": null,
            "grid_column": null,
            "overflow_y": null,
            "overflow_x": null,
            "grid_auto_flow": null,
            "grid_area": null,
            "grid_template_columns": null,
            "flex": null,
            "_model_name": "LayoutModel",
            "justify_items": null,
            "grid_row": null,
            "max_height": null,
            "align_content": null,
            "visibility": null,
            "align_self": null,
            "height": null,
            "min_height": null,
            "padding": null,
            "grid_auto_rows": null,
            "grid_gap": null,
            "max_width": null,
            "order": null,
            "_view_module_version": "1.2.0",
            "grid_template_areas": null,
            "object_position": null,
            "object_fit": null,
            "grid_auto_columns": null,
            "margin": null,
            "display": null,
            "left": null
          }
        },
        "17b7dc5969e04405b1a0f867c1c30348": {
          "model_module": "@jupyter-widgets/controls",
          "model_name": "DescriptionStyleModel",
          "model_module_version": "1.5.0",
          "state": {
            "_view_name": "StyleView",
            "_model_name": "DescriptionStyleModel",
            "description_width": "",
            "_view_module": "@jupyter-widgets/base",
            "_model_module_version": "1.5.0",
            "_view_count": null,
            "_view_module_version": "1.2.0",
            "_model_module": "@jupyter-widgets/controls"
          }
        },
        "cfc7cfe7ce3146aa9e9821be0ca83860": {
          "model_module": "@jupyter-widgets/base",
          "model_name": "LayoutModel",
          "model_module_version": "1.2.0",
          "state": {
            "_view_name": "LayoutView",
            "grid_template_rows": null,
            "right": null,
            "justify_content": null,
            "_view_module": "@jupyter-widgets/base",
            "overflow": null,
            "_model_module_version": "1.2.0",
            "_view_count": null,
            "flex_flow": null,
            "width": null,
            "min_width": null,
            "border": null,
            "align_items": null,
            "bottom": null,
            "_model_module": "@jupyter-widgets/base",
            "top": null,
            "grid_column": null,
            "overflow_y": null,
            "overflow_x": null,
            "grid_auto_flow": null,
            "grid_area": null,
            "grid_template_columns": null,
            "flex": null,
            "_model_name": "LayoutModel",
            "justify_items": null,
            "grid_row": null,
            "max_height": null,
            "align_content": null,
            "visibility": null,
            "align_self": null,
            "height": null,
            "min_height": null,
            "padding": null,
            "grid_auto_rows": null,
            "grid_gap": null,
            "max_width": null,
            "order": null,
            "_view_module_version": "1.2.0",
            "grid_template_areas": null,
            "object_position": null,
            "object_fit": null,
            "grid_auto_columns": null,
            "margin": null,
            "display": null,
            "left": null
          }
        },
        "93bcee28c12c426bac66e03caad77769": {
          "model_module": "@jupyter-widgets/controls",
          "model_name": "HBoxModel",
          "model_module_version": "1.5.0",
          "state": {
            "_view_name": "HBoxView",
            "_dom_classes": [],
            "_model_name": "HBoxModel",
            "_view_module": "@jupyter-widgets/controls",
            "_model_module_version": "1.5.0",
            "_view_count": null,
            "_view_module_version": "1.5.0",
            "box_style": "",
            "layout": "IPY_MODEL_f2a29cc672344c17973c564017a3905e",
            "_model_module": "@jupyter-widgets/controls",
            "children": [
              "IPY_MODEL_35eff5abb95c4adda24fd5ae7b581efc",
              "IPY_MODEL_322faa01729e44ba9bd6b4f195f5b814",
              "IPY_MODEL_e063355a4b8548b9b27ff8edc7478d08"
            ]
          }
        },
        "f2a29cc672344c17973c564017a3905e": {
          "model_module": "@jupyter-widgets/base",
          "model_name": "LayoutModel",
          "model_module_version": "1.2.0",
          "state": {
            "_view_name": "LayoutView",
            "grid_template_rows": null,
            "right": null,
            "justify_content": null,
            "_view_module": "@jupyter-widgets/base",
            "overflow": null,
            "_model_module_version": "1.2.0",
            "_view_count": null,
            "flex_flow": null,
            "width": null,
            "min_width": null,
            "border": null,
            "align_items": null,
            "bottom": null,
            "_model_module": "@jupyter-widgets/base",
            "top": null,
            "grid_column": null,
            "overflow_y": null,
            "overflow_x": null,
            "grid_auto_flow": null,
            "grid_area": null,
            "grid_template_columns": null,
            "flex": null,
            "_model_name": "LayoutModel",
            "justify_items": null,
            "grid_row": null,
            "max_height": null,
            "align_content": null,
            "visibility": null,
            "align_self": null,
            "height": null,
            "min_height": null,
            "padding": null,
            "grid_auto_rows": null,
            "grid_gap": null,
            "max_width": null,
            "order": null,
            "_view_module_version": "1.2.0",
            "grid_template_areas": null,
            "object_position": null,
            "object_fit": null,
            "grid_auto_columns": null,
            "margin": null,
            "display": null,
            "left": null
          }
        },
        "35eff5abb95c4adda24fd5ae7b581efc": {
          "model_module": "@jupyter-widgets/controls",
          "model_name": "HTMLModel",
          "model_module_version": "1.5.0",
          "state": {
            "_view_name": "HTMLView",
            "style": "IPY_MODEL_4178f9944a3946aa8049dafc47826687",
            "_dom_classes": [],
            "description": "",
            "_model_name": "HTMLModel",
            "placeholder": "​",
            "_view_module": "@jupyter-widgets/controls",
            "_model_module_version": "1.5.0",
            "value": "Downloading: ",
            "_view_count": null,
            "_view_module_version": "1.5.0",
            "description_tooltip": null,
            "_model_module": "@jupyter-widgets/controls",
            "layout": "IPY_MODEL_8047e1ace00749fb978cae2ae960e81b"
          }
        },
        "322faa01729e44ba9bd6b4f195f5b814": {
          "model_module": "@jupyter-widgets/controls",
          "model_name": "FloatProgressModel",
          "model_module_version": "1.5.0",
          "state": {
            "_view_name": "ProgressView",
            "style": "IPY_MODEL_48b33249dbfa44fda2072ec3370a6d14",
            "_dom_classes": [],
            "description": "",
            "_model_name": "FloatProgressModel",
            "bar_style": "success",
            "max": 10151,
            "_view_module": "@jupyter-widgets/controls",
            "_model_module_version": "1.5.0",
            "value": 10151,
            "_view_count": null,
            "_view_module_version": "1.5.0",
            "orientation": "horizontal",
            "min": 0,
            "description_tooltip": null,
            "_model_module": "@jupyter-widgets/controls",
            "layout": "IPY_MODEL_34db33d2b3264798841f0a4d045523c6"
          }
        },
        "e063355a4b8548b9b27ff8edc7478d08": {
          "model_module": "@jupyter-widgets/controls",
          "model_name": "HTMLModel",
          "model_module_version": "1.5.0",
          "state": {
            "_view_name": "HTMLView",
            "style": "IPY_MODEL_eac747b3342344598c882b7235109baf",
            "_dom_classes": [],
            "description": "",
            "_model_name": "HTMLModel",
            "placeholder": "​",
            "_view_module": "@jupyter-widgets/controls",
            "_model_module_version": "1.5.0",
            "value": " 161k/? [00:00&lt;00:00, 5.31MB/s]",
            "_view_count": null,
            "_view_module_version": "1.5.0",
            "description_tooltip": null,
            "_model_module": "@jupyter-widgets/controls",
            "layout": "IPY_MODEL_f92545fe85ce4041a72ec67e139c10c1"
          }
        },
        "4178f9944a3946aa8049dafc47826687": {
          "model_module": "@jupyter-widgets/controls",
          "model_name": "DescriptionStyleModel",
          "model_module_version": "1.5.0",
          "state": {
            "_view_name": "StyleView",
            "_model_name": "DescriptionStyleModel",
            "description_width": "",
            "_view_module": "@jupyter-widgets/base",
            "_model_module_version": "1.5.0",
            "_view_count": null,
            "_view_module_version": "1.2.0",
            "_model_module": "@jupyter-widgets/controls"
          }
        },
        "8047e1ace00749fb978cae2ae960e81b": {
          "model_module": "@jupyter-widgets/base",
          "model_name": "LayoutModel",
          "model_module_version": "1.2.0",
          "state": {
            "_view_name": "LayoutView",
            "grid_template_rows": null,
            "right": null,
            "justify_content": null,
            "_view_module": "@jupyter-widgets/base",
            "overflow": null,
            "_model_module_version": "1.2.0",
            "_view_count": null,
            "flex_flow": null,
            "width": null,
            "min_width": null,
            "border": null,
            "align_items": null,
            "bottom": null,
            "_model_module": "@jupyter-widgets/base",
            "top": null,
            "grid_column": null,
            "overflow_y": null,
            "overflow_x": null,
            "grid_auto_flow": null,
            "grid_area": null,
            "grid_template_columns": null,
            "flex": null,
            "_model_name": "LayoutModel",
            "justify_items": null,
            "grid_row": null,
            "max_height": null,
            "align_content": null,
            "visibility": null,
            "align_self": null,
            "height": null,
            "min_height": null,
            "padding": null,
            "grid_auto_rows": null,
            "grid_gap": null,
            "max_width": null,
            "order": null,
            "_view_module_version": "1.2.0",
            "grid_template_areas": null,
            "object_position": null,
            "object_fit": null,
            "grid_auto_columns": null,
            "margin": null,
            "display": null,
            "left": null
          }
        },
        "48b33249dbfa44fda2072ec3370a6d14": {
          "model_module": "@jupyter-widgets/controls",
          "model_name": "ProgressStyleModel",
          "model_module_version": "1.5.0",
          "state": {
            "_view_name": "StyleView",
            "_model_name": "ProgressStyleModel",
            "description_width": "",
            "_view_module": "@jupyter-widgets/base",
            "_model_module_version": "1.5.0",
            "_view_count": null,
            "_view_module_version": "1.2.0",
            "bar_color": null,
            "_model_module": "@jupyter-widgets/controls"
          }
        },
        "34db33d2b3264798841f0a4d045523c6": {
          "model_module": "@jupyter-widgets/base",
          "model_name": "LayoutModel",
          "model_module_version": "1.2.0",
          "state": {
            "_view_name": "LayoutView",
            "grid_template_rows": null,
            "right": null,
            "justify_content": null,
            "_view_module": "@jupyter-widgets/base",
            "overflow": null,
            "_model_module_version": "1.2.0",
            "_view_count": null,
            "flex_flow": null,
            "width": null,
            "min_width": null,
            "border": null,
            "align_items": null,
            "bottom": null,
            "_model_module": "@jupyter-widgets/base",
            "top": null,
            "grid_column": null,
            "overflow_y": null,
            "overflow_x": null,
            "grid_auto_flow": null,
            "grid_area": null,
            "grid_template_columns": null,
            "flex": null,
            "_model_name": "LayoutModel",
            "justify_items": null,
            "grid_row": null,
            "max_height": null,
            "align_content": null,
            "visibility": null,
            "align_self": null,
            "height": null,
            "min_height": null,
            "padding": null,
            "grid_auto_rows": null,
            "grid_gap": null,
            "max_width": null,
            "order": null,
            "_view_module_version": "1.2.0",
            "grid_template_areas": null,
            "object_position": null,
            "object_fit": null,
            "grid_auto_columns": null,
            "margin": null,
            "display": null,
            "left": null
          }
        },
        "eac747b3342344598c882b7235109baf": {
          "model_module": "@jupyter-widgets/controls",
          "model_name": "DescriptionStyleModel",
          "model_module_version": "1.5.0",
          "state": {
            "_view_name": "StyleView",
            "_model_name": "DescriptionStyleModel",
            "description_width": "",
            "_view_module": "@jupyter-widgets/base",
            "_model_module_version": "1.5.0",
            "_view_count": null,
            "_view_module_version": "1.2.0",
            "_model_module": "@jupyter-widgets/controls"
          }
        },
        "f92545fe85ce4041a72ec67e139c10c1": {
          "model_module": "@jupyter-widgets/base",
          "model_name": "LayoutModel",
          "model_module_version": "1.2.0",
          "state": {
            "_view_name": "LayoutView",
            "grid_template_rows": null,
            "right": null,
            "justify_content": null,
            "_view_module": "@jupyter-widgets/base",
            "overflow": null,
            "_model_module_version": "1.2.0",
            "_view_count": null,
            "flex_flow": null,
            "width": null,
            "min_width": null,
            "border": null,
            "align_items": null,
            "bottom": null,
            "_model_module": "@jupyter-widgets/base",
            "top": null,
            "grid_column": null,
            "overflow_y": null,
            "overflow_x": null,
            "grid_auto_flow": null,
            "grid_area": null,
            "grid_template_columns": null,
            "flex": null,
            "_model_name": "LayoutModel",
            "justify_items": null,
            "grid_row": null,
            "max_height": null,
            "align_content": null,
            "visibility": null,
            "align_self": null,
            "height": null,
            "min_height": null,
            "padding": null,
            "grid_auto_rows": null,
            "grid_gap": null,
            "max_width": null,
            "order": null,
            "_view_module_version": "1.2.0",
            "grid_template_areas": null,
            "object_position": null,
            "object_fit": null,
            "grid_auto_columns": null,
            "margin": null,
            "display": null,
            "left": null
          }
        },
        "b9e3bc2df727455d9b3a6c23b6577f35": {
          "model_module": "@jupyter-widgets/controls",
          "model_name": "HBoxModel",
          "model_module_version": "1.5.0",
          "state": {
            "_view_name": "HBoxView",
            "_dom_classes": [],
            "_model_name": "HBoxModel",
            "_view_module": "@jupyter-widgets/controls",
            "_model_module_version": "1.5.0",
            "_view_count": null,
            "_view_module_version": "1.5.0",
            "box_style": "",
            "layout": "IPY_MODEL_66123825f64a4e39a0a002a80dea2c4a",
            "_model_module": "@jupyter-widgets/controls",
            "children": [
              "IPY_MODEL_02a1100e3d2b4748b2b9ebee743b434b",
              "IPY_MODEL_08802c67de1446db88e7f6564c09714b",
              "IPY_MODEL_28bfa802e59045daaa7c5869d38f97af"
            ]
          }
        },
        "66123825f64a4e39a0a002a80dea2c4a": {
          "model_module": "@jupyter-widgets/base",
          "model_name": "LayoutModel",
          "model_module_version": "1.2.0",
          "state": {
            "_view_name": "LayoutView",
            "grid_template_rows": null,
            "right": null,
            "justify_content": null,
            "_view_module": "@jupyter-widgets/base",
            "overflow": null,
            "_model_module_version": "1.2.0",
            "_view_count": null,
            "flex_flow": null,
            "width": null,
            "min_width": null,
            "border": null,
            "align_items": null,
            "bottom": null,
            "_model_module": "@jupyter-widgets/base",
            "top": null,
            "grid_column": null,
            "overflow_y": null,
            "overflow_x": null,
            "grid_auto_flow": null,
            "grid_area": null,
            "grid_template_columns": null,
            "flex": null,
            "_model_name": "LayoutModel",
            "justify_items": null,
            "grid_row": null,
            "max_height": null,
            "align_content": null,
            "visibility": null,
            "align_self": null,
            "height": null,
            "min_height": null,
            "padding": null,
            "grid_auto_rows": null,
            "grid_gap": null,
            "max_width": null,
            "order": null,
            "_view_module_version": "1.2.0",
            "grid_template_areas": null,
            "object_position": null,
            "object_fit": null,
            "grid_auto_columns": null,
            "margin": null,
            "display": null,
            "left": null
          }
        },
        "02a1100e3d2b4748b2b9ebee743b434b": {
          "model_module": "@jupyter-widgets/controls",
          "model_name": "HTMLModel",
          "model_module_version": "1.5.0",
          "state": {
            "_view_name": "HTMLView",
            "style": "IPY_MODEL_44e4e7d135bb4a83af3ee0ad221b9375",
            "_dom_classes": [],
            "description": "",
            "_model_name": "HTMLModel",
            "placeholder": "​",
            "_view_module": "@jupyter-widgets/controls",
            "_model_module_version": "1.5.0",
            "value": "Downloading: 100%",
            "_view_count": null,
            "_view_module_version": "1.5.0",
            "description_tooltip": null,
            "_model_module": "@jupyter-widgets/controls",
            "layout": "IPY_MODEL_1b05d97dbde7493d8e03db9bc1058d0e"
          }
        },
        "08802c67de1446db88e7f6564c09714b": {
          "model_module": "@jupyter-widgets/controls",
          "model_name": "FloatProgressModel",
          "model_module_version": "1.5.0",
          "state": {
            "_view_name": "ProgressView",
            "style": "IPY_MODEL_598f25822ae84eb8ba24db4b0bee86bf",
            "_dom_classes": [],
            "description": "",
            "_model_name": "FloatProgressModel",
            "bar_style": "success",
            "max": 208307691,
            "_view_module": "@jupyter-widgets/controls",
            "_model_module_version": "1.5.0",
            "value": 208307691,
            "_view_count": null,
            "_view_module_version": "1.5.0",
            "orientation": "horizontal",
            "min": 0,
            "description_tooltip": null,
            "_model_module": "@jupyter-widgets/controls",
            "layout": "IPY_MODEL_692dfcaf248648e8b03ee71c14153766"
          }
        },
        "28bfa802e59045daaa7c5869d38f97af": {
          "model_module": "@jupyter-widgets/controls",
          "model_name": "HTMLModel",
          "model_module_version": "1.5.0",
          "state": {
            "_view_name": "HTMLView",
            "style": "IPY_MODEL_8712ae3abe0e4fdcaafb718c35e7302a",
            "_dom_classes": [],
            "description": "",
            "_model_name": "HTMLModel",
            "placeholder": "​",
            "_view_module": "@jupyter-widgets/controls",
            "_model_module_version": "1.5.0",
            "value": " 208M/208M [00:07&lt;00:00, 36.8MB/s]",
            "_view_count": null,
            "_view_module_version": "1.5.0",
            "description_tooltip": null,
            "_model_module": "@jupyter-widgets/controls",
            "layout": "IPY_MODEL_b2c000bf81744016bbdd63dba486b15a"
          }
        },
        "44e4e7d135bb4a83af3ee0ad221b9375": {
          "model_module": "@jupyter-widgets/controls",
          "model_name": "DescriptionStyleModel",
          "model_module_version": "1.5.0",
          "state": {
            "_view_name": "StyleView",
            "_model_name": "DescriptionStyleModel",
            "description_width": "",
            "_view_module": "@jupyter-widgets/base",
            "_model_module_version": "1.5.0",
            "_view_count": null,
            "_view_module_version": "1.2.0",
            "_model_module": "@jupyter-widgets/controls"
          }
        },
        "1b05d97dbde7493d8e03db9bc1058d0e": {
          "model_module": "@jupyter-widgets/base",
          "model_name": "LayoutModel",
          "model_module_version": "1.2.0",
          "state": {
            "_view_name": "LayoutView",
            "grid_template_rows": null,
            "right": null,
            "justify_content": null,
            "_view_module": "@jupyter-widgets/base",
            "overflow": null,
            "_model_module_version": "1.2.0",
            "_view_count": null,
            "flex_flow": null,
            "width": null,
            "min_width": null,
            "border": null,
            "align_items": null,
            "bottom": null,
            "_model_module": "@jupyter-widgets/base",
            "top": null,
            "grid_column": null,
            "overflow_y": null,
            "overflow_x": null,
            "grid_auto_flow": null,
            "grid_area": null,
            "grid_template_columns": null,
            "flex": null,
            "_model_name": "LayoutModel",
            "justify_items": null,
            "grid_row": null,
            "max_height": null,
            "align_content": null,
            "visibility": null,
            "align_self": null,
            "height": null,
            "min_height": null,
            "padding": null,
            "grid_auto_rows": null,
            "grid_gap": null,
            "max_width": null,
            "order": null,
            "_view_module_version": "1.2.0",
            "grid_template_areas": null,
            "object_position": null,
            "object_fit": null,
            "grid_auto_columns": null,
            "margin": null,
            "display": null,
            "left": null
          }
        },
        "598f25822ae84eb8ba24db4b0bee86bf": {
          "model_module": "@jupyter-widgets/controls",
          "model_name": "ProgressStyleModel",
          "model_module_version": "1.5.0",
          "state": {
            "_view_name": "StyleView",
            "_model_name": "ProgressStyleModel",
            "description_width": "",
            "_view_module": "@jupyter-widgets/base",
            "_model_module_version": "1.5.0",
            "_view_count": null,
            "_view_module_version": "1.2.0",
            "bar_color": null,
            "_model_module": "@jupyter-widgets/controls"
          }
        },
        "692dfcaf248648e8b03ee71c14153766": {
          "model_module": "@jupyter-widgets/base",
          "model_name": "LayoutModel",
          "model_module_version": "1.2.0",
          "state": {
            "_view_name": "LayoutView",
            "grid_template_rows": null,
            "right": null,
            "justify_content": null,
            "_view_module": "@jupyter-widgets/base",
            "overflow": null,
            "_model_module_version": "1.2.0",
            "_view_count": null,
            "flex_flow": null,
            "width": null,
            "min_width": null,
            "border": null,
            "align_items": null,
            "bottom": null,
            "_model_module": "@jupyter-widgets/base",
            "top": null,
            "grid_column": null,
            "overflow_y": null,
            "overflow_x": null,
            "grid_auto_flow": null,
            "grid_area": null,
            "grid_template_columns": null,
            "flex": null,
            "_model_name": "LayoutModel",
            "justify_items": null,
            "grid_row": null,
            "max_height": null,
            "align_content": null,
            "visibility": null,
            "align_self": null,
            "height": null,
            "min_height": null,
            "padding": null,
            "grid_auto_rows": null,
            "grid_gap": null,
            "max_width": null,
            "order": null,
            "_view_module_version": "1.2.0",
            "grid_template_areas": null,
            "object_position": null,
            "object_fit": null,
            "grid_auto_columns": null,
            "margin": null,
            "display": null,
            "left": null
          }
        },
        "8712ae3abe0e4fdcaafb718c35e7302a": {
          "model_module": "@jupyter-widgets/controls",
          "model_name": "DescriptionStyleModel",
          "model_module_version": "1.5.0",
          "state": {
            "_view_name": "StyleView",
            "_model_name": "DescriptionStyleModel",
            "description_width": "",
            "_view_module": "@jupyter-widgets/base",
            "_model_module_version": "1.5.0",
            "_view_count": null,
            "_view_module_version": "1.2.0",
            "_model_module": "@jupyter-widgets/controls"
          }
        },
        "b2c000bf81744016bbdd63dba486b15a": {
          "model_module": "@jupyter-widgets/base",
          "model_name": "LayoutModel",
          "model_module_version": "1.2.0",
          "state": {
            "_view_name": "LayoutView",
            "grid_template_rows": null,
            "right": null,
            "justify_content": null,
            "_view_module": "@jupyter-widgets/base",
            "overflow": null,
            "_model_module_version": "1.2.0",
            "_view_count": null,
            "flex_flow": null,
            "width": null,
            "min_width": null,
            "border": null,
            "align_items": null,
            "bottom": null,
            "_model_module": "@jupyter-widgets/base",
            "top": null,
            "grid_column": null,
            "overflow_y": null,
            "overflow_x": null,
            "grid_auto_flow": null,
            "grid_area": null,
            "grid_template_columns": null,
            "flex": null,
            "_model_name": "LayoutModel",
            "justify_items": null,
            "grid_row": null,
            "max_height": null,
            "align_content": null,
            "visibility": null,
            "align_self": null,
            "height": null,
            "min_height": null,
            "padding": null,
            "grid_auto_rows": null,
            "grid_gap": null,
            "max_width": null,
            "order": null,
            "_view_module_version": "1.2.0",
            "grid_template_areas": null,
            "object_position": null,
            "object_fit": null,
            "grid_auto_columns": null,
            "margin": null,
            "display": null,
            "left": null
          }
        },
        "03d1f851ab054a5ca1fa429c5ebdeb1d": {
          "model_module": "@jupyter-widgets/controls",
          "model_name": "HBoxModel",
          "model_module_version": "1.5.0",
          "state": {
            "_view_name": "HBoxView",
            "_dom_classes": [],
            "_model_name": "HBoxModel",
            "_view_module": "@jupyter-widgets/controls",
            "_model_module_version": "1.5.0",
            "_view_count": null,
            "_view_module_version": "1.5.0",
            "box_style": "",
            "layout": "IPY_MODEL_39041eb896d64a43aec0483e6f0adf78",
            "_model_module": "@jupyter-widgets/controls",
            "children": [
              "IPY_MODEL_66257426fef74085947617bddacd976b",
              "IPY_MODEL_92ea9d64cac14e56a7c813a0ce9904e8",
              "IPY_MODEL_68d1dfb704974709b064b300d3f5cfa4"
            ]
          }
        },
        "39041eb896d64a43aec0483e6f0adf78": {
          "model_module": "@jupyter-widgets/base",
          "model_name": "LayoutModel",
          "model_module_version": "1.2.0",
          "state": {
            "_view_name": "LayoutView",
            "grid_template_rows": null,
            "right": null,
            "justify_content": null,
            "_view_module": "@jupyter-widgets/base",
            "overflow": null,
            "_model_module_version": "1.2.0",
            "_view_count": null,
            "flex_flow": null,
            "width": null,
            "min_width": null,
            "border": null,
            "align_items": null,
            "bottom": null,
            "_model_module": "@jupyter-widgets/base",
            "top": null,
            "grid_column": null,
            "overflow_y": null,
            "overflow_x": null,
            "grid_auto_flow": null,
            "grid_area": null,
            "grid_template_columns": null,
            "flex": null,
            "_model_name": "LayoutModel",
            "justify_items": null,
            "grid_row": null,
            "max_height": null,
            "align_content": null,
            "visibility": null,
            "align_self": null,
            "height": null,
            "min_height": null,
            "padding": null,
            "grid_auto_rows": null,
            "grid_gap": null,
            "max_width": null,
            "order": null,
            "_view_module_version": "1.2.0",
            "grid_template_areas": null,
            "object_position": null,
            "object_fit": null,
            "grid_auto_columns": null,
            "margin": null,
            "display": null,
            "left": null
          }
        },
        "66257426fef74085947617bddacd976b": {
          "model_module": "@jupyter-widgets/controls",
          "model_name": "HTMLModel",
          "model_module_version": "1.5.0",
          "state": {
            "_view_name": "HTMLView",
            "style": "IPY_MODEL_57c2a89fcc6540d68df565b36a642936",
            "_dom_classes": [],
            "description": "",
            "_model_name": "HTMLModel",
            "placeholder": "​",
            "_view_module": "@jupyter-widgets/controls",
            "_model_module_version": "1.5.0",
            "value": "",
            "_view_count": null,
            "_view_module_version": "1.5.0",
            "description_tooltip": null,
            "_model_module": "@jupyter-widgets/controls",
            "layout": "IPY_MODEL_ef4c62470b4d483ebfa05425109f110f"
          }
        },
        "92ea9d64cac14e56a7c813a0ce9904e8": {
          "model_module": "@jupyter-widgets/controls",
          "model_name": "FloatProgressModel",
          "model_module_version": "1.5.0",
          "state": {
            "_view_name": "ProgressView",
            "style": "IPY_MODEL_1ba06f9d677345fb87fb75c9a2a212a7",
            "_dom_classes": [],
            "description": "",
            "_model_name": "FloatProgressModel",
            "bar_style": "info",
            "max": 1,
            "_view_module": "@jupyter-widgets/controls",
            "_model_module_version": "1.5.0",
            "value": 1,
            "_view_count": null,
            "_view_module_version": "1.5.0",
            "orientation": "horizontal",
            "min": 0,
            "description_tooltip": null,
            "_model_module": "@jupyter-widgets/controls",
            "layout": "IPY_MODEL_203ec3ca169546e3aad5315d257e37bf"
          }
        },
        "68d1dfb704974709b064b300d3f5cfa4": {
          "model_module": "@jupyter-widgets/controls",
          "model_name": "HTMLModel",
          "model_module_version": "1.5.0",
          "state": {
            "_view_name": "HTMLView",
            "style": "IPY_MODEL_e9acf06ce0ff4f2793836191b43da621",
            "_dom_classes": [],
            "description": "",
            "_model_name": "HTMLModel",
            "placeholder": "​",
            "_view_module": "@jupyter-widgets/controls",
            "_model_module_version": "1.5.0",
            "value": " 1522/0 [00:00&lt;00:00, 8311.52 examples/s]",
            "_view_count": null,
            "_view_module_version": "1.5.0",
            "description_tooltip": null,
            "_model_module": "@jupyter-widgets/controls",
            "layout": "IPY_MODEL_ee26748f8003434aa4c392bf9fda5b4a"
          }
        },
        "57c2a89fcc6540d68df565b36a642936": {
          "model_module": "@jupyter-widgets/controls",
          "model_name": "DescriptionStyleModel",
          "model_module_version": "1.5.0",
          "state": {
            "_view_name": "StyleView",
            "_model_name": "DescriptionStyleModel",
            "description_width": "",
            "_view_module": "@jupyter-widgets/base",
            "_model_module_version": "1.5.0",
            "_view_count": null,
            "_view_module_version": "1.2.0",
            "_model_module": "@jupyter-widgets/controls"
          }
        },
        "ef4c62470b4d483ebfa05425109f110f": {
          "model_module": "@jupyter-widgets/base",
          "model_name": "LayoutModel",
          "model_module_version": "1.2.0",
          "state": {
            "_view_name": "LayoutView",
            "grid_template_rows": null,
            "right": null,
            "justify_content": null,
            "_view_module": "@jupyter-widgets/base",
            "overflow": null,
            "_model_module_version": "1.2.0",
            "_view_count": null,
            "flex_flow": null,
            "width": null,
            "min_width": null,
            "border": null,
            "align_items": null,
            "bottom": null,
            "_model_module": "@jupyter-widgets/base",
            "top": null,
            "grid_column": null,
            "overflow_y": null,
            "overflow_x": null,
            "grid_auto_flow": null,
            "grid_area": null,
            "grid_template_columns": null,
            "flex": null,
            "_model_name": "LayoutModel",
            "justify_items": null,
            "grid_row": null,
            "max_height": null,
            "align_content": null,
            "visibility": null,
            "align_self": null,
            "height": null,
            "min_height": null,
            "padding": null,
            "grid_auto_rows": null,
            "grid_gap": null,
            "max_width": null,
            "order": null,
            "_view_module_version": "1.2.0",
            "grid_template_areas": null,
            "object_position": null,
            "object_fit": null,
            "grid_auto_columns": null,
            "margin": null,
            "display": null,
            "left": null
          }
        },
        "1ba06f9d677345fb87fb75c9a2a212a7": {
          "model_module": "@jupyter-widgets/controls",
          "model_name": "ProgressStyleModel",
          "model_module_version": "1.5.0",
          "state": {
            "_view_name": "StyleView",
            "_model_name": "ProgressStyleModel",
            "description_width": "",
            "_view_module": "@jupyter-widgets/base",
            "_model_module_version": "1.5.0",
            "_view_count": null,
            "_view_module_version": "1.2.0",
            "bar_color": null,
            "_model_module": "@jupyter-widgets/controls"
          }
        },
        "203ec3ca169546e3aad5315d257e37bf": {
          "model_module": "@jupyter-widgets/base",
          "model_name": "LayoutModel",
          "model_module_version": "1.2.0",
          "state": {
            "_view_name": "LayoutView",
            "grid_template_rows": null,
            "right": null,
            "justify_content": null,
            "_view_module": "@jupyter-widgets/base",
            "overflow": null,
            "_model_module_version": "1.2.0",
            "_view_count": null,
            "flex_flow": null,
            "width": "20px",
            "min_width": null,
            "border": null,
            "align_items": null,
            "bottom": null,
            "_model_module": "@jupyter-widgets/base",
            "top": null,
            "grid_column": null,
            "overflow_y": null,
            "overflow_x": null,
            "grid_auto_flow": null,
            "grid_area": null,
            "grid_template_columns": null,
            "flex": null,
            "_model_name": "LayoutModel",
            "justify_items": null,
            "grid_row": null,
            "max_height": null,
            "align_content": null,
            "visibility": null,
            "align_self": null,
            "height": null,
            "min_height": null,
            "padding": null,
            "grid_auto_rows": null,
            "grid_gap": null,
            "max_width": null,
            "order": null,
            "_view_module_version": "1.2.0",
            "grid_template_areas": null,
            "object_position": null,
            "object_fit": null,
            "grid_auto_columns": null,
            "margin": null,
            "display": null,
            "left": null
          }
        },
        "e9acf06ce0ff4f2793836191b43da621": {
          "model_module": "@jupyter-widgets/controls",
          "model_name": "DescriptionStyleModel",
          "model_module_version": "1.5.0",
          "state": {
            "_view_name": "StyleView",
            "_model_name": "DescriptionStyleModel",
            "description_width": "",
            "_view_module": "@jupyter-widgets/base",
            "_model_module_version": "1.5.0",
            "_view_count": null,
            "_view_module_version": "1.2.0",
            "_model_module": "@jupyter-widgets/controls"
          }
        },
        "ee26748f8003434aa4c392bf9fda5b4a": {
          "model_module": "@jupyter-widgets/base",
          "model_name": "LayoutModel",
          "model_module_version": "1.2.0",
          "state": {
            "_view_name": "LayoutView",
            "grid_template_rows": null,
            "right": null,
            "justify_content": null,
            "_view_module": "@jupyter-widgets/base",
            "overflow": null,
            "_model_module_version": "1.2.0",
            "_view_count": null,
            "flex_flow": null,
            "width": null,
            "min_width": null,
            "border": null,
            "align_items": null,
            "bottom": null,
            "_model_module": "@jupyter-widgets/base",
            "top": null,
            "grid_column": null,
            "overflow_y": null,
            "overflow_x": null,
            "grid_auto_flow": null,
            "grid_area": null,
            "grid_template_columns": null,
            "flex": null,
            "_model_name": "LayoutModel",
            "justify_items": null,
            "grid_row": null,
            "max_height": null,
            "align_content": null,
            "visibility": null,
            "align_self": null,
            "height": null,
            "min_height": null,
            "padding": null,
            "grid_auto_rows": null,
            "grid_gap": null,
            "max_width": null,
            "order": null,
            "_view_module_version": "1.2.0",
            "grid_template_areas": null,
            "object_position": null,
            "object_fit": null,
            "grid_auto_columns": null,
            "margin": null,
            "display": null,
            "left": null
          }
        },
        "0cd5b4103e3e4b3186818492e69f3a3d": {
          "model_module": "@jupyter-widgets/controls",
          "model_name": "HBoxModel",
          "model_module_version": "1.5.0",
          "state": {
            "_view_name": "HBoxView",
            "_dom_classes": [],
            "_model_name": "HBoxModel",
            "_view_module": "@jupyter-widgets/controls",
            "_model_module_version": "1.5.0",
            "_view_count": null,
            "_view_module_version": "1.5.0",
            "box_style": "",
            "layout": "IPY_MODEL_1cfca77f1980419d803c06b370d248f7",
            "_model_module": "@jupyter-widgets/controls",
            "children": [
              "IPY_MODEL_c88cd90f0da440d3812562edbddf982c",
              "IPY_MODEL_15b91a175e3d46d08b36f486d147eb08",
              "IPY_MODEL_b1ac675110444eaba4c20370a5561c9f"
            ]
          }
        },
        "1cfca77f1980419d803c06b370d248f7": {
          "model_module": "@jupyter-widgets/base",
          "model_name": "LayoutModel",
          "model_module_version": "1.2.0",
          "state": {
            "_view_name": "LayoutView",
            "grid_template_rows": null,
            "right": null,
            "justify_content": null,
            "_view_module": "@jupyter-widgets/base",
            "overflow": null,
            "_model_module_version": "1.2.0",
            "_view_count": null,
            "flex_flow": null,
            "width": null,
            "min_width": null,
            "border": null,
            "align_items": null,
            "bottom": null,
            "_model_module": "@jupyter-widgets/base",
            "top": null,
            "grid_column": null,
            "overflow_y": null,
            "overflow_x": null,
            "grid_auto_flow": null,
            "grid_area": null,
            "grid_template_columns": null,
            "flex": null,
            "_model_name": "LayoutModel",
            "justify_items": null,
            "grid_row": null,
            "max_height": null,
            "align_content": null,
            "visibility": null,
            "align_self": null,
            "height": null,
            "min_height": null,
            "padding": null,
            "grid_auto_rows": null,
            "grid_gap": null,
            "max_width": null,
            "order": null,
            "_view_module_version": "1.2.0",
            "grid_template_areas": null,
            "object_position": null,
            "object_fit": null,
            "grid_auto_columns": null,
            "margin": null,
            "display": null,
            "left": null
          }
        },
        "c88cd90f0da440d3812562edbddf982c": {
          "model_module": "@jupyter-widgets/controls",
          "model_name": "HTMLModel",
          "model_module_version": "1.5.0",
          "state": {
            "_view_name": "HTMLView",
            "style": "IPY_MODEL_835c51c3a80242c18e75f2573a34eb92",
            "_dom_classes": [],
            "description": "",
            "_model_name": "HTMLModel",
            "placeholder": "​",
            "_view_module": "@jupyter-widgets/controls",
            "_model_module_version": "1.5.0",
            "value": "",
            "_view_count": null,
            "_view_module_version": "1.5.0",
            "description_tooltip": null,
            "_model_module": "@jupyter-widgets/controls",
            "layout": "IPY_MODEL_cf92a86a435d40c7ab66d486db1f515d"
          }
        },
        "15b91a175e3d46d08b36f486d147eb08": {
          "model_module": "@jupyter-widgets/controls",
          "model_name": "FloatProgressModel",
          "model_module_version": "1.5.0",
          "state": {
            "_view_name": "ProgressView",
            "style": "IPY_MODEL_aac81565cde14916b2203f18c0237342",
            "_dom_classes": [],
            "description": "",
            "_model_name": "FloatProgressModel",
            "bar_style": "info",
            "max": 1,
            "_view_module": "@jupyter-widgets/controls",
            "_model_module_version": "1.5.0",
            "value": 1,
            "_view_count": null,
            "_view_module_version": "1.5.0",
            "orientation": "horizontal",
            "min": 0,
            "description_tooltip": null,
            "_model_module": "@jupyter-widgets/controls",
            "layout": "IPY_MODEL_a3144cb50b854db1a40883de07a7b7a8"
          }
        },
        "b1ac675110444eaba4c20370a5561c9f": {
          "model_module": "@jupyter-widgets/controls",
          "model_name": "HTMLModel",
          "model_module_version": "1.5.0",
          "state": {
            "_view_name": "HTMLView",
            "style": "IPY_MODEL_f1965ce0f46f4eee953db173eb4f6e49",
            "_dom_classes": [],
            "description": "",
            "_model_name": "HTMLModel",
            "placeholder": "​",
            "_view_module": "@jupyter-widgets/controls",
            "_model_module_version": "1.5.0",
            "value": " 1673/0 [00:00&lt;00:00, 8972.57 examples/s]",
            "_view_count": null,
            "_view_module_version": "1.5.0",
            "description_tooltip": null,
            "_model_module": "@jupyter-widgets/controls",
            "layout": "IPY_MODEL_f8b7799177da4079b61f7b3efb78d7f4"
          }
        },
        "835c51c3a80242c18e75f2573a34eb92": {
          "model_module": "@jupyter-widgets/controls",
          "model_name": "DescriptionStyleModel",
          "model_module_version": "1.5.0",
          "state": {
            "_view_name": "StyleView",
            "_model_name": "DescriptionStyleModel",
            "description_width": "",
            "_view_module": "@jupyter-widgets/base",
            "_model_module_version": "1.5.0",
            "_view_count": null,
            "_view_module_version": "1.2.0",
            "_model_module": "@jupyter-widgets/controls"
          }
        },
        "cf92a86a435d40c7ab66d486db1f515d": {
          "model_module": "@jupyter-widgets/base",
          "model_name": "LayoutModel",
          "model_module_version": "1.2.0",
          "state": {
            "_view_name": "LayoutView",
            "grid_template_rows": null,
            "right": null,
            "justify_content": null,
            "_view_module": "@jupyter-widgets/base",
            "overflow": null,
            "_model_module_version": "1.2.0",
            "_view_count": null,
            "flex_flow": null,
            "width": null,
            "min_width": null,
            "border": null,
            "align_items": null,
            "bottom": null,
            "_model_module": "@jupyter-widgets/base",
            "top": null,
            "grid_column": null,
            "overflow_y": null,
            "overflow_x": null,
            "grid_auto_flow": null,
            "grid_area": null,
            "grid_template_columns": null,
            "flex": null,
            "_model_name": "LayoutModel",
            "justify_items": null,
            "grid_row": null,
            "max_height": null,
            "align_content": null,
            "visibility": null,
            "align_self": null,
            "height": null,
            "min_height": null,
            "padding": null,
            "grid_auto_rows": null,
            "grid_gap": null,
            "max_width": null,
            "order": null,
            "_view_module_version": "1.2.0",
            "grid_template_areas": null,
            "object_position": null,
            "object_fit": null,
            "grid_auto_columns": null,
            "margin": null,
            "display": null,
            "left": null
          }
        },
        "aac81565cde14916b2203f18c0237342": {
          "model_module": "@jupyter-widgets/controls",
          "model_name": "ProgressStyleModel",
          "model_module_version": "1.5.0",
          "state": {
            "_view_name": "StyleView",
            "_model_name": "ProgressStyleModel",
            "description_width": "",
            "_view_module": "@jupyter-widgets/base",
            "_model_module_version": "1.5.0",
            "_view_count": null,
            "_view_module_version": "1.2.0",
            "bar_color": null,
            "_model_module": "@jupyter-widgets/controls"
          }
        },
        "a3144cb50b854db1a40883de07a7b7a8": {
          "model_module": "@jupyter-widgets/base",
          "model_name": "LayoutModel",
          "model_module_version": "1.2.0",
          "state": {
            "_view_name": "LayoutView",
            "grid_template_rows": null,
            "right": null,
            "justify_content": null,
            "_view_module": "@jupyter-widgets/base",
            "overflow": null,
            "_model_module_version": "1.2.0",
            "_view_count": null,
            "flex_flow": null,
            "width": "20px",
            "min_width": null,
            "border": null,
            "align_items": null,
            "bottom": null,
            "_model_module": "@jupyter-widgets/base",
            "top": null,
            "grid_column": null,
            "overflow_y": null,
            "overflow_x": null,
            "grid_auto_flow": null,
            "grid_area": null,
            "grid_template_columns": null,
            "flex": null,
            "_model_name": "LayoutModel",
            "justify_items": null,
            "grid_row": null,
            "max_height": null,
            "align_content": null,
            "visibility": null,
            "align_self": null,
            "height": null,
            "min_height": null,
            "padding": null,
            "grid_auto_rows": null,
            "grid_gap": null,
            "max_width": null,
            "order": null,
            "_view_module_version": "1.2.0",
            "grid_template_areas": null,
            "object_position": null,
            "object_fit": null,
            "grid_auto_columns": null,
            "margin": null,
            "display": null,
            "left": null
          }
        },
        "f1965ce0f46f4eee953db173eb4f6e49": {
          "model_module": "@jupyter-widgets/controls",
          "model_name": "DescriptionStyleModel",
          "model_module_version": "1.5.0",
          "state": {
            "_view_name": "StyleView",
            "_model_name": "DescriptionStyleModel",
            "description_width": "",
            "_view_module": "@jupyter-widgets/base",
            "_model_module_version": "1.5.0",
            "_view_count": null,
            "_view_module_version": "1.2.0",
            "_model_module": "@jupyter-widgets/controls"
          }
        },
        "f8b7799177da4079b61f7b3efb78d7f4": {
          "model_module": "@jupyter-widgets/base",
          "model_name": "LayoutModel",
          "model_module_version": "1.2.0",
          "state": {
            "_view_name": "LayoutView",
            "grid_template_rows": null,
            "right": null,
            "justify_content": null,
            "_view_module": "@jupyter-widgets/base",
            "overflow": null,
            "_model_module_version": "1.2.0",
            "_view_count": null,
            "flex_flow": null,
            "width": null,
            "min_width": null,
            "border": null,
            "align_items": null,
            "bottom": null,
            "_model_module": "@jupyter-widgets/base",
            "top": null,
            "grid_column": null,
            "overflow_y": null,
            "overflow_x": null,
            "grid_auto_flow": null,
            "grid_area": null,
            "grid_template_columns": null,
            "flex": null,
            "_model_name": "LayoutModel",
            "justify_items": null,
            "grid_row": null,
            "max_height": null,
            "align_content": null,
            "visibility": null,
            "align_self": null,
            "height": null,
            "min_height": null,
            "padding": null,
            "grid_auto_rows": null,
            "grid_gap": null,
            "max_width": null,
            "order": null,
            "_view_module_version": "1.2.0",
            "grid_template_areas": null,
            "object_position": null,
            "object_fit": null,
            "grid_auto_columns": null,
            "margin": null,
            "display": null,
            "left": null
          }
        },
        "e7deaf338bc646c18f58e431b393a9ae": {
          "model_module": "@jupyter-widgets/controls",
          "model_name": "HBoxModel",
          "model_module_version": "1.5.0",
          "state": {
            "_view_name": "HBoxView",
            "_dom_classes": [],
            "_model_name": "HBoxModel",
            "_view_module": "@jupyter-widgets/controls",
            "_model_module_version": "1.5.0",
            "_view_count": null,
            "_view_module_version": "1.5.0",
            "box_style": "",
            "layout": "IPY_MODEL_1843cbf4b1d946bdb97be9794eac8e25",
            "_model_module": "@jupyter-widgets/controls",
            "children": [
              "IPY_MODEL_dd00e3437c3f4f1f9bf9d3b90f71999d",
              "IPY_MODEL_12892b15597c4f419b87057e48207706",
              "IPY_MODEL_4a7733e5184c4da6bb7c6c26c411904c"
            ]
          }
        },
        "1843cbf4b1d946bdb97be9794eac8e25": {
          "model_module": "@jupyter-widgets/base",
          "model_name": "LayoutModel",
          "model_module_version": "1.2.0",
          "state": {
            "_view_name": "LayoutView",
            "grid_template_rows": null,
            "right": null,
            "justify_content": null,
            "_view_module": "@jupyter-widgets/base",
            "overflow": null,
            "_model_module_version": "1.2.0",
            "_view_count": null,
            "flex_flow": null,
            "width": null,
            "min_width": null,
            "border": null,
            "align_items": null,
            "bottom": null,
            "_model_module": "@jupyter-widgets/base",
            "top": null,
            "grid_column": null,
            "overflow_y": null,
            "overflow_x": null,
            "grid_auto_flow": null,
            "grid_area": null,
            "grid_template_columns": null,
            "flex": null,
            "_model_name": "LayoutModel",
            "justify_items": null,
            "grid_row": null,
            "max_height": null,
            "align_content": null,
            "visibility": null,
            "align_self": null,
            "height": null,
            "min_height": null,
            "padding": null,
            "grid_auto_rows": null,
            "grid_gap": null,
            "max_width": null,
            "order": null,
            "_view_module_version": "1.2.0",
            "grid_template_areas": null,
            "object_position": null,
            "object_fit": null,
            "grid_auto_columns": null,
            "margin": null,
            "display": null,
            "left": null
          }
        },
        "dd00e3437c3f4f1f9bf9d3b90f71999d": {
          "model_module": "@jupyter-widgets/controls",
          "model_name": "HTMLModel",
          "model_module_version": "1.5.0",
          "state": {
            "_view_name": "HTMLView",
            "style": "IPY_MODEL_cc8e60f8c91e41eeb0269525cca91538",
            "_dom_classes": [],
            "description": "",
            "_model_name": "HTMLModel",
            "placeholder": "​",
            "_view_module": "@jupyter-widgets/controls",
            "_model_module_version": "1.5.0",
            "value": "",
            "_view_count": null,
            "_view_module_version": "1.5.0",
            "description_tooltip": null,
            "_model_module": "@jupyter-widgets/controls",
            "layout": "IPY_MODEL_4927b7b7754542dcb03f9140acbb25cb"
          }
        },
        "12892b15597c4f419b87057e48207706": {
          "model_module": "@jupyter-widgets/controls",
          "model_name": "FloatProgressModel",
          "model_module_version": "1.5.0",
          "state": {
            "_view_name": "ProgressView",
            "style": "IPY_MODEL_b301fc75672946178e69e17f0e649e05",
            "_dom_classes": [],
            "description": "",
            "_model_name": "FloatProgressModel",
            "bar_style": "info",
            "max": 1,
            "_view_module": "@jupyter-widgets/controls",
            "_model_module_version": "1.5.0",
            "value": 1,
            "_view_count": null,
            "_view_module_version": "1.5.0",
            "orientation": "horizontal",
            "min": 0,
            "description_tooltip": null,
            "_model_module": "@jupyter-widgets/controls",
            "layout": "IPY_MODEL_3e3d08b0a54540b488e81c60774c5637"
          }
        },
        "4a7733e5184c4da6bb7c6c26c411904c": {
          "model_module": "@jupyter-widgets/controls",
          "model_name": "HTMLModel",
          "model_module_version": "1.5.0",
          "state": {
            "_view_name": "HTMLView",
            "style": "IPY_MODEL_6cb1b81de99344f0b99aa55becf7be7a",
            "_dom_classes": [],
            "description": "",
            "_model_name": "HTMLModel",
            "placeholder": "​",
            "_view_module": "@jupyter-widgets/controls",
            "_model_module_version": "1.5.0",
            "value": " 797/0 [00:00&lt;00:00, 4279.23 examples/s]",
            "_view_count": null,
            "_view_module_version": "1.5.0",
            "description_tooltip": null,
            "_model_module": "@jupyter-widgets/controls",
            "layout": "IPY_MODEL_f6fa2ac2877241de8455b27313e039f4"
          }
        },
        "cc8e60f8c91e41eeb0269525cca91538": {
          "model_module": "@jupyter-widgets/controls",
          "model_name": "DescriptionStyleModel",
          "model_module_version": "1.5.0",
          "state": {
            "_view_name": "StyleView",
            "_model_name": "DescriptionStyleModel",
            "description_width": "",
            "_view_module": "@jupyter-widgets/base",
            "_model_module_version": "1.5.0",
            "_view_count": null,
            "_view_module_version": "1.2.0",
            "_model_module": "@jupyter-widgets/controls"
          }
        },
        "4927b7b7754542dcb03f9140acbb25cb": {
          "model_module": "@jupyter-widgets/base",
          "model_name": "LayoutModel",
          "model_module_version": "1.2.0",
          "state": {
            "_view_name": "LayoutView",
            "grid_template_rows": null,
            "right": null,
            "justify_content": null,
            "_view_module": "@jupyter-widgets/base",
            "overflow": null,
            "_model_module_version": "1.2.0",
            "_view_count": null,
            "flex_flow": null,
            "width": null,
            "min_width": null,
            "border": null,
            "align_items": null,
            "bottom": null,
            "_model_module": "@jupyter-widgets/base",
            "top": null,
            "grid_column": null,
            "overflow_y": null,
            "overflow_x": null,
            "grid_auto_flow": null,
            "grid_area": null,
            "grid_template_columns": null,
            "flex": null,
            "_model_name": "LayoutModel",
            "justify_items": null,
            "grid_row": null,
            "max_height": null,
            "align_content": null,
            "visibility": null,
            "align_self": null,
            "height": null,
            "min_height": null,
            "padding": null,
            "grid_auto_rows": null,
            "grid_gap": null,
            "max_width": null,
            "order": null,
            "_view_module_version": "1.2.0",
            "grid_template_areas": null,
            "object_position": null,
            "object_fit": null,
            "grid_auto_columns": null,
            "margin": null,
            "display": null,
            "left": null
          }
        },
        "b301fc75672946178e69e17f0e649e05": {
          "model_module": "@jupyter-widgets/controls",
          "model_name": "ProgressStyleModel",
          "model_module_version": "1.5.0",
          "state": {
            "_view_name": "StyleView",
            "_model_name": "ProgressStyleModel",
            "description_width": "",
            "_view_module": "@jupyter-widgets/base",
            "_model_module_version": "1.5.0",
            "_view_count": null,
            "_view_module_version": "1.2.0",
            "bar_color": null,
            "_model_module": "@jupyter-widgets/controls"
          }
        },
        "3e3d08b0a54540b488e81c60774c5637": {
          "model_module": "@jupyter-widgets/base",
          "model_name": "LayoutModel",
          "model_module_version": "1.2.0",
          "state": {
            "_view_name": "LayoutView",
            "grid_template_rows": null,
            "right": null,
            "justify_content": null,
            "_view_module": "@jupyter-widgets/base",
            "overflow": null,
            "_model_module_version": "1.2.0",
            "_view_count": null,
            "flex_flow": null,
            "width": "20px",
            "min_width": null,
            "border": null,
            "align_items": null,
            "bottom": null,
            "_model_module": "@jupyter-widgets/base",
            "top": null,
            "grid_column": null,
            "overflow_y": null,
            "overflow_x": null,
            "grid_auto_flow": null,
            "grid_area": null,
            "grid_template_columns": null,
            "flex": null,
            "_model_name": "LayoutModel",
            "justify_items": null,
            "grid_row": null,
            "max_height": null,
            "align_content": null,
            "visibility": null,
            "align_self": null,
            "height": null,
            "min_height": null,
            "padding": null,
            "grid_auto_rows": null,
            "grid_gap": null,
            "max_width": null,
            "order": null,
            "_view_module_version": "1.2.0",
            "grid_template_areas": null,
            "object_position": null,
            "object_fit": null,
            "grid_auto_columns": null,
            "margin": null,
            "display": null,
            "left": null
          }
        },
        "6cb1b81de99344f0b99aa55becf7be7a": {
          "model_module": "@jupyter-widgets/controls",
          "model_name": "DescriptionStyleModel",
          "model_module_version": "1.5.0",
          "state": {
            "_view_name": "StyleView",
            "_model_name": "DescriptionStyleModel",
            "description_width": "",
            "_view_module": "@jupyter-widgets/base",
            "_model_module_version": "1.5.0",
            "_view_count": null,
            "_view_module_version": "1.2.0",
            "_model_module": "@jupyter-widgets/controls"
          }
        },
        "f6fa2ac2877241de8455b27313e039f4": {
          "model_module": "@jupyter-widgets/base",
          "model_name": "LayoutModel",
          "model_module_version": "1.2.0",
          "state": {
            "_view_name": "LayoutView",
            "grid_template_rows": null,
            "right": null,
            "justify_content": null,
            "_view_module": "@jupyter-widgets/base",
            "overflow": null,
            "_model_module_version": "1.2.0",
            "_view_count": null,
            "flex_flow": null,
            "width": null,
            "min_width": null,
            "border": null,
            "align_items": null,
            "bottom": null,
            "_model_module": "@jupyter-widgets/base",
            "top": null,
            "grid_column": null,
            "overflow_y": null,
            "overflow_x": null,
            "grid_auto_flow": null,
            "grid_area": null,
            "grid_template_columns": null,
            "flex": null,
            "_model_name": "LayoutModel",
            "justify_items": null,
            "grid_row": null,
            "max_height": null,
            "align_content": null,
            "visibility": null,
            "align_self": null,
            "height": null,
            "min_height": null,
            "padding": null,
            "grid_auto_rows": null,
            "grid_gap": null,
            "max_width": null,
            "order": null,
            "_view_module_version": "1.2.0",
            "grid_template_areas": null,
            "object_position": null,
            "object_fit": null,
            "grid_auto_columns": null,
            "margin": null,
            "display": null,
            "left": null
          }
        },
        "9b69be965bb049ee8aa95d0d79ca5ab9": {
          "model_module": "@jupyter-widgets/controls",
          "model_name": "HBoxModel",
          "model_module_version": "1.5.0",
          "state": {
            "_view_name": "HBoxView",
            "_dom_classes": [],
            "_model_name": "HBoxModel",
            "_view_module": "@jupyter-widgets/controls",
            "_model_module_version": "1.5.0",
            "_view_count": null,
            "_view_module_version": "1.5.0",
            "box_style": "",
            "layout": "IPY_MODEL_ea18603872ec486cb95ab0e6191dc2b8",
            "_model_module": "@jupyter-widgets/controls",
            "children": [
              "IPY_MODEL_9b2a177efacc4dbcabb4ff14eeae1fda",
              "IPY_MODEL_d7fdb79bb6f04b45a7072bc3d21b4549",
              "IPY_MODEL_8c947fef9ab248178ccbabd3a5ed8290"
            ]
          }
        },
        "ea18603872ec486cb95ab0e6191dc2b8": {
          "model_module": "@jupyter-widgets/base",
          "model_name": "LayoutModel",
          "model_module_version": "1.2.0",
          "state": {
            "_view_name": "LayoutView",
            "grid_template_rows": null,
            "right": null,
            "justify_content": null,
            "_view_module": "@jupyter-widgets/base",
            "overflow": null,
            "_model_module_version": "1.2.0",
            "_view_count": null,
            "flex_flow": null,
            "width": null,
            "min_width": null,
            "border": null,
            "align_items": null,
            "bottom": null,
            "_model_module": "@jupyter-widgets/base",
            "top": null,
            "grid_column": null,
            "overflow_y": null,
            "overflow_x": null,
            "grid_auto_flow": null,
            "grid_area": null,
            "grid_template_columns": null,
            "flex": null,
            "_model_name": "LayoutModel",
            "justify_items": null,
            "grid_row": null,
            "max_height": null,
            "align_content": null,
            "visibility": null,
            "align_self": null,
            "height": null,
            "min_height": null,
            "padding": null,
            "grid_auto_rows": null,
            "grid_gap": null,
            "max_width": null,
            "order": null,
            "_view_module_version": "1.2.0",
            "grid_template_areas": null,
            "object_position": null,
            "object_fit": null,
            "grid_auto_columns": null,
            "margin": null,
            "display": null,
            "left": null
          }
        },
        "9b2a177efacc4dbcabb4ff14eeae1fda": {
          "model_module": "@jupyter-widgets/controls",
          "model_name": "HTMLModel",
          "model_module_version": "1.5.0",
          "state": {
            "_view_name": "HTMLView",
            "style": "IPY_MODEL_8635bedd144e4be493616f2e05054454",
            "_dom_classes": [],
            "description": "",
            "_model_name": "HTMLModel",
            "placeholder": "​",
            "_view_module": "@jupyter-widgets/controls",
            "_model_module_version": "1.5.0",
            "value": "",
            "_view_count": null,
            "_view_module_version": "1.5.0",
            "description_tooltip": null,
            "_model_module": "@jupyter-widgets/controls",
            "layout": "IPY_MODEL_4f9cceb6053e4c0f85b6fb116f6b3f44"
          }
        },
        "d7fdb79bb6f04b45a7072bc3d21b4549": {
          "model_module": "@jupyter-widgets/controls",
          "model_name": "FloatProgressModel",
          "model_module_version": "1.5.0",
          "state": {
            "_view_name": "ProgressView",
            "style": "IPY_MODEL_a8e915abce6247ed9a745abd48f4c936",
            "_dom_classes": [],
            "description": "",
            "_model_name": "FloatProgressModel",
            "bar_style": "info",
            "max": 1,
            "_view_module": "@jupyter-widgets/controls",
            "_model_module_version": "1.5.0",
            "value": 1,
            "_view_count": null,
            "_view_module_version": "1.5.0",
            "orientation": "horizontal",
            "min": 0,
            "description_tooltip": null,
            "_model_module": "@jupyter-widgets/controls",
            "layout": "IPY_MODEL_975624ff8077481eaa34722bc4d9bb16"
          }
        },
        "8c947fef9ab248178ccbabd3a5ed8290": {
          "model_module": "@jupyter-widgets/controls",
          "model_name": "HTMLModel",
          "model_module_version": "1.5.0",
          "state": {
            "_view_name": "HTMLView",
            "style": "IPY_MODEL_02ed5dfe4f854d48b3c054b07e09dac3",
            "_dom_classes": [],
            "description": "",
            "_model_name": "HTMLModel",
            "placeholder": "​",
            "_view_module": "@jupyter-widgets/controls",
            "_model_module_version": "1.5.0",
            "value": " 1411/0 [00:00&lt;00:00, 7802.18 examples/s]",
            "_view_count": null,
            "_view_module_version": "1.5.0",
            "description_tooltip": null,
            "_model_module": "@jupyter-widgets/controls",
            "layout": "IPY_MODEL_06e9e495a9434efda21416830b80b850"
          }
        },
        "8635bedd144e4be493616f2e05054454": {
          "model_module": "@jupyter-widgets/controls",
          "model_name": "DescriptionStyleModel",
          "model_module_version": "1.5.0",
          "state": {
            "_view_name": "StyleView",
            "_model_name": "DescriptionStyleModel",
            "description_width": "",
            "_view_module": "@jupyter-widgets/base",
            "_model_module_version": "1.5.0",
            "_view_count": null,
            "_view_module_version": "1.2.0",
            "_model_module": "@jupyter-widgets/controls"
          }
        },
        "4f9cceb6053e4c0f85b6fb116f6b3f44": {
          "model_module": "@jupyter-widgets/base",
          "model_name": "LayoutModel",
          "model_module_version": "1.2.0",
          "state": {
            "_view_name": "LayoutView",
            "grid_template_rows": null,
            "right": null,
            "justify_content": null,
            "_view_module": "@jupyter-widgets/base",
            "overflow": null,
            "_model_module_version": "1.2.0",
            "_view_count": null,
            "flex_flow": null,
            "width": null,
            "min_width": null,
            "border": null,
            "align_items": null,
            "bottom": null,
            "_model_module": "@jupyter-widgets/base",
            "top": null,
            "grid_column": null,
            "overflow_y": null,
            "overflow_x": null,
            "grid_auto_flow": null,
            "grid_area": null,
            "grid_template_columns": null,
            "flex": null,
            "_model_name": "LayoutModel",
            "justify_items": null,
            "grid_row": null,
            "max_height": null,
            "align_content": null,
            "visibility": null,
            "align_self": null,
            "height": null,
            "min_height": null,
            "padding": null,
            "grid_auto_rows": null,
            "grid_gap": null,
            "max_width": null,
            "order": null,
            "_view_module_version": "1.2.0",
            "grid_template_areas": null,
            "object_position": null,
            "object_fit": null,
            "grid_auto_columns": null,
            "margin": null,
            "display": null,
            "left": null
          }
        },
        "a8e915abce6247ed9a745abd48f4c936": {
          "model_module": "@jupyter-widgets/controls",
          "model_name": "ProgressStyleModel",
          "model_module_version": "1.5.0",
          "state": {
            "_view_name": "StyleView",
            "_model_name": "ProgressStyleModel",
            "description_width": "",
            "_view_module": "@jupyter-widgets/base",
            "_model_module_version": "1.5.0",
            "_view_count": null,
            "_view_module_version": "1.2.0",
            "bar_color": null,
            "_model_module": "@jupyter-widgets/controls"
          }
        },
        "975624ff8077481eaa34722bc4d9bb16": {
          "model_module": "@jupyter-widgets/base",
          "model_name": "LayoutModel",
          "model_module_version": "1.2.0",
          "state": {
            "_view_name": "LayoutView",
            "grid_template_rows": null,
            "right": null,
            "justify_content": null,
            "_view_module": "@jupyter-widgets/base",
            "overflow": null,
            "_model_module_version": "1.2.0",
            "_view_count": null,
            "flex_flow": null,
            "width": "20px",
            "min_width": null,
            "border": null,
            "align_items": null,
            "bottom": null,
            "_model_module": "@jupyter-widgets/base",
            "top": null,
            "grid_column": null,
            "overflow_y": null,
            "overflow_x": null,
            "grid_auto_flow": null,
            "grid_area": null,
            "grid_template_columns": null,
            "flex": null,
            "_model_name": "LayoutModel",
            "justify_items": null,
            "grid_row": null,
            "max_height": null,
            "align_content": null,
            "visibility": null,
            "align_self": null,
            "height": null,
            "min_height": null,
            "padding": null,
            "grid_auto_rows": null,
            "grid_gap": null,
            "max_width": null,
            "order": null,
            "_view_module_version": "1.2.0",
            "grid_template_areas": null,
            "object_position": null,
            "object_fit": null,
            "grid_auto_columns": null,
            "margin": null,
            "display": null,
            "left": null
          }
        },
        "02ed5dfe4f854d48b3c054b07e09dac3": {
          "model_module": "@jupyter-widgets/controls",
          "model_name": "DescriptionStyleModel",
          "model_module_version": "1.5.0",
          "state": {
            "_view_name": "StyleView",
            "_model_name": "DescriptionStyleModel",
            "description_width": "",
            "_view_module": "@jupyter-widgets/base",
            "_model_module_version": "1.5.0",
            "_view_count": null,
            "_view_module_version": "1.2.0",
            "_model_module": "@jupyter-widgets/controls"
          }
        },
        "06e9e495a9434efda21416830b80b850": {
          "model_module": "@jupyter-widgets/base",
          "model_name": "LayoutModel",
          "model_module_version": "1.2.0",
          "state": {
            "_view_name": "LayoutView",
            "grid_template_rows": null,
            "right": null,
            "justify_content": null,
            "_view_module": "@jupyter-widgets/base",
            "overflow": null,
            "_model_module_version": "1.2.0",
            "_view_count": null,
            "flex_flow": null,
            "width": null,
            "min_width": null,
            "border": null,
            "align_items": null,
            "bottom": null,
            "_model_module": "@jupyter-widgets/base",
            "top": null,
            "grid_column": null,
            "overflow_y": null,
            "overflow_x": null,
            "grid_auto_flow": null,
            "grid_area": null,
            "grid_template_columns": null,
            "flex": null,
            "_model_name": "LayoutModel",
            "justify_items": null,
            "grid_row": null,
            "max_height": null,
            "align_content": null,
            "visibility": null,
            "align_self": null,
            "height": null,
            "min_height": null,
            "padding": null,
            "grid_auto_rows": null,
            "grid_gap": null,
            "max_width": null,
            "order": null,
            "_view_module_version": "1.2.0",
            "grid_template_areas": null,
            "object_position": null,
            "object_fit": null,
            "grid_auto_columns": null,
            "margin": null,
            "display": null,
            "left": null
          }
        },
        "3ac0a0de10b04e3292a4168867b2bf11": {
          "model_module": "@jupyter-widgets/controls",
          "model_name": "HBoxModel",
          "model_module_version": "1.5.0",
          "state": {
            "_view_name": "HBoxView",
            "_dom_classes": [],
            "_model_name": "HBoxModel",
            "_view_module": "@jupyter-widgets/controls",
            "_model_module_version": "1.5.0",
            "_view_count": null,
            "_view_module_version": "1.5.0",
            "box_style": "",
            "layout": "IPY_MODEL_d0a2095bba254e629d6decf1912964d0",
            "_model_module": "@jupyter-widgets/controls",
            "children": [
              "IPY_MODEL_04dbbd50c49444ba9d683f99375d3374",
              "IPY_MODEL_c3a8d47721ba417893ec063fb9cec957",
              "IPY_MODEL_aa5801b9b2124fa7aa9d51b40527fd17"
            ]
          }
        },
        "d0a2095bba254e629d6decf1912964d0": {
          "model_module": "@jupyter-widgets/base",
          "model_name": "LayoutModel",
          "model_module_version": "1.2.0",
          "state": {
            "_view_name": "LayoutView",
            "grid_template_rows": null,
            "right": null,
            "justify_content": null,
            "_view_module": "@jupyter-widgets/base",
            "overflow": null,
            "_model_module_version": "1.2.0",
            "_view_count": null,
            "flex_flow": null,
            "width": null,
            "min_width": null,
            "border": null,
            "align_items": null,
            "bottom": null,
            "_model_module": "@jupyter-widgets/base",
            "top": null,
            "grid_column": null,
            "overflow_y": null,
            "overflow_x": null,
            "grid_auto_flow": null,
            "grid_area": null,
            "grid_template_columns": null,
            "flex": null,
            "_model_name": "LayoutModel",
            "justify_items": null,
            "grid_row": null,
            "max_height": null,
            "align_content": null,
            "visibility": null,
            "align_self": null,
            "height": null,
            "min_height": null,
            "padding": null,
            "grid_auto_rows": null,
            "grid_gap": null,
            "max_width": null,
            "order": null,
            "_view_module_version": "1.2.0",
            "grid_template_areas": null,
            "object_position": null,
            "object_fit": null,
            "grid_auto_columns": null,
            "margin": null,
            "display": null,
            "left": null
          }
        },
        "04dbbd50c49444ba9d683f99375d3374": {
          "model_module": "@jupyter-widgets/controls",
          "model_name": "HTMLModel",
          "model_module_version": "1.5.0",
          "state": {
            "_view_name": "HTMLView",
            "style": "IPY_MODEL_d61f295820814e7483e1a3aed26d8c80",
            "_dom_classes": [],
            "description": "",
            "_model_name": "HTMLModel",
            "placeholder": "​",
            "_view_module": "@jupyter-widgets/controls",
            "_model_module_version": "1.5.0",
            "value": "",
            "_view_count": null,
            "_view_module_version": "1.5.0",
            "description_tooltip": null,
            "_model_module": "@jupyter-widgets/controls",
            "layout": "IPY_MODEL_c5c6a6b162c9421d97d56e22cef4bd54"
          }
        },
        "c3a8d47721ba417893ec063fb9cec957": {
          "model_module": "@jupyter-widgets/controls",
          "model_name": "FloatProgressModel",
          "model_module_version": "1.5.0",
          "state": {
            "_view_name": "ProgressView",
            "style": "IPY_MODEL_79f3146f569443e582c5b20d0cf54f30",
            "_dom_classes": [],
            "description": "",
            "_model_name": "FloatProgressModel",
            "bar_style": "info",
            "max": 1,
            "_view_module": "@jupyter-widgets/controls",
            "_model_module_version": "1.5.0",
            "value": 1,
            "_view_count": null,
            "_view_module_version": "1.5.0",
            "orientation": "horizontal",
            "min": 0,
            "description_tooltip": null,
            "_model_module": "@jupyter-widgets/controls",
            "layout": "IPY_MODEL_b26c8147d8fb40fdbe3de28237d2cd93"
          }
        },
        "aa5801b9b2124fa7aa9d51b40527fd17": {
          "model_module": "@jupyter-widgets/controls",
          "model_name": "HTMLModel",
          "model_module_version": "1.5.0",
          "state": {
            "_view_name": "HTMLView",
            "style": "IPY_MODEL_46f21bc4af07484083ade49c01ebff98",
            "_dom_classes": [],
            "description": "",
            "_model_name": "HTMLModel",
            "placeholder": "​",
            "_view_module": "@jupyter-widgets/controls",
            "_model_module_version": "1.5.0",
            "value": " 0/0 [00:00&lt;?, ? examples/s]",
            "_view_count": null,
            "_view_module_version": "1.5.0",
            "description_tooltip": null,
            "_model_module": "@jupyter-widgets/controls",
            "layout": "IPY_MODEL_fa817ad9a2d549ac8879713ad91ed054"
          }
        },
        "d61f295820814e7483e1a3aed26d8c80": {
          "model_module": "@jupyter-widgets/controls",
          "model_name": "DescriptionStyleModel",
          "model_module_version": "1.5.0",
          "state": {
            "_view_name": "StyleView",
            "_model_name": "DescriptionStyleModel",
            "description_width": "",
            "_view_module": "@jupyter-widgets/base",
            "_model_module_version": "1.5.0",
            "_view_count": null,
            "_view_module_version": "1.2.0",
            "_model_module": "@jupyter-widgets/controls"
          }
        },
        "c5c6a6b162c9421d97d56e22cef4bd54": {
          "model_module": "@jupyter-widgets/base",
          "model_name": "LayoutModel",
          "model_module_version": "1.2.0",
          "state": {
            "_view_name": "LayoutView",
            "grid_template_rows": null,
            "right": null,
            "justify_content": null,
            "_view_module": "@jupyter-widgets/base",
            "overflow": null,
            "_model_module_version": "1.2.0",
            "_view_count": null,
            "flex_flow": null,
            "width": null,
            "min_width": null,
            "border": null,
            "align_items": null,
            "bottom": null,
            "_model_module": "@jupyter-widgets/base",
            "top": null,
            "grid_column": null,
            "overflow_y": null,
            "overflow_x": null,
            "grid_auto_flow": null,
            "grid_area": null,
            "grid_template_columns": null,
            "flex": null,
            "_model_name": "LayoutModel",
            "justify_items": null,
            "grid_row": null,
            "max_height": null,
            "align_content": null,
            "visibility": null,
            "align_self": null,
            "height": null,
            "min_height": null,
            "padding": null,
            "grid_auto_rows": null,
            "grid_gap": null,
            "max_width": null,
            "order": null,
            "_view_module_version": "1.2.0",
            "grid_template_areas": null,
            "object_position": null,
            "object_fit": null,
            "grid_auto_columns": null,
            "margin": null,
            "display": null,
            "left": null
          }
        },
        "79f3146f569443e582c5b20d0cf54f30": {
          "model_module": "@jupyter-widgets/controls",
          "model_name": "ProgressStyleModel",
          "model_module_version": "1.5.0",
          "state": {
            "_view_name": "StyleView",
            "_model_name": "ProgressStyleModel",
            "description_width": "",
            "_view_module": "@jupyter-widgets/base",
            "_model_module_version": "1.5.0",
            "_view_count": null,
            "_view_module_version": "1.2.0",
            "bar_color": null,
            "_model_module": "@jupyter-widgets/controls"
          }
        },
        "b26c8147d8fb40fdbe3de28237d2cd93": {
          "model_module": "@jupyter-widgets/base",
          "model_name": "LayoutModel",
          "model_module_version": "1.2.0",
          "state": {
            "_view_name": "LayoutView",
            "grid_template_rows": null,
            "right": null,
            "justify_content": null,
            "_view_module": "@jupyter-widgets/base",
            "overflow": null,
            "_model_module_version": "1.2.0",
            "_view_count": null,
            "flex_flow": null,
            "width": "20px",
            "min_width": null,
            "border": null,
            "align_items": null,
            "bottom": null,
            "_model_module": "@jupyter-widgets/base",
            "top": null,
            "grid_column": null,
            "overflow_y": null,
            "overflow_x": null,
            "grid_auto_flow": null,
            "grid_area": null,
            "grid_template_columns": null,
            "flex": null,
            "_model_name": "LayoutModel",
            "justify_items": null,
            "grid_row": null,
            "max_height": null,
            "align_content": null,
            "visibility": null,
            "align_self": null,
            "height": null,
            "min_height": null,
            "padding": null,
            "grid_auto_rows": null,
            "grid_gap": null,
            "max_width": null,
            "order": null,
            "_view_module_version": "1.2.0",
            "grid_template_areas": null,
            "object_position": null,
            "object_fit": null,
            "grid_auto_columns": null,
            "margin": null,
            "display": null,
            "left": null
          }
        },
        "46f21bc4af07484083ade49c01ebff98": {
          "model_module": "@jupyter-widgets/controls",
          "model_name": "DescriptionStyleModel",
          "model_module_version": "1.5.0",
          "state": {
            "_view_name": "StyleView",
            "_model_name": "DescriptionStyleModel",
            "description_width": "",
            "_view_module": "@jupyter-widgets/base",
            "_model_module_version": "1.5.0",
            "_view_count": null,
            "_view_module_version": "1.2.0",
            "_model_module": "@jupyter-widgets/controls"
          }
        },
        "fa817ad9a2d549ac8879713ad91ed054": {
          "model_module": "@jupyter-widgets/base",
          "model_name": "LayoutModel",
          "model_module_version": "1.2.0",
          "state": {
            "_view_name": "LayoutView",
            "grid_template_rows": null,
            "right": null,
            "justify_content": null,
            "_view_module": "@jupyter-widgets/base",
            "overflow": null,
            "_model_module_version": "1.2.0",
            "_view_count": null,
            "flex_flow": null,
            "width": null,
            "min_width": null,
            "border": null,
            "align_items": null,
            "bottom": null,
            "_model_module": "@jupyter-widgets/base",
            "top": null,
            "grid_column": null,
            "overflow_y": null,
            "overflow_x": null,
            "grid_auto_flow": null,
            "grid_area": null,
            "grid_template_columns": null,
            "flex": null,
            "_model_name": "LayoutModel",
            "justify_items": null,
            "grid_row": null,
            "max_height": null,
            "align_content": null,
            "visibility": null,
            "align_self": null,
            "height": null,
            "min_height": null,
            "padding": null,
            "grid_auto_rows": null,
            "grid_gap": null,
            "max_width": null,
            "order": null,
            "_view_module_version": "1.2.0",
            "grid_template_areas": null,
            "object_position": null,
            "object_fit": null,
            "grid_auto_columns": null,
            "margin": null,
            "display": null,
            "left": null
          }
        },
        "9557a0d7462d4818b6ef44e8950a038d": {
          "model_module": "@jupyter-widgets/controls",
          "model_name": "HBoxModel",
          "model_module_version": "1.5.0",
          "state": {
            "_view_name": "HBoxView",
            "_dom_classes": [],
            "_model_name": "HBoxModel",
            "_view_module": "@jupyter-widgets/controls",
            "_model_module_version": "1.5.0",
            "_view_count": null,
            "_view_module_version": "1.5.0",
            "box_style": "",
            "layout": "IPY_MODEL_e7dc1867c70842eb91ef5156a558edb3",
            "_model_module": "@jupyter-widgets/controls",
            "children": [
              "IPY_MODEL_9972124756d94b6d9943798b7aec6ada",
              "IPY_MODEL_d2accef698f4473d89ee4e394faadffb",
              "IPY_MODEL_39c1c98885f64274a7bc9d4626ad7f35"
            ]
          }
        },
        "e7dc1867c70842eb91ef5156a558edb3": {
          "model_module": "@jupyter-widgets/base",
          "model_name": "LayoutModel",
          "model_module_version": "1.2.0",
          "state": {
            "_view_name": "LayoutView",
            "grid_template_rows": null,
            "right": null,
            "justify_content": null,
            "_view_module": "@jupyter-widgets/base",
            "overflow": null,
            "_model_module_version": "1.2.0",
            "_view_count": null,
            "flex_flow": null,
            "width": null,
            "min_width": null,
            "border": null,
            "align_items": null,
            "bottom": null,
            "_model_module": "@jupyter-widgets/base",
            "top": null,
            "grid_column": null,
            "overflow_y": null,
            "overflow_x": null,
            "grid_auto_flow": null,
            "grid_area": null,
            "grid_template_columns": null,
            "flex": null,
            "_model_name": "LayoutModel",
            "justify_items": null,
            "grid_row": null,
            "max_height": null,
            "align_content": null,
            "visibility": null,
            "align_self": null,
            "height": null,
            "min_height": null,
            "padding": null,
            "grid_auto_rows": null,
            "grid_gap": null,
            "max_width": null,
            "order": null,
            "_view_module_version": "1.2.0",
            "grid_template_areas": null,
            "object_position": null,
            "object_fit": null,
            "grid_auto_columns": null,
            "margin": null,
            "display": null,
            "left": null
          }
        },
        "9972124756d94b6d9943798b7aec6ada": {
          "model_module": "@jupyter-widgets/controls",
          "model_name": "HTMLModel",
          "model_module_version": "1.5.0",
          "state": {
            "_view_name": "HTMLView",
            "style": "IPY_MODEL_081d1da56574428f97379af0c4538fbb",
            "_dom_classes": [],
            "description": "",
            "_model_name": "HTMLModel",
            "placeholder": "​",
            "_view_module": "@jupyter-widgets/controls",
            "_model_module_version": "1.5.0",
            "value": "100%",
            "_view_count": null,
            "_view_module_version": "1.5.0",
            "description_tooltip": null,
            "_model_module": "@jupyter-widgets/controls",
            "layout": "IPY_MODEL_2e63f1db64e74a7ea1cf8541ecf77c8b"
          }
        },
        "d2accef698f4473d89ee4e394faadffb": {
          "model_module": "@jupyter-widgets/controls",
          "model_name": "FloatProgressModel",
          "model_module_version": "1.5.0",
          "state": {
            "_view_name": "ProgressView",
            "style": "IPY_MODEL_b2ce9a65b3a444f08c7fedf194a60315",
            "_dom_classes": [],
            "description": "",
            "_model_name": "FloatProgressModel",
            "bar_style": "success",
            "max": 4554,
            "_view_module": "@jupyter-widgets/controls",
            "_model_module_version": "1.5.0",
            "value": 4554,
            "_view_count": null,
            "_view_module_version": "1.5.0",
            "orientation": "horizontal",
            "min": 0,
            "description_tooltip": null,
            "_model_module": "@jupyter-widgets/controls",
            "layout": "IPY_MODEL_63c6171c115f44b2a2b4ff06bc317f79"
          }
        },
        "39c1c98885f64274a7bc9d4626ad7f35": {
          "model_module": "@jupyter-widgets/controls",
          "model_name": "HTMLModel",
          "model_module_version": "1.5.0",
          "state": {
            "_view_name": "HTMLView",
            "style": "IPY_MODEL_a3c6c0feaef140bea06bb25fd1db2f89",
            "_dom_classes": [],
            "description": "",
            "_model_name": "HTMLModel",
            "placeholder": "​",
            "_view_module": "@jupyter-widgets/controls",
            "_model_module_version": "1.5.0",
            "value": " 4554/4554 [00:00&lt;00:00, 11824.67ex/s]",
            "_view_count": null,
            "_view_module_version": "1.5.0",
            "description_tooltip": null,
            "_model_module": "@jupyter-widgets/controls",
            "layout": "IPY_MODEL_ac5d6dc9e78a4818992c55ffb6435e83"
          }
        },
        "081d1da56574428f97379af0c4538fbb": {
          "model_module": "@jupyter-widgets/controls",
          "model_name": "DescriptionStyleModel",
          "model_module_version": "1.5.0",
          "state": {
            "_view_name": "StyleView",
            "_model_name": "DescriptionStyleModel",
            "description_width": "",
            "_view_module": "@jupyter-widgets/base",
            "_model_module_version": "1.5.0",
            "_view_count": null,
            "_view_module_version": "1.2.0",
            "_model_module": "@jupyter-widgets/controls"
          }
        },
        "2e63f1db64e74a7ea1cf8541ecf77c8b": {
          "model_module": "@jupyter-widgets/base",
          "model_name": "LayoutModel",
          "model_module_version": "1.2.0",
          "state": {
            "_view_name": "LayoutView",
            "grid_template_rows": null,
            "right": null,
            "justify_content": null,
            "_view_module": "@jupyter-widgets/base",
            "overflow": null,
            "_model_module_version": "1.2.0",
            "_view_count": null,
            "flex_flow": null,
            "width": null,
            "min_width": null,
            "border": null,
            "align_items": null,
            "bottom": null,
            "_model_module": "@jupyter-widgets/base",
            "top": null,
            "grid_column": null,
            "overflow_y": null,
            "overflow_x": null,
            "grid_auto_flow": null,
            "grid_area": null,
            "grid_template_columns": null,
            "flex": null,
            "_model_name": "LayoutModel",
            "justify_items": null,
            "grid_row": null,
            "max_height": null,
            "align_content": null,
            "visibility": null,
            "align_self": null,
            "height": null,
            "min_height": null,
            "padding": null,
            "grid_auto_rows": null,
            "grid_gap": null,
            "max_width": null,
            "order": null,
            "_view_module_version": "1.2.0",
            "grid_template_areas": null,
            "object_position": null,
            "object_fit": null,
            "grid_auto_columns": null,
            "margin": null,
            "display": null,
            "left": null
          }
        },
        "b2ce9a65b3a444f08c7fedf194a60315": {
          "model_module": "@jupyter-widgets/controls",
          "model_name": "ProgressStyleModel",
          "model_module_version": "1.5.0",
          "state": {
            "_view_name": "StyleView",
            "_model_name": "ProgressStyleModel",
            "description_width": "",
            "_view_module": "@jupyter-widgets/base",
            "_model_module_version": "1.5.0",
            "_view_count": null,
            "_view_module_version": "1.2.0",
            "bar_color": null,
            "_model_module": "@jupyter-widgets/controls"
          }
        },
        "63c6171c115f44b2a2b4ff06bc317f79": {
          "model_module": "@jupyter-widgets/base",
          "model_name": "LayoutModel",
          "model_module_version": "1.2.0",
          "state": {
            "_view_name": "LayoutView",
            "grid_template_rows": null,
            "right": null,
            "justify_content": null,
            "_view_module": "@jupyter-widgets/base",
            "overflow": null,
            "_model_module_version": "1.2.0",
            "_view_count": null,
            "flex_flow": null,
            "width": null,
            "min_width": null,
            "border": null,
            "align_items": null,
            "bottom": null,
            "_model_module": "@jupyter-widgets/base",
            "top": null,
            "grid_column": null,
            "overflow_y": null,
            "overflow_x": null,
            "grid_auto_flow": null,
            "grid_area": null,
            "grid_template_columns": null,
            "flex": null,
            "_model_name": "LayoutModel",
            "justify_items": null,
            "grid_row": null,
            "max_height": null,
            "align_content": null,
            "visibility": null,
            "align_self": null,
            "height": null,
            "min_height": null,
            "padding": null,
            "grid_auto_rows": null,
            "grid_gap": null,
            "max_width": null,
            "order": null,
            "_view_module_version": "1.2.0",
            "grid_template_areas": null,
            "object_position": null,
            "object_fit": null,
            "grid_auto_columns": null,
            "margin": null,
            "display": null,
            "left": null
          }
        },
        "a3c6c0feaef140bea06bb25fd1db2f89": {
          "model_module": "@jupyter-widgets/controls",
          "model_name": "DescriptionStyleModel",
          "model_module_version": "1.5.0",
          "state": {
            "_view_name": "StyleView",
            "_model_name": "DescriptionStyleModel",
            "description_width": "",
            "_view_module": "@jupyter-widgets/base",
            "_model_module_version": "1.5.0",
            "_view_count": null,
            "_view_module_version": "1.2.0",
            "_model_module": "@jupyter-widgets/controls"
          }
        },
        "ac5d6dc9e78a4818992c55ffb6435e83": {
          "model_module": "@jupyter-widgets/base",
          "model_name": "LayoutModel",
          "model_module_version": "1.2.0",
          "state": {
            "_view_name": "LayoutView",
            "grid_template_rows": null,
            "right": null,
            "justify_content": null,
            "_view_module": "@jupyter-widgets/base",
            "overflow": null,
            "_model_module_version": "1.2.0",
            "_view_count": null,
            "flex_flow": null,
            "width": null,
            "min_width": null,
            "border": null,
            "align_items": null,
            "bottom": null,
            "_model_module": "@jupyter-widgets/base",
            "top": null,
            "grid_column": null,
            "overflow_y": null,
            "overflow_x": null,
            "grid_auto_flow": null,
            "grid_area": null,
            "grid_template_columns": null,
            "flex": null,
            "_model_name": "LayoutModel",
            "justify_items": null,
            "grid_row": null,
            "max_height": null,
            "align_content": null,
            "visibility": null,
            "align_self": null,
            "height": null,
            "min_height": null,
            "padding": null,
            "grid_auto_rows": null,
            "grid_gap": null,
            "max_width": null,
            "order": null,
            "_view_module_version": "1.2.0",
            "grid_template_areas": null,
            "object_position": null,
            "object_fit": null,
            "grid_auto_columns": null,
            "margin": null,
            "display": null,
            "left": null
          }
        },
        "7b561674dc4e4856961fd3971bac435f": {
          "model_module": "@jupyter-widgets/controls",
          "model_name": "HBoxModel",
          "model_module_version": "1.5.0",
          "state": {
            "_view_name": "HBoxView",
            "_dom_classes": [],
            "_model_name": "HBoxModel",
            "_view_module": "@jupyter-widgets/controls",
            "_model_module_version": "1.5.0",
            "_view_count": null,
            "_view_module_version": "1.5.0",
            "box_style": "",
            "layout": "IPY_MODEL_4fb32f8591d74a13b4e3e23fac9ae8a5",
            "_model_module": "@jupyter-widgets/controls",
            "children": [
              "IPY_MODEL_5e99929c1338436bacd6cdacbfdb51b1",
              "IPY_MODEL_f6cb32e09b4e42e0918dffad9838310d",
              "IPY_MODEL_0e4f287c05cb4d28bf4a7ea6e7d46a8f"
            ]
          }
        },
        "4fb32f8591d74a13b4e3e23fac9ae8a5": {
          "model_module": "@jupyter-widgets/base",
          "model_name": "LayoutModel",
          "model_module_version": "1.2.0",
          "state": {
            "_view_name": "LayoutView",
            "grid_template_rows": null,
            "right": null,
            "justify_content": null,
            "_view_module": "@jupyter-widgets/base",
            "overflow": null,
            "_model_module_version": "1.2.0",
            "_view_count": null,
            "flex_flow": null,
            "width": null,
            "min_width": null,
            "border": null,
            "align_items": null,
            "bottom": null,
            "_model_module": "@jupyter-widgets/base",
            "top": null,
            "grid_column": null,
            "overflow_y": null,
            "overflow_x": null,
            "grid_auto_flow": null,
            "grid_area": null,
            "grid_template_columns": null,
            "flex": null,
            "_model_name": "LayoutModel",
            "justify_items": null,
            "grid_row": null,
            "max_height": null,
            "align_content": null,
            "visibility": null,
            "align_self": null,
            "height": null,
            "min_height": null,
            "padding": null,
            "grid_auto_rows": null,
            "grid_gap": null,
            "max_width": null,
            "order": null,
            "_view_module_version": "1.2.0",
            "grid_template_areas": null,
            "object_position": null,
            "object_fit": null,
            "grid_auto_columns": null,
            "margin": null,
            "display": null,
            "left": null
          }
        },
        "5e99929c1338436bacd6cdacbfdb51b1": {
          "model_module": "@jupyter-widgets/controls",
          "model_name": "HTMLModel",
          "model_module_version": "1.5.0",
          "state": {
            "_view_name": "HTMLView",
            "style": "IPY_MODEL_f6196e2e72ca4d55a880a42464f0e72a",
            "_dom_classes": [],
            "description": "",
            "_model_name": "HTMLModel",
            "placeholder": "​",
            "_view_module": "@jupyter-widgets/controls",
            "_model_module_version": "1.5.0",
            "value": "100%",
            "_view_count": null,
            "_view_module_version": "1.5.0",
            "description_tooltip": null,
            "_model_module": "@jupyter-widgets/controls",
            "layout": "IPY_MODEL_338948103700450a9f9c0d0c6ed5b9f7"
          }
        },
        "f6cb32e09b4e42e0918dffad9838310d": {
          "model_module": "@jupyter-widgets/controls",
          "model_name": "FloatProgressModel",
          "model_module_version": "1.5.0",
          "state": {
            "_view_name": "ProgressView",
            "style": "IPY_MODEL_8a62901f897c4957ab624e3176fb071d",
            "_dom_classes": [],
            "description": "",
            "_model_name": "FloatProgressModel",
            "bar_style": "success",
            "max": 1882,
            "_view_module": "@jupyter-widgets/controls",
            "_model_module_version": "1.5.0",
            "value": 1882,
            "_view_count": null,
            "_view_module_version": "1.5.0",
            "orientation": "horizontal",
            "min": 0,
            "description_tooltip": null,
            "_model_module": "@jupyter-widgets/controls",
            "layout": "IPY_MODEL_47a6bc37a1f043f5bcf4d1edc6fb87ae"
          }
        },
        "0e4f287c05cb4d28bf4a7ea6e7d46a8f": {
          "model_module": "@jupyter-widgets/controls",
          "model_name": "HTMLModel",
          "model_module_version": "1.5.0",
          "state": {
            "_view_name": "HTMLView",
            "style": "IPY_MODEL_44dc8eb7c6e24f00b8d84f54b6424230",
            "_dom_classes": [],
            "description": "",
            "_model_name": "HTMLModel",
            "placeholder": "​",
            "_view_module": "@jupyter-widgets/controls",
            "_model_module_version": "1.5.0",
            "value": " 1882/1882 [00:00&lt;00:00, 8097.93ex/s]",
            "_view_count": null,
            "_view_module_version": "1.5.0",
            "description_tooltip": null,
            "_model_module": "@jupyter-widgets/controls",
            "layout": "IPY_MODEL_4baa5cb361cb44f8a275d0463743ad85"
          }
        },
        "f6196e2e72ca4d55a880a42464f0e72a": {
          "model_module": "@jupyter-widgets/controls",
          "model_name": "DescriptionStyleModel",
          "model_module_version": "1.5.0",
          "state": {
            "_view_name": "StyleView",
            "_model_name": "DescriptionStyleModel",
            "description_width": "",
            "_view_module": "@jupyter-widgets/base",
            "_model_module_version": "1.5.0",
            "_view_count": null,
            "_view_module_version": "1.2.0",
            "_model_module": "@jupyter-widgets/controls"
          }
        },
        "338948103700450a9f9c0d0c6ed5b9f7": {
          "model_module": "@jupyter-widgets/base",
          "model_name": "LayoutModel",
          "model_module_version": "1.2.0",
          "state": {
            "_view_name": "LayoutView",
            "grid_template_rows": null,
            "right": null,
            "justify_content": null,
            "_view_module": "@jupyter-widgets/base",
            "overflow": null,
            "_model_module_version": "1.2.0",
            "_view_count": null,
            "flex_flow": null,
            "width": null,
            "min_width": null,
            "border": null,
            "align_items": null,
            "bottom": null,
            "_model_module": "@jupyter-widgets/base",
            "top": null,
            "grid_column": null,
            "overflow_y": null,
            "overflow_x": null,
            "grid_auto_flow": null,
            "grid_area": null,
            "grid_template_columns": null,
            "flex": null,
            "_model_name": "LayoutModel",
            "justify_items": null,
            "grid_row": null,
            "max_height": null,
            "align_content": null,
            "visibility": null,
            "align_self": null,
            "height": null,
            "min_height": null,
            "padding": null,
            "grid_auto_rows": null,
            "grid_gap": null,
            "max_width": null,
            "order": null,
            "_view_module_version": "1.2.0",
            "grid_template_areas": null,
            "object_position": null,
            "object_fit": null,
            "grid_auto_columns": null,
            "margin": null,
            "display": null,
            "left": null
          }
        },
        "8a62901f897c4957ab624e3176fb071d": {
          "model_module": "@jupyter-widgets/controls",
          "model_name": "ProgressStyleModel",
          "model_module_version": "1.5.0",
          "state": {
            "_view_name": "StyleView",
            "_model_name": "ProgressStyleModel",
            "description_width": "",
            "_view_module": "@jupyter-widgets/base",
            "_model_module_version": "1.5.0",
            "_view_count": null,
            "_view_module_version": "1.2.0",
            "bar_color": null,
            "_model_module": "@jupyter-widgets/controls"
          }
        },
        "47a6bc37a1f043f5bcf4d1edc6fb87ae": {
          "model_module": "@jupyter-widgets/base",
          "model_name": "LayoutModel",
          "model_module_version": "1.2.0",
          "state": {
            "_view_name": "LayoutView",
            "grid_template_rows": null,
            "right": null,
            "justify_content": null,
            "_view_module": "@jupyter-widgets/base",
            "overflow": null,
            "_model_module_version": "1.2.0",
            "_view_count": null,
            "flex_flow": null,
            "width": null,
            "min_width": null,
            "border": null,
            "align_items": null,
            "bottom": null,
            "_model_module": "@jupyter-widgets/base",
            "top": null,
            "grid_column": null,
            "overflow_y": null,
            "overflow_x": null,
            "grid_auto_flow": null,
            "grid_area": null,
            "grid_template_columns": null,
            "flex": null,
            "_model_name": "LayoutModel",
            "justify_items": null,
            "grid_row": null,
            "max_height": null,
            "align_content": null,
            "visibility": null,
            "align_self": null,
            "height": null,
            "min_height": null,
            "padding": null,
            "grid_auto_rows": null,
            "grid_gap": null,
            "max_width": null,
            "order": null,
            "_view_module_version": "1.2.0",
            "grid_template_areas": null,
            "object_position": null,
            "object_fit": null,
            "grid_auto_columns": null,
            "margin": null,
            "display": null,
            "left": null
          }
        },
        "44dc8eb7c6e24f00b8d84f54b6424230": {
          "model_module": "@jupyter-widgets/controls",
          "model_name": "DescriptionStyleModel",
          "model_module_version": "1.5.0",
          "state": {
            "_view_name": "StyleView",
            "_model_name": "DescriptionStyleModel",
            "description_width": "",
            "_view_module": "@jupyter-widgets/base",
            "_model_module_version": "1.5.0",
            "_view_count": null,
            "_view_module_version": "1.2.0",
            "_model_module": "@jupyter-widgets/controls"
          }
        },
        "4baa5cb361cb44f8a275d0463743ad85": {
          "model_module": "@jupyter-widgets/base",
          "model_name": "LayoutModel",
          "model_module_version": "1.2.0",
          "state": {
            "_view_name": "LayoutView",
            "grid_template_rows": null,
            "right": null,
            "justify_content": null,
            "_view_module": "@jupyter-widgets/base",
            "overflow": null,
            "_model_module_version": "1.2.0",
            "_view_count": null,
            "flex_flow": null,
            "width": null,
            "min_width": null,
            "border": null,
            "align_items": null,
            "bottom": null,
            "_model_module": "@jupyter-widgets/base",
            "top": null,
            "grid_column": null,
            "overflow_y": null,
            "overflow_x": null,
            "grid_auto_flow": null,
            "grid_area": null,
            "grid_template_columns": null,
            "flex": null,
            "_model_name": "LayoutModel",
            "justify_items": null,
            "grid_row": null,
            "max_height": null,
            "align_content": null,
            "visibility": null,
            "align_self": null,
            "height": null,
            "min_height": null,
            "padding": null,
            "grid_auto_rows": null,
            "grid_gap": null,
            "max_width": null,
            "order": null,
            "_view_module_version": "1.2.0",
            "grid_template_areas": null,
            "object_position": null,
            "object_fit": null,
            "grid_auto_columns": null,
            "margin": null,
            "display": null,
            "left": null
          }
        },
        "c3dd570d91f24af69d91fc9cb38b4aae": {
          "model_module": "@jupyter-widgets/controls",
          "model_name": "HBoxModel",
          "model_module_version": "1.5.0",
          "state": {
            "_view_name": "HBoxView",
            "_dom_classes": [],
            "_model_name": "HBoxModel",
            "_view_module": "@jupyter-widgets/controls",
            "_model_module_version": "1.5.0",
            "_view_count": null,
            "_view_module_version": "1.5.0",
            "box_style": "",
            "layout": "IPY_MODEL_1b613258a62c421aacb12b0c0f93b3aa",
            "_model_module": "@jupyter-widgets/controls",
            "children": [
              "IPY_MODEL_54e4ddd999444bf9a5e9c3fd654ab567",
              "IPY_MODEL_c8d2a3a6a0b6481991ce7fceb4c36ae5",
              "IPY_MODEL_2719b9b10a22475a9e52d26b01998f30"
            ]
          }
        },
        "1b613258a62c421aacb12b0c0f93b3aa": {
          "model_module": "@jupyter-widgets/base",
          "model_name": "LayoutModel",
          "model_module_version": "1.2.0",
          "state": {
            "_view_name": "LayoutView",
            "grid_template_rows": null,
            "right": null,
            "justify_content": null,
            "_view_module": "@jupyter-widgets/base",
            "overflow": null,
            "_model_module_version": "1.2.0",
            "_view_count": null,
            "flex_flow": null,
            "width": null,
            "min_width": null,
            "border": null,
            "align_items": null,
            "bottom": null,
            "_model_module": "@jupyter-widgets/base",
            "top": null,
            "grid_column": null,
            "overflow_y": null,
            "overflow_x": null,
            "grid_auto_flow": null,
            "grid_area": null,
            "grid_template_columns": null,
            "flex": null,
            "_model_name": "LayoutModel",
            "justify_items": null,
            "grid_row": null,
            "max_height": null,
            "align_content": null,
            "visibility": null,
            "align_self": null,
            "height": null,
            "min_height": null,
            "padding": null,
            "grid_auto_rows": null,
            "grid_gap": null,
            "max_width": null,
            "order": null,
            "_view_module_version": "1.2.0",
            "grid_template_areas": null,
            "object_position": null,
            "object_fit": null,
            "grid_auto_columns": null,
            "margin": null,
            "display": null,
            "left": null
          }
        },
        "54e4ddd999444bf9a5e9c3fd654ab567": {
          "model_module": "@jupyter-widgets/controls",
          "model_name": "HTMLModel",
          "model_module_version": "1.5.0",
          "state": {
            "_view_name": "HTMLView",
            "style": "IPY_MODEL_8bd260e1d44d4e1691dc186d0043bb57",
            "_dom_classes": [],
            "description": "",
            "_model_name": "HTMLModel",
            "placeholder": "​",
            "_view_module": "@jupyter-widgets/controls",
            "_model_module_version": "1.5.0",
            "value": "100%",
            "_view_count": null,
            "_view_module_version": "1.5.0",
            "description_tooltip": null,
            "_model_module": "@jupyter-widgets/controls",
            "layout": "IPY_MODEL_49c6da5d757d440b83fd495ba2d32887"
          }
        },
        "c8d2a3a6a0b6481991ce7fceb4c36ae5": {
          "model_module": "@jupyter-widgets/controls",
          "model_name": "FloatProgressModel",
          "model_module_version": "1.5.0",
          "state": {
            "_view_name": "ProgressView",
            "style": "IPY_MODEL_6f9e7d9b099a4551a5cf54c203e61ff6",
            "_dom_classes": [],
            "description": "",
            "_model_name": "FloatProgressModel",
            "bar_style": "success",
            "max": 1,
            "_view_module": "@jupyter-widgets/controls",
            "_model_module_version": "1.5.0",
            "value": 1,
            "_view_count": null,
            "_view_module_version": "1.5.0",
            "orientation": "horizontal",
            "min": 0,
            "description_tooltip": null,
            "_model_module": "@jupyter-widgets/controls",
            "layout": "IPY_MODEL_37a7f257034746f7aeed022437da12fe"
          }
        },
        "2719b9b10a22475a9e52d26b01998f30": {
          "model_module": "@jupyter-widgets/controls",
          "model_name": "HTMLModel",
          "model_module_version": "1.5.0",
          "state": {
            "_view_name": "HTMLView",
            "style": "IPY_MODEL_2b64195dc4714270a6e51bf8dc14dd6d",
            "_dom_classes": [],
            "description": "",
            "_model_name": "HTMLModel",
            "placeholder": "​",
            "_view_module": "@jupyter-widgets/controls",
            "_model_module_version": "1.5.0",
            "value": " 1/1 [00:00&lt;00:00, 15.20ba/s]",
            "_view_count": null,
            "_view_module_version": "1.5.0",
            "description_tooltip": null,
            "_model_module": "@jupyter-widgets/controls",
            "layout": "IPY_MODEL_eef90ea64e7f4bdba06c764ecf51af05"
          }
        },
        "8bd260e1d44d4e1691dc186d0043bb57": {
          "model_module": "@jupyter-widgets/controls",
          "model_name": "DescriptionStyleModel",
          "model_module_version": "1.5.0",
          "state": {
            "_view_name": "StyleView",
            "_model_name": "DescriptionStyleModel",
            "description_width": "",
            "_view_module": "@jupyter-widgets/base",
            "_model_module_version": "1.5.0",
            "_view_count": null,
            "_view_module_version": "1.2.0",
            "_model_module": "@jupyter-widgets/controls"
          }
        },
        "49c6da5d757d440b83fd495ba2d32887": {
          "model_module": "@jupyter-widgets/base",
          "model_name": "LayoutModel",
          "model_module_version": "1.2.0",
          "state": {
            "_view_name": "LayoutView",
            "grid_template_rows": null,
            "right": null,
            "justify_content": null,
            "_view_module": "@jupyter-widgets/base",
            "overflow": null,
            "_model_module_version": "1.2.0",
            "_view_count": null,
            "flex_flow": null,
            "width": null,
            "min_width": null,
            "border": null,
            "align_items": null,
            "bottom": null,
            "_model_module": "@jupyter-widgets/base",
            "top": null,
            "grid_column": null,
            "overflow_y": null,
            "overflow_x": null,
            "grid_auto_flow": null,
            "grid_area": null,
            "grid_template_columns": null,
            "flex": null,
            "_model_name": "LayoutModel",
            "justify_items": null,
            "grid_row": null,
            "max_height": null,
            "align_content": null,
            "visibility": null,
            "align_self": null,
            "height": null,
            "min_height": null,
            "padding": null,
            "grid_auto_rows": null,
            "grid_gap": null,
            "max_width": null,
            "order": null,
            "_view_module_version": "1.2.0",
            "grid_template_areas": null,
            "object_position": null,
            "object_fit": null,
            "grid_auto_columns": null,
            "margin": null,
            "display": null,
            "left": null
          }
        },
        "6f9e7d9b099a4551a5cf54c203e61ff6": {
          "model_module": "@jupyter-widgets/controls",
          "model_name": "ProgressStyleModel",
          "model_module_version": "1.5.0",
          "state": {
            "_view_name": "StyleView",
            "_model_name": "ProgressStyleModel",
            "description_width": "",
            "_view_module": "@jupyter-widgets/base",
            "_model_module_version": "1.5.0",
            "_view_count": null,
            "_view_module_version": "1.2.0",
            "bar_color": null,
            "_model_module": "@jupyter-widgets/controls"
          }
        },
        "37a7f257034746f7aeed022437da12fe": {
          "model_module": "@jupyter-widgets/base",
          "model_name": "LayoutModel",
          "model_module_version": "1.2.0",
          "state": {
            "_view_name": "LayoutView",
            "grid_template_rows": null,
            "right": null,
            "justify_content": null,
            "_view_module": "@jupyter-widgets/base",
            "overflow": null,
            "_model_module_version": "1.2.0",
            "_view_count": null,
            "flex_flow": null,
            "width": null,
            "min_width": null,
            "border": null,
            "align_items": null,
            "bottom": null,
            "_model_module": "@jupyter-widgets/base",
            "top": null,
            "grid_column": null,
            "overflow_y": null,
            "overflow_x": null,
            "grid_auto_flow": null,
            "grid_area": null,
            "grid_template_columns": null,
            "flex": null,
            "_model_name": "LayoutModel",
            "justify_items": null,
            "grid_row": null,
            "max_height": null,
            "align_content": null,
            "visibility": null,
            "align_self": null,
            "height": null,
            "min_height": null,
            "padding": null,
            "grid_auto_rows": null,
            "grid_gap": null,
            "max_width": null,
            "order": null,
            "_view_module_version": "1.2.0",
            "grid_template_areas": null,
            "object_position": null,
            "object_fit": null,
            "grid_auto_columns": null,
            "margin": null,
            "display": null,
            "left": null
          }
        },
        "2b64195dc4714270a6e51bf8dc14dd6d": {
          "model_module": "@jupyter-widgets/controls",
          "model_name": "DescriptionStyleModel",
          "model_module_version": "1.5.0",
          "state": {
            "_view_name": "StyleView",
            "_model_name": "DescriptionStyleModel",
            "description_width": "",
            "_view_module": "@jupyter-widgets/base",
            "_model_module_version": "1.5.0",
            "_view_count": null,
            "_view_module_version": "1.2.0",
            "_model_module": "@jupyter-widgets/controls"
          }
        },
        "eef90ea64e7f4bdba06c764ecf51af05": {
          "model_module": "@jupyter-widgets/base",
          "model_name": "LayoutModel",
          "model_module_version": "1.2.0",
          "state": {
            "_view_name": "LayoutView",
            "grid_template_rows": null,
            "right": null,
            "justify_content": null,
            "_view_module": "@jupyter-widgets/base",
            "overflow": null,
            "_model_module_version": "1.2.0",
            "_view_count": null,
            "flex_flow": null,
            "width": null,
            "min_width": null,
            "border": null,
            "align_items": null,
            "bottom": null,
            "_model_module": "@jupyter-widgets/base",
            "top": null,
            "grid_column": null,
            "overflow_y": null,
            "overflow_x": null,
            "grid_auto_flow": null,
            "grid_area": null,
            "grid_template_columns": null,
            "flex": null,
            "_model_name": "LayoutModel",
            "justify_items": null,
            "grid_row": null,
            "max_height": null,
            "align_content": null,
            "visibility": null,
            "align_self": null,
            "height": null,
            "min_height": null,
            "padding": null,
            "grid_auto_rows": null,
            "grid_gap": null,
            "max_width": null,
            "order": null,
            "_view_module_version": "1.2.0",
            "grid_template_areas": null,
            "object_position": null,
            "object_fit": null,
            "grid_auto_columns": null,
            "margin": null,
            "display": null,
            "left": null
          }
        },
        "a208bf368a154063a00d68a0ec2fb78f": {
          "model_module": "@jupyter-widgets/controls",
          "model_name": "HBoxModel",
          "model_module_version": "1.5.0",
          "state": {
            "_view_name": "HBoxView",
            "_dom_classes": [],
            "_model_name": "HBoxModel",
            "_view_module": "@jupyter-widgets/controls",
            "_model_module_version": "1.5.0",
            "_view_count": null,
            "_view_module_version": "1.5.0",
            "box_style": "",
            "layout": "IPY_MODEL_15f2203dd5fb4816952438778c67c2a4",
            "_model_module": "@jupyter-widgets/controls",
            "children": [
              "IPY_MODEL_07aa922773ea4ea49995c5fc130c2473",
              "IPY_MODEL_c4e175afd3584a929efba39b43af9b6d",
              "IPY_MODEL_6ffa679bbcda4577923d5f81ca36513e"
            ]
          }
        },
        "15f2203dd5fb4816952438778c67c2a4": {
          "model_module": "@jupyter-widgets/base",
          "model_name": "LayoutModel",
          "model_module_version": "1.2.0",
          "state": {
            "_view_name": "LayoutView",
            "grid_template_rows": null,
            "right": null,
            "justify_content": null,
            "_view_module": "@jupyter-widgets/base",
            "overflow": null,
            "_model_module_version": "1.2.0",
            "_view_count": null,
            "flex_flow": null,
            "width": null,
            "min_width": null,
            "border": null,
            "align_items": null,
            "bottom": null,
            "_model_module": "@jupyter-widgets/base",
            "top": null,
            "grid_column": null,
            "overflow_y": null,
            "overflow_x": null,
            "grid_auto_flow": null,
            "grid_area": null,
            "grid_template_columns": null,
            "flex": null,
            "_model_name": "LayoutModel",
            "justify_items": null,
            "grid_row": null,
            "max_height": null,
            "align_content": null,
            "visibility": null,
            "align_self": null,
            "height": null,
            "min_height": null,
            "padding": null,
            "grid_auto_rows": null,
            "grid_gap": null,
            "max_width": null,
            "order": null,
            "_view_module_version": "1.2.0",
            "grid_template_areas": null,
            "object_position": null,
            "object_fit": null,
            "grid_auto_columns": null,
            "margin": null,
            "display": null,
            "left": null
          }
        },
        "07aa922773ea4ea49995c5fc130c2473": {
          "model_module": "@jupyter-widgets/controls",
          "model_name": "HTMLModel",
          "model_module_version": "1.5.0",
          "state": {
            "_view_name": "HTMLView",
            "style": "IPY_MODEL_6d0684ec94f4498b97e191ff22daf458",
            "_dom_classes": [],
            "description": "",
            "_model_name": "HTMLModel",
            "placeholder": "​",
            "_view_module": "@jupyter-widgets/controls",
            "_model_module_version": "1.5.0",
            "value": "100%",
            "_view_count": null,
            "_view_module_version": "1.5.0",
            "description_tooltip": null,
            "_model_module": "@jupyter-widgets/controls",
            "layout": "IPY_MODEL_c8643e35b905451abd299c9ebde0f4da"
          }
        },
        "c4e175afd3584a929efba39b43af9b6d": {
          "model_module": "@jupyter-widgets/controls",
          "model_name": "FloatProgressModel",
          "model_module_version": "1.5.0",
          "state": {
            "_view_name": "ProgressView",
            "style": "IPY_MODEL_fc80c79f19d54401b3c7a95366bac9db",
            "_dom_classes": [],
            "description": "",
            "_model_name": "FloatProgressModel",
            "bar_style": "success",
            "max": 1,
            "_view_module": "@jupyter-widgets/controls",
            "_model_module_version": "1.5.0",
            "value": 1,
            "_view_count": null,
            "_view_module_version": "1.5.0",
            "orientation": "horizontal",
            "min": 0,
            "description_tooltip": null,
            "_model_module": "@jupyter-widgets/controls",
            "layout": "IPY_MODEL_7f7ea9286f374c58a498fee661bccd6f"
          }
        },
        "6ffa679bbcda4577923d5f81ca36513e": {
          "model_module": "@jupyter-widgets/controls",
          "model_name": "HTMLModel",
          "model_module_version": "1.5.0",
          "state": {
            "_view_name": "HTMLView",
            "style": "IPY_MODEL_43e6d37e466a4ec1b6149139cba279b7",
            "_dom_classes": [],
            "description": "",
            "_model_name": "HTMLModel",
            "placeholder": "​",
            "_view_module": "@jupyter-widgets/controls",
            "_model_module_version": "1.5.0",
            "value": " 1/1 [00:00&lt;00:00, 23.80ba/s]",
            "_view_count": null,
            "_view_module_version": "1.5.0",
            "description_tooltip": null,
            "_model_module": "@jupyter-widgets/controls",
            "layout": "IPY_MODEL_c4f2e2adcfed4c24a0eb6e9fa1a0e40e"
          }
        },
        "6d0684ec94f4498b97e191ff22daf458": {
          "model_module": "@jupyter-widgets/controls",
          "model_name": "DescriptionStyleModel",
          "model_module_version": "1.5.0",
          "state": {
            "_view_name": "StyleView",
            "_model_name": "DescriptionStyleModel",
            "description_width": "",
            "_view_module": "@jupyter-widgets/base",
            "_model_module_version": "1.5.0",
            "_view_count": null,
            "_view_module_version": "1.2.0",
            "_model_module": "@jupyter-widgets/controls"
          }
        },
        "c8643e35b905451abd299c9ebde0f4da": {
          "model_module": "@jupyter-widgets/base",
          "model_name": "LayoutModel",
          "model_module_version": "1.2.0",
          "state": {
            "_view_name": "LayoutView",
            "grid_template_rows": null,
            "right": null,
            "justify_content": null,
            "_view_module": "@jupyter-widgets/base",
            "overflow": null,
            "_model_module_version": "1.2.0",
            "_view_count": null,
            "flex_flow": null,
            "width": null,
            "min_width": null,
            "border": null,
            "align_items": null,
            "bottom": null,
            "_model_module": "@jupyter-widgets/base",
            "top": null,
            "grid_column": null,
            "overflow_y": null,
            "overflow_x": null,
            "grid_auto_flow": null,
            "grid_area": null,
            "grid_template_columns": null,
            "flex": null,
            "_model_name": "LayoutModel",
            "justify_items": null,
            "grid_row": null,
            "max_height": null,
            "align_content": null,
            "visibility": null,
            "align_self": null,
            "height": null,
            "min_height": null,
            "padding": null,
            "grid_auto_rows": null,
            "grid_gap": null,
            "max_width": null,
            "order": null,
            "_view_module_version": "1.2.0",
            "grid_template_areas": null,
            "object_position": null,
            "object_fit": null,
            "grid_auto_columns": null,
            "margin": null,
            "display": null,
            "left": null
          }
        },
        "fc80c79f19d54401b3c7a95366bac9db": {
          "model_module": "@jupyter-widgets/controls",
          "model_name": "ProgressStyleModel",
          "model_module_version": "1.5.0",
          "state": {
            "_view_name": "StyleView",
            "_model_name": "ProgressStyleModel",
            "description_width": "",
            "_view_module": "@jupyter-widgets/base",
            "_model_module_version": "1.5.0",
            "_view_count": null,
            "_view_module_version": "1.2.0",
            "bar_color": null,
            "_model_module": "@jupyter-widgets/controls"
          }
        },
        "7f7ea9286f374c58a498fee661bccd6f": {
          "model_module": "@jupyter-widgets/base",
          "model_name": "LayoutModel",
          "model_module_version": "1.2.0",
          "state": {
            "_view_name": "LayoutView",
            "grid_template_rows": null,
            "right": null,
            "justify_content": null,
            "_view_module": "@jupyter-widgets/base",
            "overflow": null,
            "_model_module_version": "1.2.0",
            "_view_count": null,
            "flex_flow": null,
            "width": null,
            "min_width": null,
            "border": null,
            "align_items": null,
            "bottom": null,
            "_model_module": "@jupyter-widgets/base",
            "top": null,
            "grid_column": null,
            "overflow_y": null,
            "overflow_x": null,
            "grid_auto_flow": null,
            "grid_area": null,
            "grid_template_columns": null,
            "flex": null,
            "_model_name": "LayoutModel",
            "justify_items": null,
            "grid_row": null,
            "max_height": null,
            "align_content": null,
            "visibility": null,
            "align_self": null,
            "height": null,
            "min_height": null,
            "padding": null,
            "grid_auto_rows": null,
            "grid_gap": null,
            "max_width": null,
            "order": null,
            "_view_module_version": "1.2.0",
            "grid_template_areas": null,
            "object_position": null,
            "object_fit": null,
            "grid_auto_columns": null,
            "margin": null,
            "display": null,
            "left": null
          }
        },
        "43e6d37e466a4ec1b6149139cba279b7": {
          "model_module": "@jupyter-widgets/controls",
          "model_name": "DescriptionStyleModel",
          "model_module_version": "1.5.0",
          "state": {
            "_view_name": "StyleView",
            "_model_name": "DescriptionStyleModel",
            "description_width": "",
            "_view_module": "@jupyter-widgets/base",
            "_model_module_version": "1.5.0",
            "_view_count": null,
            "_view_module_version": "1.2.0",
            "_model_module": "@jupyter-widgets/controls"
          }
        },
        "c4f2e2adcfed4c24a0eb6e9fa1a0e40e": {
          "model_module": "@jupyter-widgets/base",
          "model_name": "LayoutModel",
          "model_module_version": "1.2.0",
          "state": {
            "_view_name": "LayoutView",
            "grid_template_rows": null,
            "right": null,
            "justify_content": null,
            "_view_module": "@jupyter-widgets/base",
            "overflow": null,
            "_model_module_version": "1.2.0",
            "_view_count": null,
            "flex_flow": null,
            "width": null,
            "min_width": null,
            "border": null,
            "align_items": null,
            "bottom": null,
            "_model_module": "@jupyter-widgets/base",
            "top": null,
            "grid_column": null,
            "overflow_y": null,
            "overflow_x": null,
            "grid_auto_flow": null,
            "grid_area": null,
            "grid_template_columns": null,
            "flex": null,
            "_model_name": "LayoutModel",
            "justify_items": null,
            "grid_row": null,
            "max_height": null,
            "align_content": null,
            "visibility": null,
            "align_self": null,
            "height": null,
            "min_height": null,
            "padding": null,
            "grid_auto_rows": null,
            "grid_gap": null,
            "max_width": null,
            "order": null,
            "_view_module_version": "1.2.0",
            "grid_template_areas": null,
            "object_position": null,
            "object_fit": null,
            "grid_auto_columns": null,
            "margin": null,
            "display": null,
            "left": null
          }
        },
        "41226299f7654cc8a36200c433d1e503": {
          "model_module": "@jupyter-widgets/controls",
          "model_name": "HBoxModel",
          "model_module_version": "1.5.0",
          "state": {
            "_view_name": "HBoxView",
            "_dom_classes": [],
            "_model_name": "HBoxModel",
            "_view_module": "@jupyter-widgets/controls",
            "_model_module_version": "1.5.0",
            "_view_count": null,
            "_view_module_version": "1.5.0",
            "box_style": "",
            "layout": "IPY_MODEL_854431532045429189ee9216da6a7c6f",
            "_model_module": "@jupyter-widgets/controls",
            "children": [
              "IPY_MODEL_523183d0d99847ecbeb5b26233adc50f",
              "IPY_MODEL_7a8ec4a80de14da0813d25d54c201dd7",
              "IPY_MODEL_c27eb4df55b34cbf886d1b5fa7956e7b"
            ]
          }
        },
        "854431532045429189ee9216da6a7c6f": {
          "model_module": "@jupyter-widgets/base",
          "model_name": "LayoutModel",
          "model_module_version": "1.2.0",
          "state": {
            "_view_name": "LayoutView",
            "grid_template_rows": null,
            "right": null,
            "justify_content": null,
            "_view_module": "@jupyter-widgets/base",
            "overflow": null,
            "_model_module_version": "1.2.0",
            "_view_count": null,
            "flex_flow": null,
            "width": null,
            "min_width": null,
            "border": null,
            "align_items": null,
            "bottom": null,
            "_model_module": "@jupyter-widgets/base",
            "top": null,
            "grid_column": null,
            "overflow_y": null,
            "overflow_x": null,
            "grid_auto_flow": null,
            "grid_area": null,
            "grid_template_columns": null,
            "flex": null,
            "_model_name": "LayoutModel",
            "justify_items": null,
            "grid_row": null,
            "max_height": null,
            "align_content": null,
            "visibility": null,
            "align_self": null,
            "height": null,
            "min_height": null,
            "padding": null,
            "grid_auto_rows": null,
            "grid_gap": null,
            "max_width": null,
            "order": null,
            "_view_module_version": "1.2.0",
            "grid_template_areas": null,
            "object_position": null,
            "object_fit": null,
            "grid_auto_columns": null,
            "margin": null,
            "display": null,
            "left": null
          }
        },
        "523183d0d99847ecbeb5b26233adc50f": {
          "model_module": "@jupyter-widgets/controls",
          "model_name": "HTMLModel",
          "model_module_version": "1.5.0",
          "state": {
            "_view_name": "HTMLView",
            "style": "IPY_MODEL_1402dd179e95408da74b5524ed5168ac",
            "_dom_classes": [],
            "description": "",
            "_model_name": "HTMLModel",
            "placeholder": "​",
            "_view_module": "@jupyter-widgets/controls",
            "_model_module_version": "1.5.0",
            "value": "Downloading: ",
            "_view_count": null,
            "_view_module_version": "1.5.0",
            "description_tooltip": null,
            "_model_module": "@jupyter-widgets/controls",
            "layout": "IPY_MODEL_0940b4293d844d5eb40c97b9688babd3"
          }
        },
        "7a8ec4a80de14da0813d25d54c201dd7": {
          "model_module": "@jupyter-widgets/controls",
          "model_name": "FloatProgressModel",
          "model_module_version": "1.5.0",
          "state": {
            "_view_name": "ProgressView",
            "style": "IPY_MODEL_b63c15e712bb4f1191ba7b96c35d6566",
            "_dom_classes": [],
            "description": "",
            "_model_name": "FloatProgressModel",
            "bar_style": "success",
            "max": 1947,
            "_view_module": "@jupyter-widgets/controls",
            "_model_module_version": "1.5.0",
            "value": 1947,
            "_view_count": null,
            "_view_module_version": "1.5.0",
            "orientation": "horizontal",
            "min": 0,
            "description_tooltip": null,
            "_model_module": "@jupyter-widgets/controls",
            "layout": "IPY_MODEL_4e71892bd8fe4d4ea647c3ded69beb22"
          }
        },
        "c27eb4df55b34cbf886d1b5fa7956e7b": {
          "model_module": "@jupyter-widgets/controls",
          "model_name": "HTMLModel",
          "model_module_version": "1.5.0",
          "state": {
            "_view_name": "HTMLView",
            "style": "IPY_MODEL_b9ac87956d0b4439b79277429be22cf0",
            "_dom_classes": [],
            "description": "",
            "_model_name": "HTMLModel",
            "placeholder": "​",
            "_view_module": "@jupyter-widgets/controls",
            "_model_module_version": "1.5.0",
            "value": " 4.55k/? [00:00&lt;00:00, 107kB/s]",
            "_view_count": null,
            "_view_module_version": "1.5.0",
            "description_tooltip": null,
            "_model_module": "@jupyter-widgets/controls",
            "layout": "IPY_MODEL_2a64a0b4dda64f15b2a780574faa2b39"
          }
        },
        "1402dd179e95408da74b5524ed5168ac": {
          "model_module": "@jupyter-widgets/controls",
          "model_name": "DescriptionStyleModel",
          "model_module_version": "1.5.0",
          "state": {
            "_view_name": "StyleView",
            "_model_name": "DescriptionStyleModel",
            "description_width": "",
            "_view_module": "@jupyter-widgets/base",
            "_model_module_version": "1.5.0",
            "_view_count": null,
            "_view_module_version": "1.2.0",
            "_model_module": "@jupyter-widgets/controls"
          }
        },
        "0940b4293d844d5eb40c97b9688babd3": {
          "model_module": "@jupyter-widgets/base",
          "model_name": "LayoutModel",
          "model_module_version": "1.2.0",
          "state": {
            "_view_name": "LayoutView",
            "grid_template_rows": null,
            "right": null,
            "justify_content": null,
            "_view_module": "@jupyter-widgets/base",
            "overflow": null,
            "_model_module_version": "1.2.0",
            "_view_count": null,
            "flex_flow": null,
            "width": null,
            "min_width": null,
            "border": null,
            "align_items": null,
            "bottom": null,
            "_model_module": "@jupyter-widgets/base",
            "top": null,
            "grid_column": null,
            "overflow_y": null,
            "overflow_x": null,
            "grid_auto_flow": null,
            "grid_area": null,
            "grid_template_columns": null,
            "flex": null,
            "_model_name": "LayoutModel",
            "justify_items": null,
            "grid_row": null,
            "max_height": null,
            "align_content": null,
            "visibility": null,
            "align_self": null,
            "height": null,
            "min_height": null,
            "padding": null,
            "grid_auto_rows": null,
            "grid_gap": null,
            "max_width": null,
            "order": null,
            "_view_module_version": "1.2.0",
            "grid_template_areas": null,
            "object_position": null,
            "object_fit": null,
            "grid_auto_columns": null,
            "margin": null,
            "display": null,
            "left": null
          }
        },
        "b63c15e712bb4f1191ba7b96c35d6566": {
          "model_module": "@jupyter-widgets/controls",
          "model_name": "ProgressStyleModel",
          "model_module_version": "1.5.0",
          "state": {
            "_view_name": "StyleView",
            "_model_name": "ProgressStyleModel",
            "description_width": "",
            "_view_module": "@jupyter-widgets/base",
            "_model_module_version": "1.5.0",
            "_view_count": null,
            "_view_module_version": "1.2.0",
            "bar_color": null,
            "_model_module": "@jupyter-widgets/controls"
          }
        },
        "4e71892bd8fe4d4ea647c3ded69beb22": {
          "model_module": "@jupyter-widgets/base",
          "model_name": "LayoutModel",
          "model_module_version": "1.2.0",
          "state": {
            "_view_name": "LayoutView",
            "grid_template_rows": null,
            "right": null,
            "justify_content": null,
            "_view_module": "@jupyter-widgets/base",
            "overflow": null,
            "_model_module_version": "1.2.0",
            "_view_count": null,
            "flex_flow": null,
            "width": null,
            "min_width": null,
            "border": null,
            "align_items": null,
            "bottom": null,
            "_model_module": "@jupyter-widgets/base",
            "top": null,
            "grid_column": null,
            "overflow_y": null,
            "overflow_x": null,
            "grid_auto_flow": null,
            "grid_area": null,
            "grid_template_columns": null,
            "flex": null,
            "_model_name": "LayoutModel",
            "justify_items": null,
            "grid_row": null,
            "max_height": null,
            "align_content": null,
            "visibility": null,
            "align_self": null,
            "height": null,
            "min_height": null,
            "padding": null,
            "grid_auto_rows": null,
            "grid_gap": null,
            "max_width": null,
            "order": null,
            "_view_module_version": "1.2.0",
            "grid_template_areas": null,
            "object_position": null,
            "object_fit": null,
            "grid_auto_columns": null,
            "margin": null,
            "display": null,
            "left": null
          }
        },
        "b9ac87956d0b4439b79277429be22cf0": {
          "model_module": "@jupyter-widgets/controls",
          "model_name": "DescriptionStyleModel",
          "model_module_version": "1.5.0",
          "state": {
            "_view_name": "StyleView",
            "_model_name": "DescriptionStyleModel",
            "description_width": "",
            "_view_module": "@jupyter-widgets/base",
            "_model_module_version": "1.5.0",
            "_view_count": null,
            "_view_module_version": "1.2.0",
            "_model_module": "@jupyter-widgets/controls"
          }
        },
        "2a64a0b4dda64f15b2a780574faa2b39": {
          "model_module": "@jupyter-widgets/base",
          "model_name": "LayoutModel",
          "model_module_version": "1.2.0",
          "state": {
            "_view_name": "LayoutView",
            "grid_template_rows": null,
            "right": null,
            "justify_content": null,
            "_view_module": "@jupyter-widgets/base",
            "overflow": null,
            "_model_module_version": "1.2.0",
            "_view_count": null,
            "flex_flow": null,
            "width": null,
            "min_width": null,
            "border": null,
            "align_items": null,
            "bottom": null,
            "_model_module": "@jupyter-widgets/base",
            "top": null,
            "grid_column": null,
            "overflow_y": null,
            "overflow_x": null,
            "grid_auto_flow": null,
            "grid_area": null,
            "grid_template_columns": null,
            "flex": null,
            "_model_name": "LayoutModel",
            "justify_items": null,
            "grid_row": null,
            "max_height": null,
            "align_content": null,
            "visibility": null,
            "align_self": null,
            "height": null,
            "min_height": null,
            "padding": null,
            "grid_auto_rows": null,
            "grid_gap": null,
            "max_width": null,
            "order": null,
            "_view_module_version": "1.2.0",
            "grid_template_areas": null,
            "object_position": null,
            "object_fit": null,
            "grid_auto_columns": null,
            "margin": null,
            "display": null,
            "left": null
          }
        },
        "b147417e119f4904a81a2c6343ee9d2a": {
          "model_module": "@jupyter-widgets/controls",
          "model_name": "HBoxModel",
          "model_module_version": "1.5.0",
          "state": {
            "_view_name": "HBoxView",
            "_dom_classes": [],
            "_model_name": "HBoxModel",
            "_view_module": "@jupyter-widgets/controls",
            "_model_module_version": "1.5.0",
            "_view_count": null,
            "_view_module_version": "1.5.0",
            "box_style": "",
            "layout": "IPY_MODEL_66a667f01bba4f3d893a9d524af9ce07",
            "_model_module": "@jupyter-widgets/controls",
            "children": [
              "IPY_MODEL_de9343c1b65547798bbd2c1986baaa93",
              "IPY_MODEL_0f7f52c509dd4b08916f1040b43efa40",
              "IPY_MODEL_78b920506aa2444da8e219c40c97c872"
            ]
          }
        },
        "66a667f01bba4f3d893a9d524af9ce07": {
          "model_module": "@jupyter-widgets/base",
          "model_name": "LayoutModel",
          "model_module_version": "1.2.0",
          "state": {
            "_view_name": "LayoutView",
            "grid_template_rows": null,
            "right": null,
            "justify_content": null,
            "_view_module": "@jupyter-widgets/base",
            "overflow": null,
            "_model_module_version": "1.2.0",
            "_view_count": null,
            "flex_flow": null,
            "width": null,
            "min_width": null,
            "border": null,
            "align_items": null,
            "bottom": null,
            "_model_module": "@jupyter-widgets/base",
            "top": null,
            "grid_column": null,
            "overflow_y": null,
            "overflow_x": null,
            "grid_auto_flow": null,
            "grid_area": null,
            "grid_template_columns": null,
            "flex": null,
            "_model_name": "LayoutModel",
            "justify_items": null,
            "grid_row": null,
            "max_height": null,
            "align_content": null,
            "visibility": null,
            "align_self": null,
            "height": null,
            "min_height": null,
            "padding": null,
            "grid_auto_rows": null,
            "grid_gap": null,
            "max_width": null,
            "order": null,
            "_view_module_version": "1.2.0",
            "grid_template_areas": null,
            "object_position": null,
            "object_fit": null,
            "grid_auto_columns": null,
            "margin": null,
            "display": null,
            "left": null
          }
        },
        "de9343c1b65547798bbd2c1986baaa93": {
          "model_module": "@jupyter-widgets/controls",
          "model_name": "HTMLModel",
          "model_module_version": "1.5.0",
          "state": {
            "_view_name": "HTMLView",
            "style": "IPY_MODEL_c3ef06befb804014b6f9125718b35842",
            "_dom_classes": [],
            "description": "",
            "_model_name": "HTMLModel",
            "placeholder": "​",
            "_view_module": "@jupyter-widgets/controls",
            "_model_module_version": "1.5.0",
            "value": "Downloading: 100%",
            "_view_count": null,
            "_view_module_version": "1.5.0",
            "description_tooltip": null,
            "_model_module": "@jupyter-widgets/controls",
            "layout": "IPY_MODEL_5012e92273b54cfbb1b1d68ef7beb801"
          }
        },
        "0f7f52c509dd4b08916f1040b43efa40": {
          "model_module": "@jupyter-widgets/controls",
          "model_name": "FloatProgressModel",
          "model_module_version": "1.5.0",
          "state": {
            "_view_name": "ProgressView",
            "style": "IPY_MODEL_c75baeb11b964abc8f705759871c7317",
            "_dom_classes": [],
            "description": "",
            "_model_name": "FloatProgressModel",
            "bar_style": "success",
            "max": 1768,
            "_view_module": "@jupyter-widgets/controls",
            "_model_module_version": "1.5.0",
            "value": 1768,
            "_view_count": null,
            "_view_module_version": "1.5.0",
            "orientation": "horizontal",
            "min": 0,
            "description_tooltip": null,
            "_model_module": "@jupyter-widgets/controls",
            "layout": "IPY_MODEL_5ed6c3df06b543a39f70e2b7f7c8fd55"
          }
        },
        "78b920506aa2444da8e219c40c97c872": {
          "model_module": "@jupyter-widgets/controls",
          "model_name": "HTMLModel",
          "model_module_version": "1.5.0",
          "state": {
            "_view_name": "HTMLView",
            "style": "IPY_MODEL_5b369eedd8504f119d9b5bb06ab3485b",
            "_dom_classes": [],
            "description": "",
            "_model_name": "HTMLModel",
            "placeholder": "​",
            "_view_module": "@jupyter-widgets/controls",
            "_model_module_version": "1.5.0",
            "value": " 1.73k/1.73k [00:00&lt;00:00, 51.7kB/s]",
            "_view_count": null,
            "_view_module_version": "1.5.0",
            "description_tooltip": null,
            "_model_module": "@jupyter-widgets/controls",
            "layout": "IPY_MODEL_ee75942ef3284422abb32b75d4747c62"
          }
        },
        "c3ef06befb804014b6f9125718b35842": {
          "model_module": "@jupyter-widgets/controls",
          "model_name": "DescriptionStyleModel",
          "model_module_version": "1.5.0",
          "state": {
            "_view_name": "StyleView",
            "_model_name": "DescriptionStyleModel",
            "description_width": "",
            "_view_module": "@jupyter-widgets/base",
            "_model_module_version": "1.5.0",
            "_view_count": null,
            "_view_module_version": "1.2.0",
            "_model_module": "@jupyter-widgets/controls"
          }
        },
        "5012e92273b54cfbb1b1d68ef7beb801": {
          "model_module": "@jupyter-widgets/base",
          "model_name": "LayoutModel",
          "model_module_version": "1.2.0",
          "state": {
            "_view_name": "LayoutView",
            "grid_template_rows": null,
            "right": null,
            "justify_content": null,
            "_view_module": "@jupyter-widgets/base",
            "overflow": null,
            "_model_module_version": "1.2.0",
            "_view_count": null,
            "flex_flow": null,
            "width": null,
            "min_width": null,
            "border": null,
            "align_items": null,
            "bottom": null,
            "_model_module": "@jupyter-widgets/base",
            "top": null,
            "grid_column": null,
            "overflow_y": null,
            "overflow_x": null,
            "grid_auto_flow": null,
            "grid_area": null,
            "grid_template_columns": null,
            "flex": null,
            "_model_name": "LayoutModel",
            "justify_items": null,
            "grid_row": null,
            "max_height": null,
            "align_content": null,
            "visibility": null,
            "align_self": null,
            "height": null,
            "min_height": null,
            "padding": null,
            "grid_auto_rows": null,
            "grid_gap": null,
            "max_width": null,
            "order": null,
            "_view_module_version": "1.2.0",
            "grid_template_areas": null,
            "object_position": null,
            "object_fit": null,
            "grid_auto_columns": null,
            "margin": null,
            "display": null,
            "left": null
          }
        },
        "c75baeb11b964abc8f705759871c7317": {
          "model_module": "@jupyter-widgets/controls",
          "model_name": "ProgressStyleModel",
          "model_module_version": "1.5.0",
          "state": {
            "_view_name": "StyleView",
            "_model_name": "ProgressStyleModel",
            "description_width": "",
            "_view_module": "@jupyter-widgets/base",
            "_model_module_version": "1.5.0",
            "_view_count": null,
            "_view_module_version": "1.2.0",
            "bar_color": null,
            "_model_module": "@jupyter-widgets/controls"
          }
        },
        "5ed6c3df06b543a39f70e2b7f7c8fd55": {
          "model_module": "@jupyter-widgets/base",
          "model_name": "LayoutModel",
          "model_module_version": "1.2.0",
          "state": {
            "_view_name": "LayoutView",
            "grid_template_rows": null,
            "right": null,
            "justify_content": null,
            "_view_module": "@jupyter-widgets/base",
            "overflow": null,
            "_model_module_version": "1.2.0",
            "_view_count": null,
            "flex_flow": null,
            "width": null,
            "min_width": null,
            "border": null,
            "align_items": null,
            "bottom": null,
            "_model_module": "@jupyter-widgets/base",
            "top": null,
            "grid_column": null,
            "overflow_y": null,
            "overflow_x": null,
            "grid_auto_flow": null,
            "grid_area": null,
            "grid_template_columns": null,
            "flex": null,
            "_model_name": "LayoutModel",
            "justify_items": null,
            "grid_row": null,
            "max_height": null,
            "align_content": null,
            "visibility": null,
            "align_self": null,
            "height": null,
            "min_height": null,
            "padding": null,
            "grid_auto_rows": null,
            "grid_gap": null,
            "max_width": null,
            "order": null,
            "_view_module_version": "1.2.0",
            "grid_template_areas": null,
            "object_position": null,
            "object_fit": null,
            "grid_auto_columns": null,
            "margin": null,
            "display": null,
            "left": null
          }
        },
        "5b369eedd8504f119d9b5bb06ab3485b": {
          "model_module": "@jupyter-widgets/controls",
          "model_name": "DescriptionStyleModel",
          "model_module_version": "1.5.0",
          "state": {
            "_view_name": "StyleView",
            "_model_name": "DescriptionStyleModel",
            "description_width": "",
            "_view_module": "@jupyter-widgets/base",
            "_model_module_version": "1.5.0",
            "_view_count": null,
            "_view_module_version": "1.2.0",
            "_model_module": "@jupyter-widgets/controls"
          }
        },
        "ee75942ef3284422abb32b75d4747c62": {
          "model_module": "@jupyter-widgets/base",
          "model_name": "LayoutModel",
          "model_module_version": "1.2.0",
          "state": {
            "_view_name": "LayoutView",
            "grid_template_rows": null,
            "right": null,
            "justify_content": null,
            "_view_module": "@jupyter-widgets/base",
            "overflow": null,
            "_model_module_version": "1.2.0",
            "_view_count": null,
            "flex_flow": null,
            "width": null,
            "min_width": null,
            "border": null,
            "align_items": null,
            "bottom": null,
            "_model_module": "@jupyter-widgets/base",
            "top": null,
            "grid_column": null,
            "overflow_y": null,
            "overflow_x": null,
            "grid_auto_flow": null,
            "grid_area": null,
            "grid_template_columns": null,
            "flex": null,
            "_model_name": "LayoutModel",
            "justify_items": null,
            "grid_row": null,
            "max_height": null,
            "align_content": null,
            "visibility": null,
            "align_self": null,
            "height": null,
            "min_height": null,
            "padding": null,
            "grid_auto_rows": null,
            "grid_gap": null,
            "max_width": null,
            "order": null,
            "_view_module_version": "1.2.0",
            "grid_template_areas": null,
            "object_position": null,
            "object_fit": null,
            "grid_auto_columns": null,
            "margin": null,
            "display": null,
            "left": null
          }
        },
        "73e1cc57b7fb4186b52bb773f86c77ac": {
          "model_module": "@jupyter-widgets/controls",
          "model_name": "HBoxModel",
          "model_module_version": "1.5.0",
          "state": {
            "_view_name": "HBoxView",
            "_dom_classes": [],
            "_model_name": "HBoxModel",
            "_view_module": "@jupyter-widgets/controls",
            "_model_module_version": "1.5.0",
            "_view_count": null,
            "_view_module_version": "1.5.0",
            "box_style": "",
            "layout": "IPY_MODEL_d2e2395d20354c1fac9aa7bfbdb56ff8",
            "_model_module": "@jupyter-widgets/controls",
            "children": [
              "IPY_MODEL_d872cf287ac243c1947c8ea03f5cb703",
              "IPY_MODEL_4e68032c99c1469cb7173be711089ea3",
              "IPY_MODEL_f85cf3eebbc64f41944743f487702bbe"
            ]
          }
        },
        "d2e2395d20354c1fac9aa7bfbdb56ff8": {
          "model_module": "@jupyter-widgets/base",
          "model_name": "LayoutModel",
          "model_module_version": "1.2.0",
          "state": {
            "_view_name": "LayoutView",
            "grid_template_rows": null,
            "right": null,
            "justify_content": null,
            "_view_module": "@jupyter-widgets/base",
            "overflow": null,
            "_model_module_version": "1.2.0",
            "_view_count": null,
            "flex_flow": null,
            "width": null,
            "min_width": null,
            "border": null,
            "align_items": null,
            "bottom": null,
            "_model_module": "@jupyter-widgets/base",
            "top": null,
            "grid_column": null,
            "overflow_y": null,
            "overflow_x": null,
            "grid_auto_flow": null,
            "grid_area": null,
            "grid_template_columns": null,
            "flex": null,
            "_model_name": "LayoutModel",
            "justify_items": null,
            "grid_row": null,
            "max_height": null,
            "align_content": null,
            "visibility": null,
            "align_self": null,
            "height": null,
            "min_height": null,
            "padding": null,
            "grid_auto_rows": null,
            "grid_gap": null,
            "max_width": null,
            "order": null,
            "_view_module_version": "1.2.0",
            "grid_template_areas": null,
            "object_position": null,
            "object_fit": null,
            "grid_auto_columns": null,
            "margin": null,
            "display": null,
            "left": null
          }
        },
        "d872cf287ac243c1947c8ea03f5cb703": {
          "model_module": "@jupyter-widgets/controls",
          "model_name": "HTMLModel",
          "model_module_version": "1.5.0",
          "state": {
            "_view_name": "HTMLView",
            "style": "IPY_MODEL_8935fdcf8233484b8a0ef4257d3e78af",
            "_dom_classes": [],
            "description": "",
            "_model_name": "HTMLModel",
            "placeholder": "​",
            "_view_module": "@jupyter-widgets/controls",
            "_model_module_version": "1.5.0",
            "value": "Downloading: 100%",
            "_view_count": null,
            "_view_module_version": "1.5.0",
            "description_tooltip": null,
            "_model_module": "@jupyter-widgets/controls",
            "layout": "IPY_MODEL_2df5086333dc46bb879a4585ca342070"
          }
        },
        "4e68032c99c1469cb7173be711089ea3": {
          "model_module": "@jupyter-widgets/controls",
          "model_name": "FloatProgressModel",
          "model_module_version": "1.5.0",
          "state": {
            "_view_name": "ProgressView",
            "style": "IPY_MODEL_0de9fe063c2040abb8cf076a666ddac3",
            "_dom_classes": [],
            "description": "",
            "_model_name": "FloatProgressModel",
            "bar_style": "success",
            "max": 1269737156,
            "_view_module": "@jupyter-widgets/controls",
            "_model_module_version": "1.5.0",
            "value": 1269737156,
            "_view_count": null,
            "_view_module_version": "1.5.0",
            "orientation": "horizontal",
            "min": 0,
            "description_tooltip": null,
            "_model_module": "@jupyter-widgets/controls",
            "layout": "IPY_MODEL_ec8dbb227d0d48dbb6228893b9a57c20"
          }
        },
        "f85cf3eebbc64f41944743f487702bbe": {
          "model_module": "@jupyter-widgets/controls",
          "model_name": "HTMLModel",
          "model_module_version": "1.5.0",
          "state": {
            "_view_name": "HTMLView",
            "style": "IPY_MODEL_92f091cefbb84e41a8c7fdfade2749ab",
            "_dom_classes": [],
            "description": "",
            "_model_name": "HTMLModel",
            "placeholder": "​",
            "_view_module": "@jupyter-widgets/controls",
            "_model_module_version": "1.5.0",
            "value": " 1.18G/1.18G [00:23&lt;00:00, 58.4MB/s]",
            "_view_count": null,
            "_view_module_version": "1.5.0",
            "description_tooltip": null,
            "_model_module": "@jupyter-widgets/controls",
            "layout": "IPY_MODEL_64afcb961e9a453eb03970c114971240"
          }
        },
        "8935fdcf8233484b8a0ef4257d3e78af": {
          "model_module": "@jupyter-widgets/controls",
          "model_name": "DescriptionStyleModel",
          "model_module_version": "1.5.0",
          "state": {
            "_view_name": "StyleView",
            "_model_name": "DescriptionStyleModel",
            "description_width": "",
            "_view_module": "@jupyter-widgets/base",
            "_model_module_version": "1.5.0",
            "_view_count": null,
            "_view_module_version": "1.2.0",
            "_model_module": "@jupyter-widgets/controls"
          }
        },
        "2df5086333dc46bb879a4585ca342070": {
          "model_module": "@jupyter-widgets/base",
          "model_name": "LayoutModel",
          "model_module_version": "1.2.0",
          "state": {
            "_view_name": "LayoutView",
            "grid_template_rows": null,
            "right": null,
            "justify_content": null,
            "_view_module": "@jupyter-widgets/base",
            "overflow": null,
            "_model_module_version": "1.2.0",
            "_view_count": null,
            "flex_flow": null,
            "width": null,
            "min_width": null,
            "border": null,
            "align_items": null,
            "bottom": null,
            "_model_module": "@jupyter-widgets/base",
            "top": null,
            "grid_column": null,
            "overflow_y": null,
            "overflow_x": null,
            "grid_auto_flow": null,
            "grid_area": null,
            "grid_template_columns": null,
            "flex": null,
            "_model_name": "LayoutModel",
            "justify_items": null,
            "grid_row": null,
            "max_height": null,
            "align_content": null,
            "visibility": null,
            "align_self": null,
            "height": null,
            "min_height": null,
            "padding": null,
            "grid_auto_rows": null,
            "grid_gap": null,
            "max_width": null,
            "order": null,
            "_view_module_version": "1.2.0",
            "grid_template_areas": null,
            "object_position": null,
            "object_fit": null,
            "grid_auto_columns": null,
            "margin": null,
            "display": null,
            "left": null
          }
        },
        "0de9fe063c2040abb8cf076a666ddac3": {
          "model_module": "@jupyter-widgets/controls",
          "model_name": "ProgressStyleModel",
          "model_module_version": "1.5.0",
          "state": {
            "_view_name": "StyleView",
            "_model_name": "ProgressStyleModel",
            "description_width": "",
            "_view_module": "@jupyter-widgets/base",
            "_model_module_version": "1.5.0",
            "_view_count": null,
            "_view_module_version": "1.2.0",
            "bar_color": null,
            "_model_module": "@jupyter-widgets/controls"
          }
        },
        "ec8dbb227d0d48dbb6228893b9a57c20": {
          "model_module": "@jupyter-widgets/base",
          "model_name": "LayoutModel",
          "model_module_version": "1.2.0",
          "state": {
            "_view_name": "LayoutView",
            "grid_template_rows": null,
            "right": null,
            "justify_content": null,
            "_view_module": "@jupyter-widgets/base",
            "overflow": null,
            "_model_module_version": "1.2.0",
            "_view_count": null,
            "flex_flow": null,
            "width": null,
            "min_width": null,
            "border": null,
            "align_items": null,
            "bottom": null,
            "_model_module": "@jupyter-widgets/base",
            "top": null,
            "grid_column": null,
            "overflow_y": null,
            "overflow_x": null,
            "grid_auto_flow": null,
            "grid_area": null,
            "grid_template_columns": null,
            "flex": null,
            "_model_name": "LayoutModel",
            "justify_items": null,
            "grid_row": null,
            "max_height": null,
            "align_content": null,
            "visibility": null,
            "align_self": null,
            "height": null,
            "min_height": null,
            "padding": null,
            "grid_auto_rows": null,
            "grid_gap": null,
            "max_width": null,
            "order": null,
            "_view_module_version": "1.2.0",
            "grid_template_areas": null,
            "object_position": null,
            "object_fit": null,
            "grid_auto_columns": null,
            "margin": null,
            "display": null,
            "left": null
          }
        },
        "92f091cefbb84e41a8c7fdfade2749ab": {
          "model_module": "@jupyter-widgets/controls",
          "model_name": "DescriptionStyleModel",
          "model_module_version": "1.5.0",
          "state": {
            "_view_name": "StyleView",
            "_model_name": "DescriptionStyleModel",
            "description_width": "",
            "_view_module": "@jupyter-widgets/base",
            "_model_module_version": "1.5.0",
            "_view_count": null,
            "_view_module_version": "1.2.0",
            "_model_module": "@jupyter-widgets/controls"
          }
        },
        "64afcb961e9a453eb03970c114971240": {
          "model_module": "@jupyter-widgets/base",
          "model_name": "LayoutModel",
          "model_module_version": "1.2.0",
          "state": {
            "_view_name": "LayoutView",
            "grid_template_rows": null,
            "right": null,
            "justify_content": null,
            "_view_module": "@jupyter-widgets/base",
            "overflow": null,
            "_model_module_version": "1.2.0",
            "_view_count": null,
            "flex_flow": null,
            "width": null,
            "min_width": null,
            "border": null,
            "align_items": null,
            "bottom": null,
            "_model_module": "@jupyter-widgets/base",
            "top": null,
            "grid_column": null,
            "overflow_y": null,
            "overflow_x": null,
            "grid_auto_flow": null,
            "grid_area": null,
            "grid_template_columns": null,
            "flex": null,
            "_model_name": "LayoutModel",
            "justify_items": null,
            "grid_row": null,
            "max_height": null,
            "align_content": null,
            "visibility": null,
            "align_self": null,
            "height": null,
            "min_height": null,
            "padding": null,
            "grid_auto_rows": null,
            "grid_gap": null,
            "max_width": null,
            "order": null,
            "_view_module_version": "1.2.0",
            "grid_template_areas": null,
            "object_position": null,
            "object_fit": null,
            "grid_auto_columns": null,
            "margin": null,
            "display": null,
            "left": null
          }
        }
      }
    },
    "accelerator": "GPU"
  },
  "cells": [
    {
      "cell_type": "markdown",
      "metadata": {
        "id": "view-in-github",
        "colab_type": "text"
      },
      "source": [
        "<a href=\"https://colab.research.google.com/github/Vaibhavs10/how-to-asr/blob/main/01_how_to_asr_fine_tune.ipynb\" target=\"_parent\"><img src=\"https://colab.research.google.com/assets/colab-badge.svg\" alt=\"Open In Colab\"/></a>"
      ]
    },
    {
      "cell_type": "markdown",
      "metadata": {
        "id": "LBSYoWbi-45k"
      },
      "source": [
        "# **Fine-tuning XLSR-Wav2Vec2 for Multi-Lingual ASR with 🤗 Transformers**\n",
        "\n",
        "Original content from: [Patrick von Platen](https://twitter.com/patrickplaten?lang=en)\n",
        "\n",
        "Delivered by: [Vaibhav Srivastav](https://twitter.com/reach_vb)"
      ]
    },
    {
      "cell_type": "markdown",
      "metadata": {
        "id": "V7YOT2mnUiea"
      },
      "source": [
        "Wav2Vec2 is a pretrained model for Automatic Speech Recognition (ASR) and was released in [September 2020](https://ai.facebook.com/blog/wav2vec-20-learning-the-structure-of-speech-from-raw-audio/) by Alexei Baevski, Michael Auli, and Alex Conneau.  Soon after the superior performance of Wav2Vec2 was demonstrated on the English ASR dataset LibriSpeech, *Facebook AI* presented XLSR-Wav2Vec2 (click [here](https://arxiv.org/abs/2006.13979)). XLSR stands for *cross-lingual  speech representations* and refers to XLSR-Wav2Vec2's ability to learn speech representations that are useful across multiple languages.\n",
        "\n",
        "Similar to Wav2Vec2, XLSR-Wav2Vec2 learns powerful speech representations from hundreds of thousands of hours of speech in more than 50 languages of unlabeled speech. Similar, to [BERT's masked language modeling](http://jalammar.github.io/illustrated-bert/), the model learns contextualized speech representations by randomly masking feature vectors before passing them to a transformer network.\n",
        "\n",
        "![wav2vec2_structure](https://raw.githubusercontent.com/patrickvonplaten/scientific_images/master/xlsr_wav2vec2.png)\n",
        "\n",
        "The authors show for the first time that massively pretraining an ASR model on cross-lingual unlabeled speech data, followed by language-specific fine-tuning on very little labeled data achieves state-of-the-art results. See Table 1-5 of the official [paper](https://arxiv.org/pdf/2006.13979.pdf)."
      ]
    },
    {
      "cell_type": "markdown",
      "metadata": {
        "id": "nT_QrfWtsxIz"
      },
      "source": [
        " In this notebook, we will give an in-detail explanation of how XLSR-Wav2Vec2's pretrained checkpoint can be fine-tuned on a low-resource ASR dataset of any language. Note that in this notebook, we will fine-tune XLSR-Wav2Vec2 without making use of a language model. It is much simpler and more efficient to use XLSR-Wav2Vec2 without a language model, but better results can be achieved by including a language model. \n",
        "\n",
        "For demonstration purposes, we fine-tune the [wav2vec2-large-xlsr-53](https://huggingface.co/facebook/wav2vec2-large-xlsr-53) on the low resource Latvian ASR dataset of [Common Voice](https://huggingface.co/datasets/common_voice) that contains just ~6h of validated training data."
      ]
    },
    {
      "cell_type": "markdown",
      "metadata": {
        "id": "Gx9OdDYrCtQ1"
      },
      "source": [
        "XLSR-Wav2Vec2 is fine-tuned using Connectionist Temporal Classification (CTC), which is an algorithm that is used to train neural networks for sequence-to-sequence problems and mainly in Automatic Speech Recognition and handwriting recognition. \n",
        "\n",
        "I highly recommend reading the blog post [Sequence Modeling with CTC (2017)](https://distill.pub/2017/ctc/) very well-written blog post by Awni Hannun."
      ]
    },
    {
      "cell_type": "markdown",
      "metadata": {
        "id": "e335hPmdtASZ"
      },
      "source": [
        "Before we start, let's install both `datasets` and `transformers` from master. Also, we need the `torchaudio` and `librosa` package to load audio files and the `jiwer` to evaluate our fine-tuned model using the [word error rate (WER)](https://huggingface.co/metrics/wer) metric ${}^1$."
      ]
    },
    {
      "cell_type": "code",
      "metadata": {
        "id": "c8eh87Hoee5d"
      },
      "source": [
        "%%capture\n",
        "!pip install datasets==1.13.3\n",
        "!pip install transformers==4.11.3\n",
        "!pip install torchaudio\n",
        "!pip install librosa\n",
        "!pip install jiwer"
      ],
      "execution_count": null,
      "outputs": []
    },
    {
      "cell_type": "markdown",
      "metadata": {
        "id": "Mn9swf6EQ9Vd"
      },
      "source": [
        "\n",
        "\n",
        "\n",
        "---\n",
        "\n",
        "${}^1$ In the [paper](https://arxiv.org/pdf/2006.13979.pdf), the model was evaluated using the phoneme error rate (PER), but by far the most common metric in ASR is the word error rate (WER). To keep this notebook as general as possible we decided to evaluate the model using WER."
      ]
    },
    {
      "cell_type": "markdown",
      "metadata": {
        "id": "0mW-C1Nt-j7k"
      },
      "source": [
        "## Prepare Data, Tokenizer, Feature Extractor"
      ]
    },
    {
      "cell_type": "markdown",
      "metadata": {
        "id": "BeBosnY9BH3e"
      },
      "source": [
        "ASR models transcribe speech to text, which means that we both need a feature extractor that processes the speech signal to the model's input format, *e.g.* a feature vector, and a tokenizer that processes the model's output format to text. \n",
        "\n",
        "In 🤗 Transformers, the XLSR-Wav2Vec2 model is thus accompanied by both a tokenizer, called [Wav2Vec2CTCTokenizer](https://huggingface.co/transformers/master/model_doc/wav2vec2.html#wav2vec2ctctokenizer), and a feature extractor, called [Wav2Vec2FeatureExtractor](https://huggingface.co/transformers/master/model_doc/wav2vec2.html#wav2vec2featureextractor).\n",
        "\n",
        "Let's start by creating the tokenizer responsible for decoding the model's predictions."
      ]
    },
    {
      "cell_type": "markdown",
      "metadata": {
        "id": "sEXEWEJGQPqD"
      },
      "source": [
        "### Create Wav2Vec2CTCTokenizer"
      ]
    },
    {
      "cell_type": "markdown",
      "metadata": {
        "id": "tWmMikuNEKl_"
      },
      "source": [
        "The [pretrained Wav2Vec2 checkpoint]( ) maps the speech signal to a sequence of context representations as illustrated in the figure above. A fine-tuned XLSR-Wav2Vec2 checkpoint needs to map this sequence of context representations to its corresponding transcription so that a linear layer has to be added on top of the transformer block (shown in yellow). This linear layer is used to classifies each context representation to a token class analogous how, *e.g.*, after pretraining a linear layer is added on top of BERT's embeddings for further classification - *cf.* with *'BERT'* section of this [blog post](https://huggingface.co/blog/warm-starting-encoder-decoder).\n",
        "\n",
        "The output size of this layer corresponds to the number of tokens in the vocabulary, which does **not** depend on XLSR-Wav2Vec2's pretraining task, but only on the labeled dataset used for fine-tuning. So in the first step, we will take a look at Common Voice and define a vocabulary based on the dataset's transcriptions."
      ]
    },
    {
      "cell_type": "markdown",
      "metadata": {
        "id": "idBczw8mWzgt"
      },
      "source": [
        "First, let's go to [Common Voice](https://commonvoice.mozilla.org/en/datasets) and pick a language to fine-tune XLSR-Wav2Vec2 on. For this notebook, we will use Latvian. \n",
        "\n",
        "For each language-specific dataset, you can find a language code corresponding to your chosen language. On [Common Voice](https://commonvoice.mozilla.org/en/datasets), look for the field \"Version\". The language code then corresponds to the prefix before the underscore. For Latvian, *e.g.* the language code is `\"lv\"`.\n",
        "\n",
        "Great, now we can use 🤗 Datasets' simple API to download the data. The dataset name will be `\"common_voice\"`, the config name corresponds to the language code - `\"tr\"` in our case."
      ]
    },
    {
      "cell_type": "markdown",
      "metadata": {
        "id": "bee4g9rpLxll"
      },
      "source": [
        "Common Voice has many different splits including `invalidated`, which refers to data that was not rated as \"clean enough\" to be considered useful. In this notebook, we will only make use of the splits `\"train\"`, `\"validation\"` and `\"test\"`. \n",
        "\n",
        "Because the Latvian dataset is so small, we will merge both the validation and training data into a training dataset and simply use the test data for validation."
      ]
    },
    {
      "cell_type": "code",
      "metadata": {
        "id": "2MMXcWFFgCXU",
        "colab": {
          "base_uri": "https://localhost:8080/",
          "height": 345,
          "referenced_widgets": [
            "9986e6ae68924ba9be48d90643e56d99",
            "201ede35a3b14857b0b78ff8b58cf926",
            "9b1c82c22a7a4539bb7602135b44f9cd",
            "9437f100c5de4e3ea13e663f05c1bbf6",
            "0553e3f74d9342e08d57e545047f7f4a",
            "40ed776cb24148fa9c193ca84f0c66be",
            "aeab3f90b8754de7a9e4276553bd5104",
            "cae7902e61d04623b347e39c42a4c53e",
            "daedd0672fe147038b9bf99436905d92",
            "17b7dc5969e04405b1a0f867c1c30348",
            "cfc7cfe7ce3146aa9e9821be0ca83860",
            "93bcee28c12c426bac66e03caad77769",
            "f2a29cc672344c17973c564017a3905e",
            "35eff5abb95c4adda24fd5ae7b581efc",
            "322faa01729e44ba9bd6b4f195f5b814",
            "e063355a4b8548b9b27ff8edc7478d08",
            "4178f9944a3946aa8049dafc47826687",
            "8047e1ace00749fb978cae2ae960e81b",
            "48b33249dbfa44fda2072ec3370a6d14",
            "34db33d2b3264798841f0a4d045523c6",
            "eac747b3342344598c882b7235109baf",
            "f92545fe85ce4041a72ec67e139c10c1",
            "b9e3bc2df727455d9b3a6c23b6577f35",
            "66123825f64a4e39a0a002a80dea2c4a",
            "02a1100e3d2b4748b2b9ebee743b434b",
            "08802c67de1446db88e7f6564c09714b",
            "28bfa802e59045daaa7c5869d38f97af",
            "44e4e7d135bb4a83af3ee0ad221b9375",
            "1b05d97dbde7493d8e03db9bc1058d0e",
            "598f25822ae84eb8ba24db4b0bee86bf",
            "692dfcaf248648e8b03ee71c14153766",
            "8712ae3abe0e4fdcaafb718c35e7302a",
            "b2c000bf81744016bbdd63dba486b15a",
            "03d1f851ab054a5ca1fa429c5ebdeb1d",
            "39041eb896d64a43aec0483e6f0adf78",
            "66257426fef74085947617bddacd976b",
            "92ea9d64cac14e56a7c813a0ce9904e8",
            "68d1dfb704974709b064b300d3f5cfa4",
            "57c2a89fcc6540d68df565b36a642936",
            "ef4c62470b4d483ebfa05425109f110f",
            "1ba06f9d677345fb87fb75c9a2a212a7",
            "203ec3ca169546e3aad5315d257e37bf",
            "e9acf06ce0ff4f2793836191b43da621",
            "ee26748f8003434aa4c392bf9fda5b4a",
            "0cd5b4103e3e4b3186818492e69f3a3d",
            "1cfca77f1980419d803c06b370d248f7",
            "c88cd90f0da440d3812562edbddf982c",
            "15b91a175e3d46d08b36f486d147eb08",
            "b1ac675110444eaba4c20370a5561c9f",
            "835c51c3a80242c18e75f2573a34eb92",
            "cf92a86a435d40c7ab66d486db1f515d",
            "aac81565cde14916b2203f18c0237342",
            "a3144cb50b854db1a40883de07a7b7a8",
            "f1965ce0f46f4eee953db173eb4f6e49",
            "f8b7799177da4079b61f7b3efb78d7f4",
            "e7deaf338bc646c18f58e431b393a9ae",
            "1843cbf4b1d946bdb97be9794eac8e25",
            "dd00e3437c3f4f1f9bf9d3b90f71999d",
            "12892b15597c4f419b87057e48207706",
            "4a7733e5184c4da6bb7c6c26c411904c",
            "cc8e60f8c91e41eeb0269525cca91538",
            "4927b7b7754542dcb03f9140acbb25cb",
            "b301fc75672946178e69e17f0e649e05",
            "3e3d08b0a54540b488e81c60774c5637",
            "6cb1b81de99344f0b99aa55becf7be7a",
            "f6fa2ac2877241de8455b27313e039f4",
            "9b69be965bb049ee8aa95d0d79ca5ab9",
            "ea18603872ec486cb95ab0e6191dc2b8",
            "9b2a177efacc4dbcabb4ff14eeae1fda",
            "d7fdb79bb6f04b45a7072bc3d21b4549",
            "8c947fef9ab248178ccbabd3a5ed8290",
            "8635bedd144e4be493616f2e05054454",
            "4f9cceb6053e4c0f85b6fb116f6b3f44",
            "a8e915abce6247ed9a745abd48f4c936",
            "975624ff8077481eaa34722bc4d9bb16",
            "02ed5dfe4f854d48b3c054b07e09dac3",
            "06e9e495a9434efda21416830b80b850",
            "3ac0a0de10b04e3292a4168867b2bf11",
            "d0a2095bba254e629d6decf1912964d0",
            "04dbbd50c49444ba9d683f99375d3374",
            "c3a8d47721ba417893ec063fb9cec957",
            "aa5801b9b2124fa7aa9d51b40527fd17",
            "d61f295820814e7483e1a3aed26d8c80",
            "c5c6a6b162c9421d97d56e22cef4bd54",
            "79f3146f569443e582c5b20d0cf54f30",
            "b26c8147d8fb40fdbe3de28237d2cd93",
            "46f21bc4af07484083ade49c01ebff98",
            "fa817ad9a2d549ac8879713ad91ed054"
          ]
        },
        "outputId": "8a86bcba-ed0d-43f5-a4c9-5412d9cd3673"
      },
      "source": [
        "from datasets import load_dataset, load_metric, Audio\n",
        "\n",
        "common_voice_train = load_dataset(\"common_voice\", \"lv\", split=\"train+validation\")\n",
        "common_voice_test = load_dataset(\"common_voice\", \"lv\", split=\"test\")"
      ],
      "execution_count": null,
      "outputs": [
        {
          "output_type": "display_data",
          "data": {
            "application/vnd.jupyter.widget-view+json": {
              "model_id": "9986e6ae68924ba9be48d90643e56d99",
              "version_minor": 0,
              "version_major": 2
            },
            "text/plain": [
              "Downloading:   0%|          | 0.00/4.44k [00:00<?, ?B/s]"
            ]
          },
          "metadata": {}
        },
        {
          "output_type": "display_data",
          "data": {
            "application/vnd.jupyter.widget-view+json": {
              "model_id": "93bcee28c12c426bac66e03caad77769",
              "version_minor": 0,
              "version_major": 2
            },
            "text/plain": [
              "Downloading:   0%|          | 0.00/10.2k [00:00<?, ?B/s]"
            ]
          },
          "metadata": {}
        },
        {
          "output_type": "stream",
          "name": "stdout",
          "text": [
            "Downloading and preparing dataset common_voice/lv (download: 198.66 MiB, generated: 3.18 MiB, post-processed: Unknown size, total: 201.84 MiB) to /root/.cache/huggingface/datasets/common_voice/lv/6.1.0/f7a9d973839b7706e9e281c19b7e512f31badf3c0fdbd21c671f3c4bf9acf3b9...\n"
          ]
        },
        {
          "output_type": "display_data",
          "data": {
            "application/vnd.jupyter.widget-view+json": {
              "model_id": "b9e3bc2df727455d9b3a6c23b6577f35",
              "version_minor": 0,
              "version_major": 2
            },
            "text/plain": [
              "Downloading:   0%|          | 0.00/208M [00:00<?, ?B/s]"
            ]
          },
          "metadata": {}
        },
        {
          "output_type": "display_data",
          "data": {
            "application/vnd.jupyter.widget-view+json": {
              "model_id": "03d1f851ab054a5ca1fa429c5ebdeb1d",
              "version_minor": 0,
              "version_major": 2
            },
            "text/plain": [
              "0 examples [00:00, ? examples/s]"
            ]
          },
          "metadata": {}
        },
        {
          "output_type": "display_data",
          "data": {
            "application/vnd.jupyter.widget-view+json": {
              "model_id": "0cd5b4103e3e4b3186818492e69f3a3d",
              "version_minor": 0,
              "version_major": 2
            },
            "text/plain": [
              "0 examples [00:00, ? examples/s]"
            ]
          },
          "metadata": {}
        },
        {
          "output_type": "display_data",
          "data": {
            "application/vnd.jupyter.widget-view+json": {
              "model_id": "e7deaf338bc646c18f58e431b393a9ae",
              "version_minor": 0,
              "version_major": 2
            },
            "text/plain": [
              "0 examples [00:00, ? examples/s]"
            ]
          },
          "metadata": {}
        },
        {
          "output_type": "display_data",
          "data": {
            "application/vnd.jupyter.widget-view+json": {
              "model_id": "9b69be965bb049ee8aa95d0d79ca5ab9",
              "version_minor": 0,
              "version_major": 2
            },
            "text/plain": [
              "0 examples [00:00, ? examples/s]"
            ]
          },
          "metadata": {}
        },
        {
          "output_type": "display_data",
          "data": {
            "application/vnd.jupyter.widget-view+json": {
              "model_id": "3ac0a0de10b04e3292a4168867b2bf11",
              "version_minor": 0,
              "version_major": 2
            },
            "text/plain": [
              "0 examples [00:00, ? examples/s]"
            ]
          },
          "metadata": {}
        },
        {
          "output_type": "stream",
          "name": "stdout",
          "text": [
            "Dataset common_voice downloaded and prepared to /root/.cache/huggingface/datasets/common_voice/lv/6.1.0/f7a9d973839b7706e9e281c19b7e512f31badf3c0fdbd21c671f3c4bf9acf3b9. Subsequent calls will reuse this data.\n"
          ]
        },
        {
          "output_type": "stream",
          "name": "stderr",
          "text": [
            "Reusing dataset common_voice (/root/.cache/huggingface/datasets/common_voice/lv/6.1.0/f7a9d973839b7706e9e281c19b7e512f31badf3c0fdbd21c671f3c4bf9acf3b9)\n"
          ]
        }
      ]
    },
    {
      "cell_type": "markdown",
      "metadata": {
        "id": "ri5y5N_HMANq"
      },
      "source": [
        "Many ASR datasets only provide the target text, `'sentence'` for each audio array `'audio'` and file `'path'`. Common Voice actually provides much more information about each audio file, such as the `'accent'`, etc. However, we want to keep the notebook as general as possible, so that we will only consider the transcribed text for fine-tuning.\n",
        "\n"
      ]
    },
    {
      "cell_type": "code",
      "metadata": {
        "id": "kbyq6lDgQc2a"
      },
      "source": [
        "common_voice_train = common_voice_train.remove_columns([\"accent\", \"age\", \"client_id\", \"down_votes\", \"gender\", \"locale\", \"segment\", \"up_votes\"])\n",
        "common_voice_test = common_voice_test.remove_columns([\"accent\", \"age\", \"client_id\", \"down_votes\", \"gender\", \"locale\", \"segment\", \"up_votes\"])"
      ],
      "execution_count": null,
      "outputs": []
    },
    {
      "cell_type": "markdown",
      "metadata": {
        "id": "Go9Hq4e4NDT9"
      },
      "source": [
        "Let's write a short function to display some random samples of the dataset and run it a couple of times to get a feeling for the transcriptions."
      ]
    },
    {
      "cell_type": "code",
      "metadata": {
        "id": "72737oog2F6U"
      },
      "source": [
        "from datasets import ClassLabel\n",
        "import random\n",
        "import pandas as pd\n",
        "from IPython.display import display, HTML\n",
        "\n",
        "def show_random_elements(dataset, num_examples=10):\n",
        "    assert num_examples <= len(dataset), \"Can't pick more elements than there are in the dataset.\"\n",
        "    picks = []\n",
        "    for _ in range(num_examples):\n",
        "        pick = random.randint(0, len(dataset)-1)\n",
        "        while pick in picks:\n",
        "            pick = random.randint(0, len(dataset)-1)\n",
        "        picks.append(pick)\n",
        "    \n",
        "    df = pd.DataFrame(dataset[picks])\n",
        "    display(HTML(df.to_html()))"
      ],
      "execution_count": null,
      "outputs": []
    },
    {
      "cell_type": "code",
      "metadata": {
        "colab": {
          "base_uri": "https://localhost:8080/",
          "height": 363
        },
        "id": "K_JUmf3G3b9S",
        "outputId": "63f4780d-0ca3-492a-bd6f-156d865ead84"
      },
      "source": [
        "show_random_elements(common_voice_train.remove_columns([\"path\", \"audio\"]), num_examples=10)"
      ],
      "execution_count": null,
      "outputs": [
        {
          "output_type": "display_data",
          "data": {
            "text/html": [
              "<table border=\"1\" class=\"dataframe\">\n",
              "  <thead>\n",
              "    <tr style=\"text-align: right;\">\n",
              "      <th></th>\n",
              "      <th>sentence</th>\n",
              "    </tr>\n",
              "  </thead>\n",
              "  <tbody>\n",
              "    <tr>\n",
              "      <th>0</th>\n",
              "      <td>Sveikas!</td>\n",
              "    </tr>\n",
              "    <tr>\n",
              "      <th>1</th>\n",
              "      <td>Nē, tas bija sen pirms manis.</td>\n",
              "    </tr>\n",
              "    <tr>\n",
              "      <th>2</th>\n",
              "      <td>Kad tu viņu pēdējoreiz redzēji?</td>\n",
              "    </tr>\n",
              "    <tr>\n",
              "      <th>3</th>\n",
              "      <td>Man jāiepazīstas ar šo Endiju.</td>\n",
              "    </tr>\n",
              "    <tr>\n",
              "      <th>4</th>\n",
              "      <td>Labi. Es tev kaut ko pajautāšu.</td>\n",
              "    </tr>\n",
              "    <tr>\n",
              "      <th>5</th>\n",
              "      <td>Apsardzes priekšnieks.</td>\n",
              "    </tr>\n",
              "    <tr>\n",
              "      <th>6</th>\n",
              "      <td>Čugunu var?</td>\n",
              "    </tr>\n",
              "    <tr>\n",
              "      <th>7</th>\n",
              "      <td>Kas Jūs esat?</td>\n",
              "    </tr>\n",
              "    <tr>\n",
              "      <th>8</th>\n",
              "      <td>Jūs gaida mašīna.</td>\n",
              "    </tr>\n",
              "    <tr>\n",
              "      <th>9</th>\n",
              "      <td>Es gribēju tev pateikties.</td>\n",
              "    </tr>\n",
              "  </tbody>\n",
              "</table>"
            ],
            "text/plain": [
              "<IPython.core.display.HTML object>"
            ]
          },
          "metadata": {}
        }
      ]
    },
    {
      "cell_type": "markdown",
      "metadata": {
        "id": "fowcOllGNNju"
      },
      "source": [
        "Alright! The transcriptions look fairly clean. Having translated the transcribed sentences, it seems that the language corresponds more to written-out text than noisy dialogue. This makes sense considering that [Common Voice](https://huggingface.co/datasets/common_voice) is a crowd-sourced read speech corpus."
      ]
    },
    {
      "cell_type": "markdown",
      "metadata": {
        "id": "vq7OR50LN49m"
      },
      "source": [
        "We can see that the transcriptions contain some special characters, such as `,.?!;:`. Without a language model, it is much harder to classify speech chunks to such special characters because they don't really correspond to a characteristic sound unit. *E.g.*, the letter `\"s\"` has a more or less clear sound, whereas the special character `\".\"` does not.\n",
        "Also in order to understand the meaning of a speech signal, it is usually not necessary to include special characters in the transcription.\n",
        "\n",
        "In addition, we normalize the text to only have lower case letters and append a word separator token at the end."
      ]
    },
    {
      "cell_type": "code",
      "metadata": {
        "id": "svKzVJ_hQGK6"
      },
      "source": [
        "import re\n",
        "chars_to_ignore_regex = '[\\,\\?\\.\\!\\-\\;\\:\\\"\\“\\%\\‘\\”\\�]'\n",
        "\n",
        "def remove_special_characters(batch):\n",
        "    batch[\"sentence\"] = re.sub(chars_to_ignore_regex, '', batch[\"sentence\"]).lower() + \" \"\n",
        "    return batch"
      ],
      "execution_count": null,
      "outputs": []
    },
    {
      "cell_type": "code",
      "metadata": {
        "colab": {
          "base_uri": "https://localhost:8080/",
          "height": 81,
          "referenced_widgets": [
            "9557a0d7462d4818b6ef44e8950a038d",
            "e7dc1867c70842eb91ef5156a558edb3",
            "9972124756d94b6d9943798b7aec6ada",
            "d2accef698f4473d89ee4e394faadffb",
            "39c1c98885f64274a7bc9d4626ad7f35",
            "081d1da56574428f97379af0c4538fbb",
            "2e63f1db64e74a7ea1cf8541ecf77c8b",
            "b2ce9a65b3a444f08c7fedf194a60315",
            "63c6171c115f44b2a2b4ff06bc317f79",
            "a3c6c0feaef140bea06bb25fd1db2f89",
            "ac5d6dc9e78a4818992c55ffb6435e83",
            "7b561674dc4e4856961fd3971bac435f",
            "4fb32f8591d74a13b4e3e23fac9ae8a5",
            "5e99929c1338436bacd6cdacbfdb51b1",
            "f6cb32e09b4e42e0918dffad9838310d",
            "0e4f287c05cb4d28bf4a7ea6e7d46a8f",
            "f6196e2e72ca4d55a880a42464f0e72a",
            "338948103700450a9f9c0d0c6ed5b9f7",
            "8a62901f897c4957ab624e3176fb071d",
            "47a6bc37a1f043f5bcf4d1edc6fb87ae",
            "44dc8eb7c6e24f00b8d84f54b6424230",
            "4baa5cb361cb44f8a275d0463743ad85"
          ]
        },
        "id": "XIHocAuTQbBR",
        "outputId": "1ab2aa87-2e3c-4211-b904-a354f73a7518"
      },
      "source": [
        "common_voice_train = common_voice_train.map(remove_special_characters)\n",
        "common_voice_test = common_voice_test.map(remove_special_characters)"
      ],
      "execution_count": null,
      "outputs": [
        {
          "output_type": "display_data",
          "data": {
            "application/vnd.jupyter.widget-view+json": {
              "model_id": "9557a0d7462d4818b6ef44e8950a038d",
              "version_minor": 0,
              "version_major": 2
            },
            "text/plain": [
              "  0%|          | 0/4554 [00:00<?, ?ex/s]"
            ]
          },
          "metadata": {}
        },
        {
          "output_type": "display_data",
          "data": {
            "application/vnd.jupyter.widget-view+json": {
              "model_id": "7b561674dc4e4856961fd3971bac435f",
              "version_minor": 0,
              "version_major": 2
            },
            "text/plain": [
              "  0%|          | 0/1882 [00:00<?, ?ex/s]"
            ]
          },
          "metadata": {}
        }
      ]
    },
    {
      "cell_type": "code",
      "metadata": {
        "colab": {
          "base_uri": "https://localhost:8080/",
          "height": 363
        },
        "id": "RBDRAAYxRE6n",
        "outputId": "60bb7034-259b-4bc8-9c43-733c4069cfb6"
      },
      "source": [
        "show_random_elements(common_voice_train.remove_columns([\"path\",\"audio\"]))"
      ],
      "execution_count": null,
      "outputs": [
        {
          "output_type": "display_data",
          "data": {
            "text/html": [
              "<table border=\"1\" class=\"dataframe\">\n",
              "  <thead>\n",
              "    <tr style=\"text-align: right;\">\n",
              "      <th></th>\n",
              "      <th>sentence</th>\n",
              "    </tr>\n",
              "  </thead>\n",
              "  <tbody>\n",
              "    <tr>\n",
              "      <th>0</th>\n",
              "      <td>es gribu pieskarties brīnumam</td>\n",
              "    </tr>\n",
              "    <tr>\n",
              "      <th>1</th>\n",
              "      <td>es zinu kas tevi nomāc</td>\n",
              "    </tr>\n",
              "    <tr>\n",
              "      <th>2</th>\n",
              "      <td>ļauj minēt viņš ir tur</td>\n",
              "    </tr>\n",
              "    <tr>\n",
              "      <th>3</th>\n",
              "      <td>esi gatavs tam ka būsi viņai nepieciešams bet viņa to nezinās</td>\n",
              "    </tr>\n",
              "    <tr>\n",
              "      <th>4</th>\n",
              "      <td>vai tāds nav tava leļļu teātra mērķis</td>\n",
              "    </tr>\n",
              "    <tr>\n",
              "      <th>5</th>\n",
              "      <td>protams jā paldies kundze</td>\n",
              "    </tr>\n",
              "    <tr>\n",
              "      <th>6</th>\n",
              "      <td>esam zaudējuši pa spalvainam draudziņam</td>\n",
              "    </tr>\n",
              "    <tr>\n",
              "      <th>7</th>\n",
              "      <td>tas bija mērs alan</td>\n",
              "    </tr>\n",
              "    <tr>\n",
              "      <th>8</th>\n",
              "      <td>visu esmu pareizi sašifrējis</td>\n",
              "    </tr>\n",
              "    <tr>\n",
              "      <th>9</th>\n",
              "      <td>labi un</td>\n",
              "    </tr>\n",
              "  </tbody>\n",
              "</table>"
            ],
            "text/plain": [
              "<IPython.core.display.HTML object>"
            ]
          },
          "metadata": {}
        }
      ]
    },
    {
      "cell_type": "markdown",
      "metadata": {
        "id": "jwfaptH5RJwA"
      },
      "source": [
        "Good! This looks better. We have removed most special characters from transcriptions and normalized them to lower-case only.\n",
        "\n",
        "In CTC, it is common to classify speech chunks into letters, so we will do the same here. \n",
        "Let's extract all distinct letters of the training and test data and build our vocabulary from this set of letters.\n",
        "\n",
        "We write a mapping function that concatenates all transcriptions into one long transcription and then transforms the string into a set of chars. \n",
        "It is important to pass the argument `batched=True` to the `map(...)` function so that the mapping function has access to all transcriptions at once."
      ]
    },
    {
      "cell_type": "code",
      "metadata": {
        "id": "LwCshNbbeRZR"
      },
      "source": [
        "def extract_all_chars(batch):\n",
        "  all_text = \" \".join(batch[\"sentence\"])\n",
        "  vocab = list(set(all_text))\n",
        "  return {\"vocab\": [vocab], \"all_text\": [all_text]}"
      ],
      "execution_count": null,
      "outputs": []
    },
    {
      "cell_type": "code",
      "metadata": {
        "colab": {
          "base_uri": "https://localhost:8080/",
          "height": 81,
          "referenced_widgets": [
            "c3dd570d91f24af69d91fc9cb38b4aae",
            "1b613258a62c421aacb12b0c0f93b3aa",
            "54e4ddd999444bf9a5e9c3fd654ab567",
            "c8d2a3a6a0b6481991ce7fceb4c36ae5",
            "2719b9b10a22475a9e52d26b01998f30",
            "8bd260e1d44d4e1691dc186d0043bb57",
            "49c6da5d757d440b83fd495ba2d32887",
            "6f9e7d9b099a4551a5cf54c203e61ff6",
            "37a7f257034746f7aeed022437da12fe",
            "2b64195dc4714270a6e51bf8dc14dd6d",
            "eef90ea64e7f4bdba06c764ecf51af05",
            "a208bf368a154063a00d68a0ec2fb78f",
            "15f2203dd5fb4816952438778c67c2a4",
            "07aa922773ea4ea49995c5fc130c2473",
            "c4e175afd3584a929efba39b43af9b6d",
            "6ffa679bbcda4577923d5f81ca36513e",
            "6d0684ec94f4498b97e191ff22daf458",
            "c8643e35b905451abd299c9ebde0f4da",
            "fc80c79f19d54401b3c7a95366bac9db",
            "7f7ea9286f374c58a498fee661bccd6f",
            "43e6d37e466a4ec1b6149139cba279b7",
            "c4f2e2adcfed4c24a0eb6e9fa1a0e40e"
          ]
        },
        "id": "_m6uUjjcfbjH",
        "outputId": "0492a11b-0374-48a1-dd7b-425cb254b21b"
      },
      "source": [
        "vocab_train = common_voice_train.map(extract_all_chars, batched=True, batch_size=-1, keep_in_memory=True, remove_columns=common_voice_train.column_names)\n",
        "vocab_test = common_voice_test.map(extract_all_chars, batched=True, batch_size=-1, keep_in_memory=True, remove_columns=common_voice_test.column_names)"
      ],
      "execution_count": null,
      "outputs": [
        {
          "output_type": "display_data",
          "data": {
            "application/vnd.jupyter.widget-view+json": {
              "model_id": "c3dd570d91f24af69d91fc9cb38b4aae",
              "version_minor": 0,
              "version_major": 2
            },
            "text/plain": [
              "  0%|          | 0/1 [00:00<?, ?ba/s]"
            ]
          },
          "metadata": {}
        },
        {
          "output_type": "display_data",
          "data": {
            "application/vnd.jupyter.widget-view+json": {
              "model_id": "a208bf368a154063a00d68a0ec2fb78f",
              "version_minor": 0,
              "version_major": 2
            },
            "text/plain": [
              "  0%|          | 0/1 [00:00<?, ?ba/s]"
            ]
          },
          "metadata": {}
        }
      ]
    },
    {
      "cell_type": "markdown",
      "metadata": {
        "id": "7oVgE8RZSJNP"
      },
      "source": [
        "Now, we create the union of all distinct letters in the training dataset and test dataset and convert the resulting list into an enumerated dictionary."
      ]
    },
    {
      "cell_type": "code",
      "metadata": {
        "id": "aQfneNsmlJI0"
      },
      "source": [
        "vocab_list = list(set(vocab_train[\"vocab\"][0]) | set(vocab_test[\"vocab\"][0]))"
      ],
      "execution_count": null,
      "outputs": []
    },
    {
      "cell_type": "code",
      "metadata": {
        "colab": {
          "base_uri": "https://localhost:8080/"
        },
        "id": "_0kRndSvqaKk",
        "outputId": "aa27f289-e026-497b-a38c-5663e28439b0"
      },
      "source": [
        "vocab_dict = {v: k for k, v in enumerate(vocab_list)}\n",
        "vocab_dict"
      ],
      "execution_count": null,
      "outputs": [
        {
          "output_type": "execute_result",
          "data": {
            "text/plain": [
              "{' ': 32,\n",
              " \"'\": 26,\n",
              " 'a': 8,\n",
              " 'b': 20,\n",
              " 'c': 12,\n",
              " 'd': 17,\n",
              " 'e': 25,\n",
              " 'f': 9,\n",
              " 'g': 18,\n",
              " 'h': 35,\n",
              " 'i': 7,\n",
              " 'j': 33,\n",
              " 'k': 37,\n",
              " 'l': 10,\n",
              " 'm': 1,\n",
              " 'n': 23,\n",
              " 'o': 34,\n",
              " 'p': 3,\n",
              " 'r': 22,\n",
              " 's': 27,\n",
              " 't': 11,\n",
              " 'u': 28,\n",
              " 'v': 36,\n",
              " 'x': 14,\n",
              " 'z': 5,\n",
              " 'ā': 21,\n",
              " 'č': 6,\n",
              " 'ē': 13,\n",
              " 'ģ': 30,\n",
              " 'ī': 4,\n",
              " 'ķ': 19,\n",
              " 'ļ': 24,\n",
              " 'ņ': 15,\n",
              " 'š': 29,\n",
              " 'ū': 0,\n",
              " 'ž': 16,\n",
              " '–': 31,\n",
              " '…': 2}"
            ]
          },
          "metadata": {},
          "execution_count": 12
        }
      ]
    },
    {
      "cell_type": "markdown",
      "metadata": {
        "id": "JOSzbvs9SXT1"
      },
      "source": [
        "Cool, we see that all letters of the alphabet occur in the dataset (which is not really surprising) and we also extracted the special characters `\" \"` and `'`. Note that we did not exclude those special characters because: \n",
        "\n",
        "- The model has to learn to predict when a word is finished or else the model prediction would always be a sequence of chars which would make it impossible to separate words from each other.\n",
        "\n",
        "One should always keep in mind that the data-preprocessing is a very important step before training your model. E.g., we don't want our model to differentiate between `a` and `A` just because we forgot to normalize the data. The difference between `a` and `A` does not depend on the \"sound\" of the letter at all, but more on grammatical rules - *e.g.* use a capitalized letter at the beginning of the sentence. So it is sensible to remove the difference between capitalized and non-capitalized letters so that the model has an easier time learning to transcribe speech. "
      ]
    },
    {
      "cell_type": "markdown",
      "metadata": {
        "id": "b1fBRCn-TRaO"
      },
      "source": [
        "To make it clearer that `\" \"` has its own token class, we give it a more visible character `|`. In addition, we also add an \"unknown\" token so that the model can later deal with characters not encountered in Common Voice's training set. \n",
        "\n",
        "Finally, we also add a padding token that corresponds to CTC's \"*blank token*\". The \"blank token\" is a core component of the CTC algorithm. For more information, please take a look at the \"Alignment\" section [here](https://distill.pub/2017/ctc/)."
      ]
    },
    {
      "cell_type": "code",
      "metadata": {
        "id": "npbIbBoLgaFX"
      },
      "source": [
        "vocab_dict[\"|\"] = vocab_dict[\" \"]\n",
        "del vocab_dict[\" \"]"
      ],
      "execution_count": null,
      "outputs": []
    },
    {
      "cell_type": "code",
      "metadata": {
        "id": "znF0bNunsjbl",
        "colab": {
          "base_uri": "https://localhost:8080/"
        },
        "outputId": "a59eb788-5a4b-4735-adc1-7b4038e045bc"
      },
      "source": [
        "vocab_dict[\"[UNK]\"] = len(vocab_dict)\n",
        "vocab_dict[\"[PAD]\"] = len(vocab_dict)\n",
        "len(vocab_dict)"
      ],
      "execution_count": null,
      "outputs": [
        {
          "output_type": "execute_result",
          "data": {
            "text/plain": [
              "40"
            ]
          },
          "metadata": {},
          "execution_count": 14
        }
      ]
    },
    {
      "cell_type": "markdown",
      "metadata": {
        "id": "SFPGfet8U5sL"
      },
      "source": [
        "Cool, now our vocabulary is complete and consists of 39 tokens, which means that the linear layer that we will add on top of the pretrained XLSR-Wav2Vec2 checkpoint will have an output dimension of 39."
      ]
    },
    {
      "cell_type": "markdown",
      "metadata": {
        "id": "1CujRgBNVRaD"
      },
      "source": [
        "Let's now save the vocabulary as a json file."
      ]
    },
    {
      "cell_type": "code",
      "metadata": {
        "id": "ehyUoh9vk191"
      },
      "source": [
        "import json\n",
        "with open('vocab.json', 'w') as vocab_file:\n",
        "    json.dump(vocab_dict, vocab_file)"
      ],
      "execution_count": null,
      "outputs": []
    },
    {
      "cell_type": "markdown",
      "metadata": {
        "id": "SHJDaKlIVVim"
      },
      "source": [
        "In a final step, we use the json file to instantiate an object of the `Wav2Vec2CTCTokenizer` class."
      ]
    },
    {
      "cell_type": "code",
      "metadata": {
        "id": "xriFGEWQkO4M"
      },
      "source": [
        "from transformers import Wav2Vec2CTCTokenizer\n",
        "\n",
        "tokenizer = Wav2Vec2CTCTokenizer(\"./vocab.json\", unk_token=\"[UNK]\", pad_token=\"[PAD]\", word_delimiter_token=\"|\")"
      ],
      "execution_count": null,
      "outputs": []
    },
    {
      "cell_type": "markdown",
      "metadata": {
        "id": "KvL12DrNV4cx"
      },
      "source": [
        "Next, we will create the feature extractor."
      ]
    },
    {
      "cell_type": "markdown",
      "metadata": {
        "id": "mYcIiR2FQ96i"
      },
      "source": [
        "### Create XLSR-Wav2Vec2 Feature Extractor"
      ]
    },
    {
      "cell_type": "markdown",
      "metadata": {
        "id": "Y6mDEyW719rx"
      },
      "source": [
        "Speech is a continuous signal and to be treated by computers, it first has to be discretized, which is usually called **sampling**. The sampling rate hereby plays an important role in that it defines how many data points of the speech signal are measured per second. Therefore, sampling with a higher sampling rate results in a better approximation of the *real* speech signal but also necessitates more values per second.\n",
        "\n",
        "A pretrained checkpoint expects its input data to have been sampled more or less from the same distribution as the data it was trained on. The same speech signals sampled at two different rates have a very different distribution, *e.g.*, doubling the sampling rate results in data points being twice as long. Thus, \n",
        "before fine-tuning a pretrained checkpoint of an ASR model, it is crucial to verify that the sampling rate of the data that was used to pretrain the model matches the sampling rate of the dataset used to fine-tune the model.\n",
        "\n",
        "XLSR-Wav2Vec2 was pretrained on the audio data of [Babel](https://huggingface.co/datasets/librispeech_asr), \n",
        "[Multilingual LibriSpeech (MLS)](https://ai.facebook.com/blog/a-new-open-data-set-for-multilingual-speech-research/), and [Common Voice](https://huggingface.co/datasets/common_voice). Most of those datasets were sampled at 16kHz, so that Common Voice, sampled at 48kHz, has to be downsampled to 16kHz for training. Therefore, we will have to downsample our fine-tuning data to 16kHz in the following.\n",
        "\n"
      ]
    },
    {
      "cell_type": "markdown",
      "metadata": {
        "id": "KuUbPW7oV-B5"
      },
      "source": [
        "A XLSR-Wav2Vec2 feature extractor object requires the following parameters to be instantiated:\n",
        "\n",
        "- `feature_size`: Speech models take a sequence of feature vectors as an input. While the length of this sequence obviously varies, the feature size should not. In the case of Wav2Vec2, the feature size is 1 because the model was trained on the raw speech signal ${}^2$.\n",
        "- `sampling_rate`: The sampling rate at which the model is trained on.\n",
        "- `padding_value`: For batched inference, shorter inputs need to be padded with a specific value\n",
        "- `do_normalize`: Whether the input should be *zero-mean-unit-variance* normalized or not. Usually, speech models perform better when normalizing the input\n",
        "- `return_attention_mask`: Whether the model should make use of an `attention_mask` for batched inference. In general, XLSR-Wav2Vec2 models should **always** make use of the `attention_mask`."
      ]
    },
    {
      "cell_type": "code",
      "metadata": {
        "id": "kAR0-2KLkopp"
      },
      "source": [
        "from transformers import Wav2Vec2FeatureExtractor\n",
        "\n",
        "feature_extractor = Wav2Vec2FeatureExtractor(feature_size=1, sampling_rate=16000, padding_value=0.0, do_normalize=True, return_attention_mask=True)"
      ],
      "execution_count": null,
      "outputs": []
    },
    {
      "cell_type": "markdown",
      "metadata": {
        "id": "qUETetgqYC3W"
      },
      "source": [
        "Great, XLSR-Wav2Vec2's feature extraction pipeline is thereby fully defined!\n",
        "\n",
        "To make the usage of XLSR-Wav2Vec2 as user-friendly as possible, the feature extractor and tokenizer are *wrapped* into a single `Wav2Vec2Processor` class so that one only needs a `model` and `processor` object."
      ]
    },
    {
      "cell_type": "code",
      "metadata": {
        "id": "KYZtoW-tlZgl"
      },
      "source": [
        "from transformers import Wav2Vec2Processor\n",
        "\n",
        "processor = Wav2Vec2Processor(feature_extractor=feature_extractor, tokenizer=tokenizer)"
      ],
      "execution_count": null,
      "outputs": []
    },
    {
      "cell_type": "markdown",
      "metadata": {
        "id": "fTfFDSS0YfMN"
      },
      "source": [
        "If one wants to re-use the just created processor and the fine-tuned model of this notebook, one can mount his/her google drive to the notebook and save all relevant files there. To do so, please uncomment the following lines. \n",
        "\n",
        "We will give the fine-tuned model the name `\"wav2vec2-large-xlsr-latvian-demo\"`."
      ]
    },
    {
      "cell_type": "markdown",
      "metadata": {
        "id": "DrKnYuvDIoOO"
      },
      "source": [
        "Next, we can prepare the dataset."
      ]
    },
    {
      "cell_type": "markdown",
      "metadata": {
        "id": "YFmShnl7RE35"
      },
      "source": [
        "### Preprocess Data\n",
        "\n",
        "So far, we have not looked at the actual values of the speech signal but just the transcriptio. In addition to `sentence`, our datasets include two more column names `path` and `audio`. `path` states the absolute path of the audio file. Let's take a look.\n"
      ]
    },
    {
      "cell_type": "code",
      "metadata": {
        "colab": {
          "base_uri": "https://localhost:8080/",
          "height": 53
        },
        "id": "TTCS7W6XJ9BG",
        "outputId": "00c137e4-9cc6-4244-9dc3-94f9ceef3d02"
      },
      "source": [
        "common_voice_train[0][\"path\"]"
      ],
      "execution_count": null,
      "outputs": [
        {
          "output_type": "execute_result",
          "data": {
            "application/vnd.google.colaboratory.intrinsic+json": {
              "type": "string"
            },
            "text/plain": [
              "'/root/.cache/huggingface/datasets/downloads/extracted/e3e112ed3dbf292eaef342e6cd6035aac7a362e53d0874a6f07b440aabe49d2c/cv-corpus-6.1-2020-12-11/lv/clips/common_voice_lv_19396785.mp3'"
            ]
          },
          "metadata": {},
          "execution_count": 19
        }
      ]
    },
    {
      "cell_type": "markdown",
      "metadata": {
        "id": "T6ndIjHGFp0W"
      },
      "source": [
        "However, `XLSR-Wav2Vec2` expects the input in the format of a 1-dimensional array of 16 kHz. This means that the audio file has to be loaded and resampled.\n",
        "\n",
        " Thankfully, `datasets` does this automatically by calling the other column `audio`. Let try it out. "
      ]
    },
    {
      "cell_type": "code",
      "metadata": {
        "colab": {
          "base_uri": "https://localhost:8080/"
        },
        "id": "qj_z5Zc3GAs9",
        "outputId": "ea30f14c-3d9c-426e-c4d6-8f5a47dbc2fd"
      },
      "source": [
        "common_voice_train[0][\"audio\"]"
      ],
      "execution_count": null,
      "outputs": [
        {
          "output_type": "execute_result",
          "data": {
            "text/plain": [
              "{'array': array([0.        , 0.        , 0.        , ..., 0.00013196, 0.00079191,\n",
              "        0.00137711], dtype=float32),\n",
              " 'path': '/root/.cache/huggingface/datasets/downloads/extracted/e3e112ed3dbf292eaef342e6cd6035aac7a362e53d0874a6f07b440aabe49d2c/cv-corpus-6.1-2020-12-11/lv/clips/common_voice_lv_19396785.mp3',\n",
              " 'sampling_rate': 48000}"
            ]
          },
          "metadata": {},
          "execution_count": 20
        }
      ]
    },
    {
      "cell_type": "markdown",
      "metadata": {
        "id": "WUUTgI1bGHW-"
      },
      "source": [
        "Great, we can see that the audio file has automatically been loaded. This is thanks to the new [`\"Audio\"` feature](https://huggingface.co/docs/datasets/package_reference/main_classes.html?highlight=audio#datasets.Audio) introduced in `datasets == 4.13.3`, which loads and resamples audio files on-the-fly upon calling.\n",
        "\n",
        "In the example above we can see that the audio data is loaded with a sampling rate of 48kHZ whereas 16kHz are expected by the model. We can set the audio feature to the correct sampling rate by making use of [`cast_column`](https://huggingface.co/docs/datasets/package_reference/main_classes.html?highlight=cast_column#datasets.DatasetDict.cast_column):"
      ]
    },
    {
      "cell_type": "code",
      "metadata": {
        "id": "rrv65aj7G95i"
      },
      "source": [
        "common_voice_train = common_voice_train.cast_column(\"audio\", Audio(sampling_rate=16_000))\n",
        "common_voice_test = common_voice_test.cast_column(\"audio\", Audio(sampling_rate=16_000))"
      ],
      "execution_count": null,
      "outputs": []
    },
    {
      "cell_type": "markdown",
      "metadata": {
        "id": "PcnO4x-NGBEi"
      },
      "source": [
        "Let's take a look at `\"audio\"` again."
      ]
    },
    {
      "cell_type": "code",
      "metadata": {
        "colab": {
          "base_uri": "https://localhost:8080/"
        },
        "id": "aKtkc1o_HWHC",
        "outputId": "9444eab9-1476-4b77-b7a2-7aab8f441477"
      },
      "source": [
        "common_voice_train[0][\"audio\"]"
      ],
      "execution_count": null,
      "outputs": [
        {
          "output_type": "execute_result",
          "data": {
            "text/plain": [
              "{'array': array([0.        , 0.        , 0.        , ..., 0.00130146, 0.0008574 ,\n",
              "        0.00034482], dtype=float32),\n",
              " 'path': '/root/.cache/huggingface/datasets/downloads/extracted/e3e112ed3dbf292eaef342e6cd6035aac7a362e53d0874a6f07b440aabe49d2c/cv-corpus-6.1-2020-12-11/lv/clips/common_voice_lv_19396785.mp3',\n",
              " 'sampling_rate': 16000}"
            ]
          },
          "metadata": {},
          "execution_count": 22
        }
      ]
    },
    {
      "cell_type": "markdown",
      "metadata": {
        "id": "SOckzFd4Mbzq"
      },
      "source": [
        "This seemed to have worked! Let's listen to a couple of audio files to better understand the dataset and verify that the audio was correctly loaded. \n",
        "\n",
        "**Note**: *You can click the following cell a couple of times to listen to different speech samples.*"
      ]
    },
    {
      "cell_type": "code",
      "metadata": {
        "colab": {
          "base_uri": "https://localhost:8080/",
          "height": 75
        },
        "id": "dueM6U7Ev0OA",
        "outputId": "b4f69a55-ef7d-4af4-e2aa-14bcb0c095ee"
      },
      "source": [
        "import IPython.display as ipd\n",
        "import numpy as np\n",
        "import random\n",
        "\n",
        "rand_int = random.randint(0, len(common_voice_train)-1)\n",
        "\n",
        "ipd.Audio(data=common_voice_train[rand_int][\"audio\"][\"array\"], autoplay=True, rate=16000)"
      ],
      "execution_count": null,
      "outputs": [
        {
          "output_type": "execute_result",
          "data": {
            "text/html": [
              "\n",
              "                <audio controls=\"controls\" autoplay=\"autoplay\">\n",
              "                    <source src=\"data:audio/wav;base64,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\" type=\"audio/wav\" />\n",
              "                    Your browser does not support the audio element.\n",
              "                </audio>\n",
              "              "
            ],
            "text/plain": [
              "<IPython.lib.display.Audio object>"
            ]
          },
          "metadata": {},
          "execution_count": 23
        }
      ]
    },
    {
      "cell_type": "markdown",
      "metadata": {
        "id": "gY8m3vARHYTa"
      },
      "source": [
        "Great, it seems like the data is now correctly loaded and resampled. "
      ]
    },
    {
      "cell_type": "markdown",
      "metadata": {
        "id": "1MaL9J2dNVtG"
      },
      "source": [
        "It can be heard, that the speakers change along with their speaking rate, accent, and background environment, etc. Overall, the recordings sound acceptably clear though, which is to be expected from a crowd-sourced read speech corpus.\n",
        "\n",
        "Let's do a final check that the data is correctly prepared, by printing the shape of the speech input, its transcription, and the corresponding sampling rate.\n",
        "\n",
        "**Note**: *You can click the following cell a couple of times to verify multiple samples.*"
      ]
    },
    {
      "cell_type": "code",
      "metadata": {
        "colab": {
          "base_uri": "https://localhost:8080/"
        },
        "id": "1Po2g7YPuRTx",
        "outputId": "6ba12432-c2d6-4795-fd45-33e359dc61cb"
      },
      "source": [
        "rand_int = random.randint(0, len(common_voice_train)-1)\n",
        "\n",
        "print(\"Target text:\", common_voice_train[rand_int][\"sentence\"])\n",
        "print(\"Input array shape:\", common_voice_train[rand_int][\"audio\"][\"array\"].shape)\n",
        "print(\"Sampling rate:\", common_voice_train[rand_int][\"audio\"][\"sampling_rate\"])"
      ],
      "execution_count": null,
      "outputs": [
        {
          "output_type": "stream",
          "name": "stdout",
          "text": [
            "Target text: atnesu rokudzelžu atslēgu \n",
            "Input array shape: (41088,)\n",
            "Sampling rate: 16000\n"
          ]
        }
      ]
    },
    {
      "cell_type": "markdown",
      "metadata": {
        "id": "M9teZcSwOBJ4"
      },
      "source": [
        "Good! Everything looks fine - the data is a 1-dimensional array, the sampling rate always corresponds to 16kHz, and the target text is normalized."
      ]
    },
    {
      "cell_type": "markdown",
      "metadata": {
        "id": "k3Pbn5WvOYZF"
      },
      "source": [
        "Finally, we can leverage `Wav2Vec2Processor` to process the data to the format expected by `Wav2Vec2ForCTC` for training. We will again make use of the `map(...)` function.\n",
        "\n",
        "First, we load and resample the audio data, simply by calling `batch[\"audio\"]`.\n",
        "Second, we extract the `input_values` from the loaded audio file. In our case, this includes only normalization, but for other speech models, this step could correspond to extracting, *e.g.* [Log-Mel features](https://en.wikipedia.org/wiki/Mel-frequency_cepstrum). \n",
        "Third, we encode the transcriptions to label ids.\n",
        "\n",
        "**Note**: This mapping function is a good example of how the `Wav2Vec2Processor` class should be used. In \"normal\" context, calling `processor(...)` is redirected to `Wav2Vec2FeatureExtractor`'s call method. When wrapping the processor into the `as_target_processor` context, however, the same method is redirected to `Wav2Vec2CTCTokenizer`'s call method.\n",
        "For more information please check the [docs](https://huggingface.co/transformers/master/model_doc/wav2vec2.html#transformers.Wav2Vec2Processor.__call__)."
      ]
    },
    {
      "cell_type": "code",
      "metadata": {
        "id": "eJY7I0XAwe9p"
      },
      "source": [
        "def prepare_dataset(batch):\n",
        "    audio = batch[\"audio\"]\n",
        "\n",
        "    # batched output is \"un-batched\"\n",
        "    batch[\"input_values\"] = processor(audio[\"array\"], sampling_rate=audio[\"sampling_rate\"]).input_values[0]\n",
        "    \n",
        "    with processor.as_target_processor():\n",
        "        batch[\"labels\"] = processor(batch[\"sentence\"]).input_ids\n",
        "    return batch"
      ],
      "execution_count": null,
      "outputs": []
    },
    {
      "cell_type": "markdown",
      "metadata": {
        "id": "q6Pg_WR3OGAP"
      },
      "source": [
        "Let's apply the data preparation function to all examples."
      ]
    },
    {
      "cell_type": "code",
      "metadata": {
        "id": "-np9xYK-wl8q"
      },
      "source": [
        "common_voice_train = common_voice_train.map(prepare_dataset, remove_columns=common_voice_train.column_names, num_proc=4)\n",
        "common_voice_test = common_voice_test.map(prepare_dataset, remove_columns=common_voice_test.column_names, num_proc=4)"
      ],
      "execution_count": null,
      "outputs": []
    },
    {
      "cell_type": "markdown",
      "metadata": {
        "id": "nKcEWHvKI1by"
      },
      "source": [
        "**Note**: Currently `datasets` make use of [`torchaudio`](https://pytorch.org/audio/stable/index.html) and [`librosa`](https://librosa.org/doc/latest/index.html) for audio loading and resampling. If you wish to implement your own costumized data loading/sampling, feel free to just make use of the `\"path\"` column instead and disregard the `\"audio\"` column."
      ]
    },
    {
      "cell_type": "markdown",
      "metadata": {
        "id": "gYlQkKVoRUos"
      },
      "source": [
        "## Training\n",
        "\n",
        "The data is processed so that we are ready to start setting up the training pipeline. We will make use of 🤗's [Trainer](https://huggingface.co/transformers/master/main_classes/trainer.html?highlight=trainer) for which we essentially need to do the following:\n",
        "\n",
        "- Define a data collator. In contrast to most NLP models, XLSR-Wav2Vec2 has a much larger input length than output length. *E.g.*, a sample of input length 50000 has an output length of no more than 100. Given the large input sizes, it is much more efficient to pad the training batches dynamically meaning that all training samples should only be padded to the longest sample in their batch and not the overall longest sample. Therefore, fine-tuning XLSR-Wav2Vec2 requires a special padding data collator, which we will define below\n",
        "\n",
        "- Evaluation metric. During training, the model should be evaluated on the word error rate. We should define a `compute_metrics` function accordingly\n",
        "\n",
        "- Load a pretrained checkpoint. We need to load a pretrained checkpoint and configure it correctly for training.\n",
        "\n",
        "- Define the training configuration.\n",
        "\n",
        "After having fine-tuned the model, we will correctly evaluate it on the test data and verify that it has indeed learned to correctly transcribe speech."
      ]
    },
    {
      "cell_type": "markdown",
      "metadata": {
        "id": "Slk403unUS91"
      },
      "source": [
        "### Set-up Trainer\n",
        "\n",
        "Let's start by defining the data collator. The code for the data collator was copied from [this example](https://github.com/huggingface/transformers/blob/9a06b6b11bdfc42eea08fa91d0c737d1863c99e3/examples/research_projects/wav2vec2/run_asr.py#L81).\n",
        "\n",
        "Without going into too many details, in contrast to the common data collators, this data collator treats the `input_values` and `labels` differently and thus applies to separate padding functions on them (again making use of XLSR-Wav2Vec2's context manager). This is necessary because in speech input and output are of different modalities meaning that they should not be treated by the same padding function.\n",
        "Analogous to the common data collators, the padding tokens in the labels with `-100` so that those tokens are **not** taken into account when computing the loss."
      ]
    },
    {
      "cell_type": "code",
      "metadata": {
        "id": "tborvC9hx88e"
      },
      "source": [
        "import torch\n",
        "\n",
        "from dataclasses import dataclass, field\n",
        "from typing import Any, Dict, List, Optional, Union\n",
        "\n",
        "@dataclass\n",
        "class DataCollatorCTCWithPadding:\n",
        "    \"\"\"\n",
        "    Data collator that will dynamically pad the inputs received.\n",
        "    Args:\n",
        "        processor (:class:`~transformers.Wav2Vec2Processor`)\n",
        "            The processor used for proccessing the data.\n",
        "        padding (:obj:`bool`, :obj:`str` or :class:`~transformers.tokenization_utils_base.PaddingStrategy`, `optional`, defaults to :obj:`True`):\n",
        "            Select a strategy to pad the returned sequences (according to the model's padding side and padding index)\n",
        "            among:\n",
        "            * :obj:`True` or :obj:`'longest'`: Pad to the longest sequence in the batch (or no padding if only a single\n",
        "              sequence if provided).\n",
        "            * :obj:`'max_length'`: Pad to a maximum length specified with the argument :obj:`max_length` or to the\n",
        "              maximum acceptable input length for the model if that argument is not provided.\n",
        "            * :obj:`False` or :obj:`'do_not_pad'` (default): No padding (i.e., can output a batch with sequences of\n",
        "              different lengths).\n",
        "        max_length (:obj:`int`, `optional`):\n",
        "            Maximum length of the ``input_values`` of the returned list and optionally padding length (see above).\n",
        "        max_length_labels (:obj:`int`, `optional`):\n",
        "            Maximum length of the ``labels`` returned list and optionally padding length (see above).\n",
        "        pad_to_multiple_of (:obj:`int`, `optional`):\n",
        "            If set will pad the sequence to a multiple of the provided value.\n",
        "            This is especially useful to enable the use of Tensor Cores on NVIDIA hardware with compute capability >=\n",
        "            7.5 (Volta).\n",
        "    \"\"\"\n",
        "\n",
        "    processor: Wav2Vec2Processor\n",
        "    padding: Union[bool, str] = True\n",
        "    max_length: Optional[int] = None\n",
        "    max_length_labels: Optional[int] = None\n",
        "    pad_to_multiple_of: Optional[int] = None\n",
        "    pad_to_multiple_of_labels: Optional[int] = None\n",
        "\n",
        "    def __call__(self, features: List[Dict[str, Union[List[int], torch.Tensor]]]) -> Dict[str, torch.Tensor]:\n",
        "        # split inputs and labels since they have to be of different lenghts and need\n",
        "        # different padding methods\n",
        "        input_features = [{\"input_values\": feature[\"input_values\"]} for feature in features]\n",
        "        label_features = [{\"input_ids\": feature[\"labels\"]} for feature in features]\n",
        "\n",
        "        batch = self.processor.pad(\n",
        "            input_features,\n",
        "            padding=self.padding,\n",
        "            max_length=self.max_length,\n",
        "            pad_to_multiple_of=self.pad_to_multiple_of,\n",
        "            return_tensors=\"pt\",\n",
        "        )\n",
        "        with self.processor.as_target_processor():\n",
        "            labels_batch = self.processor.pad(\n",
        "                label_features,\n",
        "                padding=self.padding,\n",
        "                max_length=self.max_length_labels,\n",
        "                pad_to_multiple_of=self.pad_to_multiple_of_labels,\n",
        "                return_tensors=\"pt\",\n",
        "            )\n",
        "\n",
        "        # replace padding with -100 to ignore loss correctly\n",
        "        labels = labels_batch[\"input_ids\"].masked_fill(labels_batch.attention_mask.ne(1), -100)\n",
        "\n",
        "        batch[\"labels\"] = labels\n",
        "\n",
        "        return batch"
      ],
      "execution_count": null,
      "outputs": []
    },
    {
      "cell_type": "code",
      "metadata": {
        "id": "lbQf5GuZyQ4_"
      },
      "source": [
        "data_collator = DataCollatorCTCWithPadding(processor=processor, padding=True)"
      ],
      "execution_count": null,
      "outputs": []
    },
    {
      "cell_type": "markdown",
      "metadata": {
        "id": "xO-Zdj-5cxXp"
      },
      "source": [
        "Next, the evaluation metric is defined. As mentioned earlier, the \n",
        "predominant metric in ASR is the word error rate (WER), hence we will use it in this notebook as well."
      ]
    },
    {
      "cell_type": "code",
      "metadata": {
        "id": "9Xsux2gmyXso",
        "colab": {
          "base_uri": "https://localhost:8080/",
          "height": 49,
          "referenced_widgets": [
            "41226299f7654cc8a36200c433d1e503",
            "854431532045429189ee9216da6a7c6f",
            "523183d0d99847ecbeb5b26233adc50f",
            "7a8ec4a80de14da0813d25d54c201dd7",
            "c27eb4df55b34cbf886d1b5fa7956e7b",
            "1402dd179e95408da74b5524ed5168ac",
            "0940b4293d844d5eb40c97b9688babd3",
            "b63c15e712bb4f1191ba7b96c35d6566",
            "4e71892bd8fe4d4ea647c3ded69beb22",
            "b9ac87956d0b4439b79277429be22cf0",
            "2a64a0b4dda64f15b2a780574faa2b39"
          ]
        },
        "outputId": "60ee1392-663b-4c36-e20f-b12730b6aa40"
      },
      "source": [
        "wer_metric = load_metric(\"wer\")"
      ],
      "execution_count": null,
      "outputs": [
        {
          "output_type": "display_data",
          "data": {
            "application/vnd.jupyter.widget-view+json": {
              "model_id": "41226299f7654cc8a36200c433d1e503",
              "version_minor": 0,
              "version_major": 2
            },
            "text/plain": [
              "Downloading:   0%|          | 0.00/1.95k [00:00<?, ?B/s]"
            ]
          },
          "metadata": {}
        }
      ]
    },
    {
      "cell_type": "markdown",
      "metadata": {
        "id": "E1qZU5p-deqB"
      },
      "source": [
        "The model will return a sequence of logit vectors:\n",
        "$\\mathbf{y}_1, \\ldots, \\mathbf{y}_m$ with $\\mathbf{y}_1 = f_{\\theta}(x_1, \\ldots, x_n)[0]$ and $n >> m$.\n",
        "\n",
        "A logit vector $\\mathbf{y}_1$ contains the log-odds for each word in the vocabulary we defined earlier, thus $\\text{len}(\\mathbf{y}_i) =$ `config.vocab_size`. We are interested in the most likely prediction of the model and thus take the `argmax(...)` of the logits. Also, we transform the encoded labels back to the original string by replacing `-100` with the `pad_token_id` and decoding the ids while making sure that consecutive tokens are **not** grouped to the same token in CTC style ${}^1$."
      ]
    },
    {
      "cell_type": "code",
      "metadata": {
        "id": "1XZ-kjweyTy_"
      },
      "source": [
        "def compute_metrics(pred):\n",
        "    pred_logits = pred.predictions\n",
        "    pred_ids = np.argmax(pred_logits, axis=-1)\n",
        "\n",
        "    pred.label_ids[pred.label_ids == -100] = processor.tokenizer.pad_token_id\n",
        "\n",
        "    pred_str = processor.batch_decode(pred_ids)\n",
        "    # we do not want to group tokens when computing the metrics\n",
        "    label_str = processor.batch_decode(pred.label_ids, group_tokens=False)\n",
        "\n",
        "    wer = wer_metric.compute(predictions=pred_str, references=label_str)\n",
        "\n",
        "    return {\"wer\": wer}"
      ],
      "execution_count": null,
      "outputs": []
    },
    {
      "cell_type": "markdown",
      "metadata": {
        "id": "Xmgrx4bRwLIH"
      },
      "source": [
        "Now, we can load the pretrained `XLSR-Wav2Vec2` checkpoint. The tokenizer's `pad_token_id` must be to define the model's `pad_token_id` or in the case of `Wav2Vec2ForCTC` also CTC's *blank token* ${}^2$. To save GPU memory, we enable PyTorch's [gradient checkpointing](https://pytorch.org/docs/stable/checkpoint.html) and also set the loss reduction to \"*mean*\".\n",
        "\n",
        "Because the dataset is quite small (~6h of training data) and because Common Voice is quite noisy, fine-tuning Facebook's [wav2vec2-large-xlsr-53 checkpoint](https://huggingface.co/facebook/wav2vec2-large-xlsr-53) seems to require some hyper-parameter tuning. Therefore, I had to play around a bit with different values for dropout, [SpecAugment](https://arxiv.org/abs/1904.08779)'s masking dropout rate, layer dropout, and the learning rate until training seemed to be stable enough. \n",
        "\n",
        "**Note**: When using this notebook to train XLSR-Wav2Vec2 on another language of Common Voice those hyper-parameter settings might not work very well. Feel free to adapt those depending on your use case. "
      ]
    },
    {
      "cell_type": "code",
      "metadata": {
        "colab": {
          "base_uri": "https://localhost:8080/",
          "height": 188,
          "referenced_widgets": [
            "b147417e119f4904a81a2c6343ee9d2a",
            "66a667f01bba4f3d893a9d524af9ce07",
            "de9343c1b65547798bbd2c1986baaa93",
            "0f7f52c509dd4b08916f1040b43efa40",
            "78b920506aa2444da8e219c40c97c872",
            "c3ef06befb804014b6f9125718b35842",
            "5012e92273b54cfbb1b1d68ef7beb801",
            "c75baeb11b964abc8f705759871c7317",
            "5ed6c3df06b543a39f70e2b7f7c8fd55",
            "5b369eedd8504f119d9b5bb06ab3485b",
            "ee75942ef3284422abb32b75d4747c62",
            "73e1cc57b7fb4186b52bb773f86c77ac",
            "d2e2395d20354c1fac9aa7bfbdb56ff8",
            "d872cf287ac243c1947c8ea03f5cb703",
            "4e68032c99c1469cb7173be711089ea3",
            "f85cf3eebbc64f41944743f487702bbe",
            "8935fdcf8233484b8a0ef4257d3e78af",
            "2df5086333dc46bb879a4585ca342070",
            "0de9fe063c2040abb8cf076a666ddac3",
            "ec8dbb227d0d48dbb6228893b9a57c20",
            "92f091cefbb84e41a8c7fdfade2749ab",
            "64afcb961e9a453eb03970c114971240"
          ]
        },
        "id": "e7cqAWIayn6w",
        "outputId": "6abe0ddc-0dae-4cd4-ae6b-af2a440edd49"
      },
      "source": [
        "from transformers import Wav2Vec2ForCTC\n",
        "\n",
        "model = Wav2Vec2ForCTC.from_pretrained(\n",
        "    \"facebook/wav2vec2-large-xlsr-53\", \n",
        "    attention_dropout=0.1,\n",
        "    hidden_dropout=0.1,\n",
        "    feat_proj_dropout=0.0,\n",
        "    mask_time_prob=0.05,\n",
        "    layerdrop=0.1,\n",
        "    ctc_loss_reduction=\"mean\", \n",
        "    pad_token_id=processor.tokenizer.pad_token_id,\n",
        "    vocab_size=len(processor.tokenizer)\n",
        ")"
      ],
      "execution_count": null,
      "outputs": [
        {
          "output_type": "display_data",
          "data": {
            "application/vnd.jupyter.widget-view+json": {
              "model_id": "b147417e119f4904a81a2c6343ee9d2a",
              "version_minor": 0,
              "version_major": 2
            },
            "text/plain": [
              "Downloading:   0%|          | 0.00/1.73k [00:00<?, ?B/s]"
            ]
          },
          "metadata": {}
        },
        {
          "output_type": "display_data",
          "data": {
            "application/vnd.jupyter.widget-view+json": {
              "model_id": "73e1cc57b7fb4186b52bb773f86c77ac",
              "version_minor": 0,
              "version_major": 2
            },
            "text/plain": [
              "Downloading:   0%|          | 0.00/1.18G [00:00<?, ?B/s]"
            ]
          },
          "metadata": {}
        },
        {
          "output_type": "stream",
          "name": "stderr",
          "text": [
            "Some weights of the model checkpoint at facebook/wav2vec2-large-xlsr-53 were not used when initializing Wav2Vec2ForCTC: ['project_hid.weight', 'quantizer.weight_proj.weight', 'quantizer.codevectors', 'project_hid.bias', 'quantizer.weight_proj.bias', 'project_q.bias', 'project_q.weight']\n",
            "- This IS expected if you are initializing Wav2Vec2ForCTC from the checkpoint of a model trained on another task or with another architecture (e.g. initializing a BertForSequenceClassification model from a BertForPreTraining model).\n",
            "- This IS NOT expected if you are initializing Wav2Vec2ForCTC from the checkpoint of a model that you expect to be exactly identical (initializing a BertForSequenceClassification model from a BertForSequenceClassification model).\n",
            "Some weights of Wav2Vec2ForCTC were not initialized from the model checkpoint at facebook/wav2vec2-large-xlsr-53 and are newly initialized: ['lm_head.bias', 'lm_head.weight']\n",
            "You should probably TRAIN this model on a down-stream task to be able to use it for predictions and inference.\n"
          ]
        }
      ]
    },
    {
      "cell_type": "markdown",
      "metadata": {
        "id": "1DwR3XLSzGDD"
      },
      "source": [
        "The first component of XLSR-Wav2Vec2 consists of a stack of CNN layers that are used to extract acoustically meaningful - but contextually independent - features from the raw speech signal. This part of the model has already been sufficiently trained during pretraining and as stated in the [paper](https://arxiv.org/pdf/2006.13979.pdf) does not need to be fine-tuned anymore. \n",
        "Thus, we can set the `requires_grad` to `False` for all parameters of the *feature extraction* part."
      ]
    },
    {
      "cell_type": "code",
      "metadata": {
        "id": "oGI8zObtZ3V0"
      },
      "source": [
        "model.freeze_feature_extractor()"
      ],
      "execution_count": null,
      "outputs": []
    },
    {
      "cell_type": "markdown",
      "metadata": {
        "id": "3y34yOlVWZca"
      },
      "source": [
        "In addition, let's enable gradient checkpointing to save some memory."
      ]
    },
    {
      "cell_type": "code",
      "metadata": {
        "id": "JE8uF0dFWeSw"
      },
      "source": [
        "model.gradient_checkpointing_enable()"
      ],
      "execution_count": null,
      "outputs": []
    },
    {
      "cell_type": "markdown",
      "metadata": {
        "id": "lD4aGhQM0K-D"
      },
      "source": [
        "In a final step, we define all parameters related to training. \n",
        "To give more explanation on some of the parameters:\n",
        "- `group_by_length` makes training more efficient by grouping training samples of similar input length into one batch. This can significantly speed up training time by heavily reducing the overall number of useless padding tokens that are passed through the model\n",
        "- `learning_rate` and `weight_decay` were heuristically tuned until fine-tuning has become stable. Note that those parameters strongly depend on the Common Voice dataset and might be suboptimal for other speech datasets.\n",
        "\n",
        "For more explanations on other parameters, one can take a look at the [docs](https://huggingface.co/transformers/master/main_classes/trainer.html?highlight=trainer#trainingarguments).\n",
        "\n",
        "**Note**: If one wants to save the trained models in his/her google drive the commented-out `output_dir` can be used instead."
      ]
    },
    {
      "cell_type": "code",
      "metadata": {
        "id": "KbeKSV7uzGPP"
      },
      "source": [
        "from transformers import TrainingArguments\n",
        "\n",
        "training_args = TrainingArguments(\n",
        "  output_dir=\"./wav2vec2-large-xlsr-latvian-demo\",\n",
        "  group_by_length=True,\n",
        "  per_device_train_batch_size=16,\n",
        "  gradient_accumulation_steps=2,\n",
        "  evaluation_strategy=\"steps\",\n",
        "  num_train_epochs=30,\n",
        "  fp16=True,\n",
        "  save_steps=500,\n",
        "  eval_steps=100,\n",
        "  logging_steps=10,\n",
        "  learning_rate=3e-4,\n",
        "  warmup_steps=500,\n",
        "  save_total_limit=2,\n",
        ")"
      ],
      "execution_count": null,
      "outputs": []
    },
    {
      "cell_type": "markdown",
      "metadata": {
        "id": "OsW-WZcL1ZtN"
      },
      "source": [
        "Now, all instances can be passed to Trainer and we are ready to start training!"
      ]
    },
    {
      "cell_type": "code",
      "metadata": {
        "id": "rY7vBmFCPFgC",
        "colab": {
          "base_uri": "https://localhost:8080/"
        },
        "outputId": "d3b10caf-fc57-4aa8-8110-726e463e84ab"
      },
      "source": [
        "from transformers import Trainer\n",
        "\n",
        "trainer = Trainer(\n",
        "    model=model,\n",
        "    data_collator=data_collator,\n",
        "    args=training_args,\n",
        "    compute_metrics=compute_metrics,\n",
        "    train_dataset=common_voice_train,\n",
        "    eval_dataset=common_voice_test,\n",
        "    tokenizer=processor.feature_extractor,\n",
        ")"
      ],
      "execution_count": null,
      "outputs": [
        {
          "output_type": "stream",
          "name": "stderr",
          "text": [
            "Using amp fp16 backend\n"
          ]
        }
      ]
    },
    {
      "cell_type": "markdown",
      "metadata": {
        "id": "UoXBx1JAA0DX"
      },
      "source": [
        "\n",
        "\n",
        "---\n",
        "\n",
        "${}^1$ To allow models to become independent of the speaker rate, in CTC, consecutive tokens that are identical are simply grouped as a single token. However, the encoded labels should not be grouped when decoding since they don't correspond to the predicted tokens of the model, which is why the `group_tokens=False` parameter has to be passed. If we wouldn't pass this parameter a word like `\"hello\"` would incorrectly be encoded, and decoded as `\"helo\"`.\n",
        "\n",
        "${}^2$ The blank token allows the model to predict a word, such as `\"hello\"` by forcing it to insert the blank token between the two l's. A CTC-conform prediction of `\"hello\"` of our model would be `[PAD] [PAD] \"h\" \"e\" \"e\" \"l\" \"l\" [PAD] \"l\" \"o\" \"o\" [PAD]`."
      ]
    },
    {
      "cell_type": "markdown",
      "metadata": {
        "id": "rpvZHM1xReIW"
      },
      "source": [
        "### Training"
      ]
    },
    {
      "cell_type": "markdown",
      "metadata": {
        "id": "j-3oKSzZ1hGq"
      },
      "source": [
        "Training will take multiple hours depending on the GPU allocated to this notebook. While the trained model yields somewhat satisfying results on *Common Voice*'s test data of Latvian, it is by no means an optimally fine-tuned model. The purpose of this notebook is to demonstrate how XLSR-Wav2Vec2's [checkpoint](https://huggingface.co/facebook/wav2vec2-large-xlsr-53) can be fine-tuned on a low-resource ASR dataset.\n",
        "\n",
        "In case you want to use this google colab to fine-tune your model, you should make sure that your training doesn't stop due to inactivity. A simple hack to prevent this is to paste the following code into the console of this tab (*right mouse click -> inspect -> Console tab and insert code*)."
      ]
    },
    {
      "cell_type": "markdown",
      "metadata": {
        "id": "VYYAvgkW4P0m"
      },
      "source": [
        "```javascript\n",
        "function ConnectButton(){\n",
        "    console.log(\"Connect pushed\"); \n",
        "    document.querySelector(\"#top-toolbar > colab-connect-button\").shadowRoot.querySelector(\"#connect\").click() \n",
        "}\n",
        "setInterval(ConnectButton,60000);\n",
        "```"
      ]
    },
    {
      "cell_type": "code",
      "metadata": {
        "id": "_UEjJqGsQw24",
        "colab": {
          "base_uri": "https://localhost:8080/",
          "height": 1000
        },
        "outputId": "290b6b1c-cd7e-4e61-d211-39b703a23455"
      },
      "source": [
        "trainer.train()"
      ],
      "execution_count": null,
      "outputs": [
        {
          "metadata": {
            "tags": null
          },
          "name": "stderr",
          "output_type": "stream",
          "text": [
            "***** Running training *****\n",
            "  Num examples = 4554\n",
            "  Num Epochs = 30\n",
            "  Instantaneous batch size per device = 16\n",
            "  Total train batch size (w. parallel, distributed & accumulation) = 32\n",
            "  Gradient Accumulation steps = 2\n",
            "  Total optimization steps = 4260\n",
            "/usr/local/lib/python3.7/dist-packages/transformers/feature_extraction_utils.py:158: UserWarning: Creating a tensor from a list of numpy.ndarrays is extremely slow. Please consider converting the list to a single numpy.ndarray with numpy.array() before converting to a tensor. (Triggered internally at  ../torch/csrc/utils/tensor_new.cpp:201.)\n",
            "  tensor = as_tensor(value)\n",
            "/usr/local/lib/python3.7/dist-packages/transformers/models/wav2vec2/modeling_wav2vec2.py:882: UserWarning: __floordiv__ is deprecated, and its behavior will change in a future version of pytorch. It currently rounds toward 0 (like the 'trunc' function NOT 'floor'). This results in incorrect rounding for negative values. To keep the current behavior, use torch.div(a, b, rounding_mode='trunc'), or for actual floor division, use torch.div(a, b, rounding_mode='floor').\n",
            "  return (input_length - kernel_size) // stride + 1\n"
          ]
        },
        {
          "data": {
            "text/html": [
              "\n",
              "    <div>\n",
              "      \n",
              "      <progress value='1401' max='4260' style='width:300px; height:20px; vertical-align: middle;'></progress>\n",
              "      [1401/4260 1:55:20 < 3:55:43, 0.20 it/s, Epoch 9.86/30]\n",
              "    </div>\n",
              "    <table border=\"1\" class=\"dataframe\">\n",
              "  <thead>\n",
              "    <tr style=\"text-align: left;\">\n",
              "      <th>Step</th>\n",
              "      <th>Training Loss</th>\n",
              "      <th>Validation Loss</th>\n",
              "      <th>Wer</th>\n",
              "    </tr>\n",
              "  </thead>\n",
              "  <tbody>\n",
              "    <tr>\n",
              "      <td>100</td>\n",
              "      <td>6.626300</td>\n",
              "      <td>4.869083</td>\n",
              "      <td>1.000000</td>\n",
              "    </tr>\n",
              "    <tr>\n",
              "      <td>200</td>\n",
              "      <td>3.221400</td>\n",
              "      <td>3.187550</td>\n",
              "      <td>1.000000</td>\n",
              "    </tr>\n",
              "    <tr>\n",
              "      <td>300</td>\n",
              "      <td>3.108300</td>\n",
              "      <td>3.106840</td>\n",
              "      <td>1.000000</td>\n",
              "    </tr>\n",
              "    <tr>\n",
              "      <td>400</td>\n",
              "      <td>2.921000</td>\n",
              "      <td>2.789881</td>\n",
              "      <td>1.000000</td>\n",
              "    </tr>\n",
              "    <tr>\n",
              "      <td>500</td>\n",
              "      <td>1.026700</td>\n",
              "      <td>0.856041</td>\n",
              "      <td>0.875407</td>\n",
              "    </tr>\n",
              "    <tr>\n",
              "      <td>600</td>\n",
              "      <td>0.698700</td>\n",
              "      <td>0.568292</td>\n",
              "      <td>0.739028</td>\n",
              "    </tr>\n",
              "    <tr>\n",
              "      <td>700</td>\n",
              "      <td>0.579200</td>\n",
              "      <td>0.492828</td>\n",
              "      <td>0.695925</td>\n",
              "    </tr>\n",
              "    <tr>\n",
              "      <td>800</td>\n",
              "      <td>0.442300</td>\n",
              "      <td>0.448321</td>\n",
              "      <td>0.648445</td>\n",
              "    </tr>\n",
              "    <tr>\n",
              "      <td>900</td>\n",
              "      <td>0.390500</td>\n",
              "      <td>0.510273</td>\n",
              "      <td>0.651925</td>\n",
              "    </tr>\n",
              "    <tr>\n",
              "      <td>1000</td>\n",
              "      <td>0.379600</td>\n",
              "      <td>0.499211</td>\n",
              "      <td>0.640364</td>\n",
              "    </tr>\n",
              "    <tr>\n",
              "      <td>1100</td>\n",
              "      <td>0.330500</td>\n",
              "      <td>0.440745</td>\n",
              "      <td>0.595465</td>\n",
              "    </tr>\n",
              "    <tr>\n",
              "      <td>1200</td>\n",
              "      <td>0.262800</td>\n",
              "      <td>0.455208</td>\n",
              "      <td>0.598945</td>\n",
              "    </tr>\n",
              "    <tr>\n",
              "      <td>1300</td>\n",
              "      <td>0.312200</td>\n",
              "      <td>0.438007</td>\n",
              "      <td>0.590751</td>\n",
              "    </tr>\n",
              "  </tbody>\n",
              "</table><p>\n",
              "    <div>\n",
              "      \n",
              "      <progress value='26' max='236' style='width:300px; height:20px; vertical-align: middle;'></progress>\n",
              "      [ 26/236 00:26 < 03:38, 0.96 it/s]\n",
              "    </div>\n",
              "    "
            ],
            "text/plain": [
              "<IPython.core.display.HTML object>"
            ]
          },
          "metadata": {},
          "output_type": "display_data"
        },
        {
          "metadata": {
            "tags": null
          },
          "name": "stderr",
          "output_type": "stream",
          "text": [
            "***** Running Evaluation *****\n",
            "  Num examples = 1882\n",
            "  Batch size = 8\n",
            "***** Running Evaluation *****\n",
            "  Num examples = 1882\n",
            "  Batch size = 8\n",
            "***** Running Evaluation *****\n",
            "  Num examples = 1882\n",
            "  Batch size = 8\n",
            "***** Running Evaluation *****\n",
            "  Num examples = 1882\n",
            "  Batch size = 8\n",
            "***** Running Evaluation *****\n",
            "  Num examples = 1882\n",
            "  Batch size = 8\n",
            "Saving model checkpoint to ./wav2vec2-large-xlsr-latvian-demo/checkpoint-500\n",
            "Configuration saved in ./wav2vec2-large-xlsr-latvian-demo/checkpoint-500/config.json\n",
            "Model weights saved in ./wav2vec2-large-xlsr-latvian-demo/checkpoint-500/pytorch_model.bin\n",
            "Configuration saved in ./wav2vec2-large-xlsr-latvian-demo/checkpoint-500/preprocessor_config.json\n",
            "/usr/local/lib/python3.7/dist-packages/transformers/models/wav2vec2/modeling_wav2vec2.py:882: UserWarning: __floordiv__ is deprecated, and its behavior will change in a future version of pytorch. It currently rounds toward 0 (like the 'trunc' function NOT 'floor'). This results in incorrect rounding for negative values. To keep the current behavior, use torch.div(a, b, rounding_mode='trunc'), or for actual floor division, use torch.div(a, b, rounding_mode='floor').\n",
            "  return (input_length - kernel_size) // stride + 1\n",
            "***** Running Evaluation *****\n",
            "  Num examples = 1882\n",
            "  Batch size = 8\n",
            "***** Running Evaluation *****\n",
            "  Num examples = 1882\n",
            "  Batch size = 8\n",
            "***** Running Evaluation *****\n",
            "  Num examples = 1882\n",
            "  Batch size = 8\n",
            "***** Running Evaluation *****\n",
            "  Num examples = 1882\n",
            "  Batch size = 8\n",
            "***** Running Evaluation *****\n",
            "  Num examples = 1882\n",
            "  Batch size = 8\n",
            "Saving model checkpoint to ./wav2vec2-large-xlsr-latvian-demo/checkpoint-1000\n",
            "Configuration saved in ./wav2vec2-large-xlsr-latvian-demo/checkpoint-1000/config.json\n",
            "Model weights saved in ./wav2vec2-large-xlsr-latvian-demo/checkpoint-1000/pytorch_model.bin\n",
            "Configuration saved in ./wav2vec2-large-xlsr-latvian-demo/checkpoint-1000/preprocessor_config.json\n",
            "/usr/local/lib/python3.7/dist-packages/transformers/models/wav2vec2/modeling_wav2vec2.py:882: UserWarning: __floordiv__ is deprecated, and its behavior will change in a future version of pytorch. It currently rounds toward 0 (like the 'trunc' function NOT 'floor'). This results in incorrect rounding for negative values. To keep the current behavior, use torch.div(a, b, rounding_mode='trunc'), or for actual floor division, use torch.div(a, b, rounding_mode='floor').\n",
            "  return (input_length - kernel_size) // stride + 1\n",
            "***** Running Evaluation *****\n",
            "  Num examples = 1882\n",
            "  Batch size = 8\n",
            "***** Running Evaluation *****\n",
            "  Num examples = 1882\n",
            "  Batch size = 8\n",
            "***** Running Evaluation *****\n",
            "  Num examples = 1882\n",
            "  Batch size = 8\n",
            "***** Running Evaluation *****\n",
            "  Num examples = 1882\n",
            "  Batch size = 8\n"
          ]
        },
        {
          "output_type": "display_data",
          "data": {
            "text/html": [
              "\n",
              "    <div>\n",
              "      \n",
              "      <progress value='2563' max='4260' style='width:300px; height:20px; vertical-align: middle;'></progress>\n",
              "      [2563/4260 3:36:43 < 2:23:36, 0.20 it/s, Epoch 18.04/30]\n",
              "    </div>\n",
              "    <table border=\"1\" class=\"dataframe\">\n",
              "  <thead>\n",
              "    <tr style=\"text-align: left;\">\n",
              "      <th>Step</th>\n",
              "      <th>Training Loss</th>\n",
              "      <th>Validation Loss</th>\n",
              "      <th>Wer</th>\n",
              "    </tr>\n",
              "  </thead>\n",
              "  <tbody>\n",
              "    <tr>\n",
              "      <td>100</td>\n",
              "      <td>6.626300</td>\n",
              "      <td>4.869083</td>\n",
              "      <td>1.000000</td>\n",
              "    </tr>\n",
              "    <tr>\n",
              "      <td>200</td>\n",
              "      <td>3.221400</td>\n",
              "      <td>3.187550</td>\n",
              "      <td>1.000000</td>\n",
              "    </tr>\n",
              "    <tr>\n",
              "      <td>300</td>\n",
              "      <td>3.108300</td>\n",
              "      <td>3.106840</td>\n",
              "      <td>1.000000</td>\n",
              "    </tr>\n",
              "    <tr>\n",
              "      <td>400</td>\n",
              "      <td>2.921000</td>\n",
              "      <td>2.789881</td>\n",
              "      <td>1.000000</td>\n",
              "    </tr>\n",
              "    <tr>\n",
              "      <td>500</td>\n",
              "      <td>1.026700</td>\n",
              "      <td>0.856041</td>\n",
              "      <td>0.875407</td>\n",
              "    </tr>\n",
              "    <tr>\n",
              "      <td>600</td>\n",
              "      <td>0.698700</td>\n",
              "      <td>0.568292</td>\n",
              "      <td>0.739028</td>\n",
              "    </tr>\n",
              "    <tr>\n",
              "      <td>700</td>\n",
              "      <td>0.579200</td>\n",
              "      <td>0.492828</td>\n",
              "      <td>0.695925</td>\n",
              "    </tr>\n",
              "    <tr>\n",
              "      <td>800</td>\n",
              "      <td>0.442300</td>\n",
              "      <td>0.448321</td>\n",
              "      <td>0.648445</td>\n",
              "    </tr>\n",
              "    <tr>\n",
              "      <td>900</td>\n",
              "      <td>0.390500</td>\n",
              "      <td>0.510273</td>\n",
              "      <td>0.651925</td>\n",
              "    </tr>\n",
              "    <tr>\n",
              "      <td>1000</td>\n",
              "      <td>0.379600</td>\n",
              "      <td>0.499211</td>\n",
              "      <td>0.640364</td>\n",
              "    </tr>\n",
              "    <tr>\n",
              "      <td>1100</td>\n",
              "      <td>0.330500</td>\n",
              "      <td>0.440745</td>\n",
              "      <td>0.595465</td>\n",
              "    </tr>\n",
              "    <tr>\n",
              "      <td>1200</td>\n",
              "      <td>0.262800</td>\n",
              "      <td>0.455208</td>\n",
              "      <td>0.598945</td>\n",
              "    </tr>\n",
              "    <tr>\n",
              "      <td>1300</td>\n",
              "      <td>0.312200</td>\n",
              "      <td>0.438007</td>\n",
              "      <td>0.590751</td>\n",
              "    </tr>\n",
              "    <tr>\n",
              "      <td>1400</td>\n",
              "      <td>0.205100</td>\n",
              "      <td>0.454814</td>\n",
              "      <td>0.587384</td>\n",
              "    </tr>\n",
              "    <tr>\n",
              "      <td>1500</td>\n",
              "      <td>0.245700</td>\n",
              "      <td>0.411531</td>\n",
              "      <td>0.570771</td>\n",
              "    </tr>\n",
              "    <tr>\n",
              "      <td>1600</td>\n",
              "      <td>0.240200</td>\n",
              "      <td>0.436805</td>\n",
              "      <td>0.561230</td>\n",
              "    </tr>\n",
              "    <tr>\n",
              "      <td>1700</td>\n",
              "      <td>0.220900</td>\n",
              "      <td>0.432979</td>\n",
              "      <td>0.569424</td>\n",
              "    </tr>\n",
              "    <tr>\n",
              "      <td>1800</td>\n",
              "      <td>0.229700</td>\n",
              "      <td>0.447927</td>\n",
              "      <td>0.569312</td>\n",
              "    </tr>\n",
              "    <tr>\n",
              "      <td>1900</td>\n",
              "      <td>0.199300</td>\n",
              "      <td>0.486081</td>\n",
              "      <td>0.565047</td>\n",
              "    </tr>\n",
              "    <tr>\n",
              "      <td>2000</td>\n",
              "      <td>0.198300</td>\n",
              "      <td>0.430989</td>\n",
              "      <td>0.566394</td>\n",
              "    </tr>\n",
              "    <tr>\n",
              "      <td>2100</td>\n",
              "      <td>0.182300</td>\n",
              "      <td>0.427049</td>\n",
              "      <td>0.552475</td>\n",
              "    </tr>\n",
              "    <tr>\n",
              "      <td>2200</td>\n",
              "      <td>0.188800</td>\n",
              "      <td>0.413226</td>\n",
              "      <td>0.548210</td>\n",
              "    </tr>\n",
              "    <tr>\n",
              "      <td>2300</td>\n",
              "      <td>0.163100</td>\n",
              "      <td>0.462409</td>\n",
              "      <td>0.556965</td>\n",
              "    </tr>\n",
              "    <tr>\n",
              "      <td>2400</td>\n",
              "      <td>0.199100</td>\n",
              "      <td>0.427570</td>\n",
              "      <td>0.539791</td>\n",
              "    </tr>\n",
              "    <tr>\n",
              "      <td>2500</td>\n",
              "      <td>0.159700</td>\n",
              "      <td>0.419101</td>\n",
              "      <td>0.528679</td>\n",
              "    </tr>\n",
              "  </tbody>\n",
              "</table><p>"
            ],
            "text/plain": [
              "<IPython.core.display.HTML object>"
            ]
          },
          "metadata": {}
        },
        {
          "output_type": "stream",
          "name": "stderr",
          "text": [
            "***** Running Evaluation *****\n",
            "  Num examples = 1882\n",
            "  Batch size = 8\n",
            "Saving model checkpoint to ./wav2vec2-large-xlsr-latvian-demo/checkpoint-1500\n",
            "Configuration saved in ./wav2vec2-large-xlsr-latvian-demo/checkpoint-1500/config.json\n",
            "Model weights saved in ./wav2vec2-large-xlsr-latvian-demo/checkpoint-1500/pytorch_model.bin\n",
            "Configuration saved in ./wav2vec2-large-xlsr-latvian-demo/checkpoint-1500/preprocessor_config.json\n",
            "Deleting older checkpoint [wav2vec2-large-xlsr-latvian-demo/checkpoint-500] due to args.save_total_limit\n",
            "/usr/local/lib/python3.7/dist-packages/transformers/models/wav2vec2/modeling_wav2vec2.py:882: UserWarning: __floordiv__ is deprecated, and its behavior will change in a future version of pytorch. It currently rounds toward 0 (like the 'trunc' function NOT 'floor'). This results in incorrect rounding for negative values. To keep the current behavior, use torch.div(a, b, rounding_mode='trunc'), or for actual floor division, use torch.div(a, b, rounding_mode='floor').\n",
            "  return (input_length - kernel_size) // stride + 1\n",
            "***** Running Evaluation *****\n",
            "  Num examples = 1882\n",
            "  Batch size = 8\n",
            "***** Running Evaluation *****\n",
            "  Num examples = 1882\n",
            "  Batch size = 8\n",
            "***** Running Evaluation *****\n",
            "  Num examples = 1882\n",
            "  Batch size = 8\n",
            "***** Running Evaluation *****\n",
            "  Num examples = 1882\n",
            "  Batch size = 8\n",
            "***** Running Evaluation *****\n",
            "  Num examples = 1882\n",
            "  Batch size = 8\n",
            "Saving model checkpoint to ./wav2vec2-large-xlsr-latvian-demo/checkpoint-2000\n",
            "Configuration saved in ./wav2vec2-large-xlsr-latvian-demo/checkpoint-2000/config.json\n",
            "Model weights saved in ./wav2vec2-large-xlsr-latvian-demo/checkpoint-2000/pytorch_model.bin\n",
            "Configuration saved in ./wav2vec2-large-xlsr-latvian-demo/checkpoint-2000/preprocessor_config.json\n",
            "Deleting older checkpoint [wav2vec2-large-xlsr-latvian-demo/checkpoint-1000] due to args.save_total_limit\n",
            "/usr/local/lib/python3.7/dist-packages/transformers/models/wav2vec2/modeling_wav2vec2.py:882: UserWarning: __floordiv__ is deprecated, and its behavior will change in a future version of pytorch. It currently rounds toward 0 (like the 'trunc' function NOT 'floor'). This results in incorrect rounding for negative values. To keep the current behavior, use torch.div(a, b, rounding_mode='trunc'), or for actual floor division, use torch.div(a, b, rounding_mode='floor').\n",
            "  return (input_length - kernel_size) // stride + 1\n",
            "***** Running Evaluation *****\n",
            "  Num examples = 1882\n",
            "  Batch size = 8\n",
            "***** Running Evaluation *****\n",
            "  Num examples = 1882\n",
            "  Batch size = 8\n",
            "***** Running Evaluation *****\n",
            "  Num examples = 1882\n",
            "  Batch size = 8\n",
            "***** Running Evaluation *****\n",
            "  Num examples = 1882\n",
            "  Batch size = 8\n",
            "***** Running Evaluation *****\n",
            "  Num examples = 1882\n",
            "  Batch size = 8\n",
            "Saving model checkpoint to ./wav2vec2-large-xlsr-latvian-demo/checkpoint-2500\n",
            "Configuration saved in ./wav2vec2-large-xlsr-latvian-demo/checkpoint-2500/config.json\n",
            "Model weights saved in ./wav2vec2-large-xlsr-latvian-demo/checkpoint-2500/pytorch_model.bin\n",
            "Configuration saved in ./wav2vec2-large-xlsr-latvian-demo/checkpoint-2500/preprocessor_config.json\n",
            "Deleting older checkpoint [wav2vec2-large-xlsr-latvian-demo/checkpoint-1500] due to args.save_total_limit\n",
            "/usr/local/lib/python3.7/dist-packages/transformers/models/wav2vec2/modeling_wav2vec2.py:882: UserWarning: __floordiv__ is deprecated, and its behavior will change in a future version of pytorch. It currently rounds toward 0 (like the 'trunc' function NOT 'floor'). This results in incorrect rounding for negative values. To keep the current behavior, use torch.div(a, b, rounding_mode='trunc'), or for actual floor division, use torch.div(a, b, rounding_mode='floor').\n",
            "  return (input_length - kernel_size) // stride + 1\n"
          ]
        }
      ]
    },
    {
      "cell_type": "markdown",
      "metadata": {
        "id": "RHIVc44_fY2N"
      },
      "source": [
        "The training and validation loss go down nicely. The WER starts improving only at a later stage. Because this notebook is just for demonstration purposes, we can stop here.\n",
        "\n",
        "To fine-tune larger models on larger datasets using CTC loss, one should take a look at the official speech-recognition examples [here](https://github.com/huggingface/transformers/tree/master/examples/pytorch/speech-recognition#connectionist-temporal-classification-without-language-model-ctc-wo-lm) 🤗."
      ]
    }
  ]
}